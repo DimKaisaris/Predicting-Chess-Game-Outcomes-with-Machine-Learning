{
 "cells": [
  {
   "cell_type": "code",
   "execution_count": 1,
   "id": "c4f44e4c",
   "metadata": {},
   "outputs": [],
   "source": [
    "import joblib\n",
    "import numpy as np\n",
    "import pandas as pd\n",
    "from sklearn.compose import ColumnTransformer\n",
    "from sklearn.pipeline import Pipeline"
   ]
  },
  {
   "cell_type": "code",
   "execution_count": 2,
   "id": "3b7acb6d",
   "metadata": {},
   "outputs": [],
   "source": [
    "preprocessor = joblib.load(\"preprocessor_unfitted.joblib\")\n",
    "best_random_forest = joblib.load(\"Models/best_random_forest.joblib\")"
   ]
  },
  {
   "cell_type": "code",
   "execution_count": 3,
   "id": "66587689",
   "metadata": {},
   "outputs": [],
   "source": [
    "# Load data\n",
    "train = pd.read_csv(\"train.csv\")\n",
    "test = pd.read_csv(\"test.csv\")\n",
    "\n",
    "# Split features/target\n",
    "X_train = train.drop('Score', axis=1)\n",
    "y_train = train['Score']\n",
    "X_test  = test.drop('Score', axis=1)\n",
    "y_test  = test['Score']"
   ]
  },
  {
   "cell_type": "code",
   "execution_count": 4,
   "id": "72d35dd4",
   "metadata": {},
   "outputs": [],
   "source": [
    "X_train_transformed = preprocessor.fit_transform(X_train)\n",
    "X_test_transformed  = preprocessor.transform(X_test)"
   ]
  },
  {
   "cell_type": "code",
   "execution_count": 5,
   "id": "5c9c7d3d",
   "metadata": {},
   "outputs": [],
   "source": [
    "row = X_test_transformed[0].reshape(1, -1)"
   ]
  },
  {
   "cell_type": "code",
   "execution_count": 6,
   "id": "2b9e09b1",
   "metadata": {},
   "outputs": [],
   "source": [
    "probas = best_random_forest.predict_proba(row)[0]"
   ]
  },
  {
   "cell_type": "code",
   "execution_count": 7,
   "id": "90f0109b",
   "metadata": {},
   "outputs": [
    {
     "name": "stdout",
     "output_type": "stream",
     "text": [
      "Black Win: 50.5%\n",
      "Draw: 4.1%\n",
      "White Win: 45.5%\n"
     ]
    }
   ],
   "source": [
    "for cls, p in zip(best_random_forest.classes_, probas):\n",
    "    print(f\"{cls}: {p * 100:.1f}%\")"
   ]
  },
  {
   "cell_type": "code",
   "execution_count": 8,
   "id": "c8cd14ec",
   "metadata": {},
   "outputs": [
    {
     "data": {
      "text/plain": [
       "<1x19 sparse matrix of type '<class 'numpy.float64'>'\n",
       "\twith 5 stored elements in Compressed Sparse Row format>"
      ]
     },
     "execution_count": 8,
     "metadata": {},
     "output_type": "execute_result"
    }
   ],
   "source": [
    "X_test_transformed[0]"
   ]
  },
  {
   "cell_type": "code",
   "execution_count": 13,
   "id": "9c682715",
   "metadata": {},
   "outputs": [
    {
     "data": {
      "text/plain": [
       "WhiteElo                      2066\n",
       "EloDif                         -42\n",
       "Opening_name        Queen's Gambit\n",
       "Time_format                bullet \n",
       "Increment_binary                No\n",
       "Name: 0, dtype: object"
      ]
     },
     "execution_count": 13,
     "metadata": {},
     "output_type": "execute_result"
    }
   ],
   "source": [
    "X_test.iloc[0] \n"
   ]
  },
  {
   "cell_type": "code",
   "execution_count": 14,
   "id": "1defa5f8",
   "metadata": {},
   "outputs": [
    {
     "name": "stdout",
     "output_type": "stream",
     "text": [
      "Game 1:\n",
      "  WhiteElo=2066 | EloDif=-42 | Opening_name=Queen's Gambit | Time_format= bullet  | Increment_binary=No\n",
      "  Predictions:\n",
      "    Black Win: 50.5%\n",
      "    Draw: 4.1%\n",
      "    White Win: 45.5%\n",
      "------------------------------------------------------------\n",
      "Game 2:\n",
      "  WhiteElo=1570 | EloDif=9 | Opening_name=Sicilian defense | Time_format= bullet  | Increment_binary=Yes\n",
      "  Predictions:\n",
      "    Black Win: 50.2%\n",
      "    Draw: 2.9%\n",
      "    White Win: 46.9%\n",
      "------------------------------------------------------------\n",
      "Game 3:\n",
      "  WhiteElo=1487 | EloDif=-31 | Opening_name=Scandinavian Defense (Center-Counter Defense) | Time_format= bullet  | Increment_binary=Yes\n",
      "  Predictions:\n",
      "    Black Win: 54.8%\n",
      "    Draw: 3.3%\n",
      "    White Win: 41.9%\n",
      "------------------------------------------------------------\n",
      "Game 4:\n",
      "  WhiteElo=2382 | EloDif=-32 | Opening_name=Queen's Pawn Game | Time_format= rapid  | Increment_binary=No\n",
      "  Predictions:\n",
      "    Black Win: 46.5%\n",
      "    Draw: 8.0%\n",
      "    White Win: 45.5%\n",
      "------------------------------------------------------------\n",
      "Game 5:\n",
      "  WhiteElo=2266 | EloDif=-101 | Opening_name=Other | Time_format= blitz  | Increment_binary=No\n",
      "  Predictions:\n",
      "    Black Win: 53.2%\n",
      "    Draw: 6.6%\n",
      "    White Win: 40.1%\n",
      "------------------------------------------------------------\n",
      "Game 6:\n",
      "  WhiteElo=3130 | EloDif=-140 | Opening_name=Other | Time_format= bullet  | Increment_binary=No\n",
      "  Predictions:\n",
      "    Black Win: 55.8%\n",
      "    Draw: 7.8%\n",
      "    White Win: 36.4%\n",
      "------------------------------------------------------------\n",
      "Game 7:\n",
      "  WhiteElo=1960 | EloDif=29 | Opening_name=Other | Time_format= rapid  | Increment_binary=No\n",
      "  Predictions:\n",
      "    Black Win: 44.7%\n",
      "    Draw: 3.9%\n",
      "    White Win: 51.4%\n",
      "------------------------------------------------------------\n",
      "Game 8:\n",
      "  WhiteElo=3154 | EloDif=-60 | Opening_name=Sicilian defense | Time_format= bullet  | Increment_binary=No\n",
      "  Predictions:\n",
      "    Black Win: 45.9%\n",
      "    Draw: 6.2%\n",
      "    White Win: 47.9%\n",
      "------------------------------------------------------------\n"
     ]
    }
   ],
   "source": [
    "for i in range(8):\n",
    "    # 1) Grab the i-th original game\n",
    "    feature_vals = X_test.iloc[i]\n",
    "    \n",
    "    # 2) Format & print the raw features\n",
    "    print(f\"Game {i+1}:\")\n",
    "    print(\"  \" + \" | \".join(f\"{col}={feature_vals[col]}\" for col in X_test.columns))\n",
    "    \n",
    "    # 3) Transform & predict probabilities\n",
    "    row_trans = X_test_transformed[i].reshape(1, -1)\n",
    "    probas   = best_random_forest.predict_proba(row_trans)[0]\n",
    "    \n",
    "    # 4) print each class % \n",
    "    print(\"  Predictions:\")\n",
    "    for cls, p in zip(best_random_forest.classes_, probas):\n",
    "        print(f\"    {cls}: {p * 100:.1f}%\")\n",
    "    \n",
    "    print(\"-\" * 60)\n"
   ]
  }
 ],
 "metadata": {
  "kernelspec": {
   "display_name": "Python 3 (ipykernel)",
   "language": "python",
   "name": "python3"
  },
  "language_info": {
   "codemirror_mode": {
    "name": "ipython",
    "version": 3
   },
   "file_extension": ".py",
   "mimetype": "text/x-python",
   "name": "python",
   "nbconvert_exporter": "python",
   "pygments_lexer": "ipython3",
   "version": "3.9.7"
  }
 },
 "nbformat": 4,
 "nbformat_minor": 5
}
