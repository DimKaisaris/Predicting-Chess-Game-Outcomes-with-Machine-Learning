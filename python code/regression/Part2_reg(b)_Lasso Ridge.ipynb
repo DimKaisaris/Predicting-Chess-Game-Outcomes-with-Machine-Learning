{
 "cells": [
  {
   "cell_type": "markdown",
   "id": "32e44246",
   "metadata": {},
   "source": [
    "# Lasso and Ridge"
   ]
  },
  {
   "cell_type": "code",
   "execution_count": 1,
   "id": "1400d1af",
   "metadata": {},
   "outputs": [],
   "source": [
    "import pandas as pd\n",
    "import numpy as np\n",
    "import matplotlib.pyplot as plt \n",
    "from sklearn.linear_model import Lasso, Ridge\n",
    "from sklearn.metrics import mean_squared_error, mean_absolute_error, r2_score\n",
    "from sklearn.pipeline import Pipeline\n",
    "from sklearn.model_selection   import RandomizedSearchCV\n",
    "import joblib"
   ]
  },
  {
   "cell_type": "code",
   "execution_count": 2,
   "id": "1d3e65fc",
   "metadata": {},
   "outputs": [],
   "source": [
    "# Load data\n",
    "train = pd.read_csv(\"train.csv\")\n",
    "test = pd.read_csv(\"test.csv\")\n"
   ]
  },
  {
   "cell_type": "code",
   "execution_count": 3,
   "id": "c75efe9c",
   "metadata": {},
   "outputs": [],
   "source": [
    "# Split features/target\n",
    "X_train = train.drop('Score', axis=1)\n",
    "y_train = train['Score']\n",
    "X_test  = test.drop('Score', axis=1)\n",
    "y_test  = test['Score']"
   ]
  },
  {
   "cell_type": "code",
   "execution_count": 4,
   "id": "7a50739e",
   "metadata": {},
   "outputs": [],
   "source": [
    "preprocessor = joblib.load(\"preprocessor_unfitted.joblib\")"
   ]
  },
  {
   "cell_type": "markdown",
   "id": "8cf703ab",
   "metadata": {},
   "source": [
    "## Lasso"
   ]
  },
  {
   "cell_type": "code",
   "execution_count": 5,
   "id": "c0460435",
   "metadata": {},
   "outputs": [],
   "source": [
    "# Build pipelines\n",
    "lasso_pipe = Pipeline([\n",
    "    (\"prep\", preprocessor),\n",
    "    (\"model\", Lasso(max_iter=5000, random_state=42))\n",
    "])"
   ]
  },
  {
   "cell_type": "code",
   "execution_count": 6,
   "id": "7f388ddb",
   "metadata": {},
   "outputs": [],
   "source": [
    "param_dist = {\n",
    "    \"model__alpha\": np.logspace(-4, 1, 100)  \n",
    "}\n"
   ]
  },
  {
   "cell_type": "code",
   "execution_count": 7,
   "id": "c039861e",
   "metadata": {},
   "outputs": [],
   "source": [
    "#  RandomizedSearchCV with 5-fold CV\n",
    "n_iter_search = 50\n",
    "\n",
    "lasso_search = RandomizedSearchCV(\n",
    "    estimator=lasso_pipe,\n",
    "    param_distributions=param_dist,\n",
    "    n_iter=n_iter_search,\n",
    "    cv=5,\n",
    "    scoring=\"neg_mean_squared_error\",\n",
    "    n_jobs=-1,\n",
    "    random_state=42,\n",
    ")"
   ]
  },
  {
   "cell_type": "code",
   "execution_count": 8,
   "id": "cb3b82a0",
   "metadata": {},
   "outputs": [
    {
     "data": {
      "text/plain": [
       "RandomizedSearchCV(cv=5,\n",
       "                   estimator=Pipeline(steps=[('prep',\n",
       "                                              ColumnTransformer(transformers=[('num',\n",
       "                                                                               Pipeline(steps=[('scaler',\n",
       "                                                                                                StandardScaler())]),\n",
       "                                                                               ['WhiteElo',\n",
       "                                                                                'EloDif']),\n",
       "                                                                              ('cat',\n",
       "                                                                               Pipeline(steps=[('onehot',\n",
       "                                                                                                OneHotEncoder(handle_unknown='ignore'))]),\n",
       "                                                                               ['Opening_name',\n",
       "                                                                                'Time_format',\n",
       "                                                                                'Increment_binary'])])),\n",
       "                                             ('model',\n",
       "                                              Lasso(max_iter=5000,\n",
       "                                                    random_state=42))]),\n",
       "                   n_iter...\n",
       "       1.09749877e+00, 1.23284674e+00, 1.38488637e+00, 1.55567614e+00,\n",
       "       1.74752840e+00, 1.96304065e+00, 2.20513074e+00, 2.47707636e+00,\n",
       "       2.78255940e+00, 3.12571585e+00, 3.51119173e+00, 3.94420606e+00,\n",
       "       4.43062146e+00, 4.97702356e+00, 5.59081018e+00, 6.28029144e+00,\n",
       "       7.05480231e+00, 7.92482898e+00, 8.90215085e+00, 1.00000000e+01])},\n",
       "                   random_state=42, scoring='neg_mean_squared_error')"
      ]
     },
     "execution_count": 8,
     "metadata": {},
     "output_type": "execute_result"
    }
   ],
   "source": [
    "lasso_search.fit(X_train, y_train)"
   ]
  },
  {
   "cell_type": "code",
   "execution_count": 9,
   "id": "f20cc7bc",
   "metadata": {},
   "outputs": [
    {
     "name": "stdout",
     "output_type": "stream",
     "text": [
      "Best params: {'model__alpha': 0.001291549665014884}\n",
      "Lasso best CV MSE: 0.2269\n"
     ]
    }
   ],
   "source": [
    "print(f\"Best params:\", lasso_search.best_params_)\n",
    "print(f\"Lasso best CV MSE: {-lasso_search.best_score_:.4f}\")\n",
    "best_lasso = lasso_search.best_estimator_"
   ]
  },
  {
   "cell_type": "code",
   "execution_count": 10,
   "id": "3c36bbd6",
   "metadata": {},
   "outputs": [
    {
     "name": "stdout",
     "output_type": "stream",
     "text": [
      "Test MSE: 0.2279\n",
      "Test MAE: 0.4599\n",
      "Test R²:  0.0321\n"
     ]
    }
   ],
   "source": [
    "# Final eval on test set\n",
    "y_pred = best_lasso.predict(X_test)\n",
    "print(f\"Test MSE: {mean_squared_error(y_test, y_pred):.4f}\")\n",
    "print(f\"Test MAE: {mean_absolute_error(y_test, y_pred):.4f}\")\n",
    "print(f\"Test R²:  {r2_score(y_test, y_pred):.4f}\")"
   ]
  },
  {
   "cell_type": "code",
   "execution_count": 11,
   "id": "4b092629",
   "metadata": {},
   "outputs": [
    {
     "data": {
      "image/png": "[encoded data removed]",
      "text/plain": [
       "<Figure size 864x432 with 1 Axes>"
      ]
     },
     "metadata": {
      "needs_background": "light"
     },
     "output_type": "display_data"
    }
   ],
   "source": [
    "# Plot the learning curve for the lasso linear model\n",
    "from sklearn.model_selection import learning_curve\n",
    "\n",
    "train_sizes, train_scores, valid_scores = learning_curve(best_lasso,\n",
    "                                                         X_train, y_train,\n",
    "                                                         train_sizes = np.linspace(0.01, 1.0, 40),\n",
    "                                                         cv = 5,\n",
    "                                                         scoring = \"neg_root_mean_squared_error\")\n",
    "\n",
    "train_errors = -train_scores.mean(axis=1)\n",
    "valid_errors = -valid_scores.mean(axis=1)\n",
    "\n",
    "fig = plt.figure(figsize = (12, 6))\n",
    "plt.plot(train_sizes, train_errors, \"r-+\", linewidth=2, label=\"train\")\n",
    "plt.plot(train_sizes, valid_errors, \"b-\", linewidth=3, label=\"valid\")\n",
    "plt.xlabel(\"Training set size\")\n",
    "plt.ylabel(\"RMSE\")\n",
    "plt.grid()\n",
    "plt.legend(loc=\"upper right\")\n",
    "plt.show()"
   ]
  },
  {
   "cell_type": "code",
   "execution_count": 12,
   "id": "ca2ef236",
   "metadata": {},
   "outputs": [
    {
     "data": {
      "text/plain": [
       "['best_lasso.joblib']"
      ]
     },
     "execution_count": 12,
     "metadata": {},
     "output_type": "execute_result"
    }
   ],
   "source": [
    "joblib.dump(best_lasso, \"best_lasso.joblib\")"
   ]
  },
  {
   "cell_type": "markdown",
   "id": "5dd0fa92",
   "metadata": {},
   "source": [
    "## Ridge"
   ]
  },
  {
   "cell_type": "code",
   "execution_count": 13,
   "id": "1c61e8e9",
   "metadata": {},
   "outputs": [],
   "source": [
    "# Build pipelines\n",
    "ridge_pipe = Pipeline([\n",
    "    (\"prep\", preprocessor),\n",
    "    (\"model\", Ridge(random_state=42))\n",
    "])"
   ]
  },
  {
   "cell_type": "code",
   "execution_count": 14,
   "id": "c672b511",
   "metadata": {},
   "outputs": [],
   "source": [
    "param_dist = {\n",
    "    \"model__alpha\": np.logspace(-4, 1, 100)  \n",
    "}\n"
   ]
  },
  {
   "cell_type": "code",
   "execution_count": 15,
   "id": "bb34d918",
   "metadata": {},
   "outputs": [],
   "source": [
    "#  RandomizedSearchCV with 5-fold CV\n",
    "n_iter_search = 50\n",
    "\n",
    "ridge_search = RandomizedSearchCV(\n",
    "    estimator=ridge_pipe,\n",
    "    param_distributions=param_dist,\n",
    "    n_iter=n_iter_search,\n",
    "    cv=5,\n",
    "    scoring=\"neg_mean_squared_error\",\n",
    "    n_jobs=-1,\n",
    "    random_state=42,\n",
    ")"
   ]
  },
  {
   "cell_type": "code",
   "execution_count": 16,
   "id": "01f23b20",
   "metadata": {},
   "outputs": [
    {
     "data": {
      "text/plain": [
       "RandomizedSearchCV(cv=5,\n",
       "                   estimator=Pipeline(steps=[('prep',\n",
       "                                              ColumnTransformer(transformers=[('num',\n",
       "                                                                               Pipeline(steps=[('scaler',\n",
       "                                                                                                StandardScaler())]),\n",
       "                                                                               ['WhiteElo',\n",
       "                                                                                'EloDif']),\n",
       "                                                                              ('cat',\n",
       "                                                                               Pipeline(steps=[('onehot',\n",
       "                                                                                                OneHotEncoder(handle_unknown='ignore'))]),\n",
       "                                                                               ['Opening_name',\n",
       "                                                                                'Time_format',\n",
       "                                                                                'Increment_binary'])])),\n",
       "                                             ('model',\n",
       "                                              Ridge(random_state=42))]),\n",
       "                   n_iter=50, n_jobs=-1,...\n",
       "       1.09749877e+00, 1.23284674e+00, 1.38488637e+00, 1.55567614e+00,\n",
       "       1.74752840e+00, 1.96304065e+00, 2.20513074e+00, 2.47707636e+00,\n",
       "       2.78255940e+00, 3.12571585e+00, 3.51119173e+00, 3.94420606e+00,\n",
       "       4.43062146e+00, 4.97702356e+00, 5.59081018e+00, 6.28029144e+00,\n",
       "       7.05480231e+00, 7.92482898e+00, 8.90215085e+00, 1.00000000e+01])},\n",
       "                   random_state=42, scoring='neg_mean_squared_error')"
      ]
     },
     "execution_count": 16,
     "metadata": {},
     "output_type": "execute_result"
    }
   ],
   "source": [
    "ridge_search.fit(X_train, y_train)"
   ]
  },
  {
   "cell_type": "code",
   "execution_count": 17,
   "id": "ac7a228d",
   "metadata": {},
   "outputs": [
    {
     "name": "stdout",
     "output_type": "stream",
     "text": [
      "Best params: {'model__alpha': 7.054802310718645}\n",
      "Lasso best CV MSE: 0.2269\n"
     ]
    }
   ],
   "source": [
    "print(f\"Best params:\", ridge_search.best_params_)\n",
    "print(f\"Lasso best CV MSE: {-ridge_search.best_score_:.4f}\")\n",
    "best_ridge = ridge_search.best_estimator_"
   ]
  },
  {
   "cell_type": "code",
   "execution_count": 18,
   "id": "1f80b62f",
   "metadata": {},
   "outputs": [
    {
     "name": "stdout",
     "output_type": "stream",
     "text": [
      "Test MSE: 0.2279\n",
      "Test MAE: 0.4597\n",
      "Test R²:  0.0320\n"
     ]
    }
   ],
   "source": [
    "# Final eval on test set\n",
    "y_pred = best_ridge.predict(X_test)\n",
    "print(f\"Test MSE: {mean_squared_error(y_test, y_pred):.4f}\")\n",
    "print(f\"Test MAE: {mean_absolute_error(y_test, y_pred):.4f}\")\n",
    "print(f\"Test R²:  {r2_score(y_test, y_pred):.4f}\")"
   ]
  },
  {
   "cell_type": "code",
   "execution_count": 19,
   "id": "707928ca",
   "metadata": {},
   "outputs": [
    {
     "data": {
      "image/png": "[encoded data removed]",
      "text/plain": [
       "<Figure size 864x432 with 1 Axes>"
      ]
     },
     "metadata": {
      "needs_background": "light"
     },
     "output_type": "display_data"
    }
   ],
   "source": [
    "# Plot the learning curve for the Ridge linear model\n",
    "from sklearn.model_selection import learning_curve\n",
    "\n",
    "train_sizes, train_scores, valid_scores = learning_curve(best_ridge,\n",
    "                                                         X_train, y_train,\n",
    "                                                         train_sizes = np.linspace(0.01, 1.0, 40),\n",
    "                                                         cv = 5,\n",
    "                                                         scoring = \"neg_root_mean_squared_error\")\n",
    "\n",
    "train_errors = -train_scores.mean(axis=1)\n",
    "valid_errors = -valid_scores.mean(axis=1)\n",
    "\n",
    "fig = plt.figure(figsize = (12, 6))\n",
    "plt.plot(train_sizes, train_errors, \"r-+\", linewidth=2, label=\"train\")\n",
    "plt.plot(train_sizes, valid_errors, \"b-\", linewidth=3, label=\"valid\")\n",
    "plt.xlabel(\"Training set size\")\n",
    "plt.ylabel(\"RMSE\")\n",
    "plt.grid()\n",
    "plt.legend(loc=\"upper right\")\n",
    "plt.show()"
   ]
  },
  {
   "cell_type": "code",
   "execution_count": 20,
   "id": "1f7b6844",
   "metadata": {},
   "outputs": [
    {
     "data": {
      "text/plain": [
       "['best_ridge.joblib']"
      ]
     },
     "execution_count": 20,
     "metadata": {},
     "output_type": "execute_result"
    }
   ],
   "source": [
    "joblib.dump(best_ridge, \"best_ridge.joblib\")"
   ]
  }
 ],
 "metadata": {
  "kernelspec": {
   "display_name": "Python 3 (ipykernel)",
   "language": "python",
   "name": "python3"
  },
  "language_info": {
   "codemirror_mode": {
    "name": "ipython",
    "version": 3
   },
   "file_extension": ".py",
   "mimetype": "text/x-python",
   "name": "python",
   "nbconvert_exporter": "python",
   "pygments_lexer": "ipython3",
   "version": "3.9.7"
  }
 },
 "nbformat": 4,
 "nbformat_minor": 5
}
