{
 "cells": [
  {
   "cell_type": "markdown",
   "id": "fe2290be",
   "metadata": {},
   "source": [
    "# Voting using Various Models"
   ]
  },
  {
   "cell_type": "code",
   "execution_count": 1,
   "id": "597c72e6",
   "metadata": {},
   "outputs": [
    {
     "data": {
      "text/html": [
       "<style>.container { width:90% !important; }</style>"
      ],
      "text/plain": [
       "<IPython.core.display.HTML object>"
      ]
     },
     "metadata": {},
     "output_type": "display_data"
    }
   ],
   "source": [
    "# increase the width of the notebook\n",
    "from IPython.display import display, HTML, Markdown\n",
    "\n",
    "display(HTML(\"<style>.container { width:90% !important; }</style>\"))"
   ]
  },
  {
   "cell_type": "code",
   "execution_count": 2,
   "id": "8fdc67fe",
   "metadata": {},
   "outputs": [],
   "source": [
    "import pandas as pd\n",
    "from sklearn.compose import ColumnTransformer\n",
    "from sklearn.pipeline import Pipeline\n",
    "from sklearn.metrics import mean_squared_error, mean_absolute_error, r2_score\n",
    "from sklearn.ensemble import VotingRegressor\n",
    "import numpy as np\n",
    "import joblib"
   ]
  },
  {
   "cell_type": "code",
   "execution_count": 3,
   "id": "935c350c",
   "metadata": {},
   "outputs": [],
   "source": [
    "best_lasso = joblib.load(\"Models/best_lasso.joblib\")\n",
    "best_ridge = joblib.load(\"Models/best_ridge.joblib\")\n",
    "best_poly = joblib.load(\"Models/best_poly.joblib\")\n",
    "best_tree = joblib.load(\"Models/best_tree.joblib\")\n",
    "best_rf = joblib.load(\"Models/best_rf.joblib\")\n",
    "best_et = joblib.load(\"Models/best_et.joblib\")\n",
    "best_ada_boost = joblib.load(\"Models/best_ada_boost.joblib\")\n",
    "best_gb = joblib.load(\"Models/best_gb.joblib\")\n",
    "best_stack_reg = joblib.load(\"Models/best_stack_reg.joblib\")"
   ]
  },
  {
   "cell_type": "code",
   "execution_count": 4,
   "id": "7d582f61",
   "metadata": {},
   "outputs": [],
   "source": [
    "preprocessor = joblib.load(\"preprocessor_unfitted.joblib\")"
   ]
  },
  {
   "cell_type": "code",
   "execution_count": 5,
   "id": "6570c62e",
   "metadata": {},
   "outputs": [],
   "source": [
    "voting = VotingRegressor(\n",
    "    estimators=[\n",
    "        (\"lasso\",     best_lasso),\n",
    "        (\"ridge\",     best_ridge),\n",
    "        (\"poly\",      best_poly),\n",
    "        (\"tree\",      best_tree),\n",
    "        (\"rf\",        best_rf),\n",
    "        (\"et\",        best_et),\n",
    "        (\"ada\",       best_ada_boost),\n",
    "        (\"gb\",        best_gb),\n",
    "        (\"stack\",     best_stack_reg),\n",
    "    ],\n",
    "    n_jobs=-1\n",
    ")"
   ]
  },
  {
   "cell_type": "code",
   "execution_count": 6,
   "id": "cae41c9f",
   "metadata": {},
   "outputs": [],
   "source": [
    "voting_pipeline = Pipeline([\n",
    "    (\"voting\", voting)\n",
    "])"
   ]
  },
  {
   "cell_type": "code",
   "execution_count": 7,
   "id": "8d38b1a0",
   "metadata": {},
   "outputs": [],
   "source": [
    "# Load data\n",
    "train = pd.read_csv(\"train.csv\")\n",
    "test = pd.read_csv(\"test.csv\")"
   ]
  },
  {
   "cell_type": "code",
   "execution_count": 8,
   "id": "182d1be8",
   "metadata": {},
   "outputs": [],
   "source": [
    "# Split features/target\n",
    "X_train = train.drop('Score', axis=1)\n",
    "y_train = train['Score']\n",
    "X_test  = test.drop('Score', axis=1)\n",
    "y_test  = test['Score']"
   ]
  },
  {
   "cell_type": "code",
   "execution_count": 9,
   "id": "b11c9ecc",
   "metadata": {},
   "outputs": [
    {
     "data": {
      "text/plain": [
       "Pipeline(steps=[('voting',\n",
       "                 VotingRegressor(estimators=[('lasso',\n",
       "                                              Pipeline(steps=[('prep',\n",
       "                                                               ColumnTransformer(transformers=[('num',\n",
       "                                                                                                Pipeline(steps=[('scaler',\n",
       "                                                                                                                 StandardScaler())]),\n",
       "                                                                                                ['WhiteElo',\n",
       "                                                                                                 'EloDif']),\n",
       "                                                                                               ('cat',\n",
       "                                                                                                Pipeline(steps=[('onehot',\n",
       "                                                                                                                 OneHotEncoder(handle_unknown='ignore'))]),\n",
       "                                                                                                ['Opening_name',\n",
       "                                                                                                 'Time_format',\n",
       "                                                                                                 'Increment_binary'])])),\n",
       "                                                              ('model',\n",
       "                                                               Lasso(alpha=0.001...\n",
       "                                                                                                ['Opening_name',\n",
       "                                                                                                 'Time_format',\n",
       "                                                                                                 'Increment_binary'])])),\n",
       "                                                              ('model',\n",
       "                                                               StackingRegressor(estimators=[('rf',\n",
       "                                                                                              RandomForestRegressor(max_depth=9,\n",
       "                                                                                                                    n_estimators=200,\n",
       "                                                                                                                    random_state=42)),\n",
       "                                                                                             ('et',\n",
       "                                                                                              ExtraTreesRegressor(max_depth=18,\n",
       "                                                                                                                  random_state=42)),\n",
       "                                                                                             ('gb',\n",
       "                                                                                              GradientBoostingRegressor(random_state=42))],\n",
       "                                                                                 final_estimator=Ridge(alpha=0.05,\n",
       "                                                                                                       random_state=42),\n",
       "                                                                                 n_jobs=-1))]))],\n",
       "                                 n_jobs=-1))])"
      ]
     },
     "execution_count": 9,
     "metadata": {},
     "output_type": "execute_result"
    }
   ],
   "source": [
    "# Fit the voting pipeline\n",
    "voting_pipeline.fit(X_train, y_train)"
   ]
  },
  {
   "cell_type": "code",
   "execution_count": 10,
   "id": "e9f59281",
   "metadata": {},
   "outputs": [
    {
     "name": "stdout",
     "output_type": "stream",
     "text": [
      "VotingRegressor performance:\n",
      "  MSE : 0.2265\n",
      "  MAE : 0.4582\n",
      "   R² : 0.0382\n"
     ]
    }
   ],
   "source": [
    "# Predict & evaluate\n",
    "y_pred = voting_pipeline.predict(X_test)\n",
    "print(\"VotingRegressor performance:\")\n",
    "print(f\"  MSE : {mean_squared_error(y_test, y_pred):.4f}\")\n",
    "print(f\"  MAE : {mean_absolute_error(y_test, y_pred):.4f}\")\n",
    "print(f\"   R² : {r2_score(y_test, y_pred):.4f}\")"
   ]
  },
  {
   "cell_type": "code",
   "execution_count": 11,
   "id": "6ea71d3a",
   "metadata": {},
   "outputs": [
    {
     "data": {
      "text/plain": [
       "['Models/voting_reg_pipeline.joblib']"
      ]
     },
     "execution_count": 11,
     "metadata": {},
     "output_type": "execute_result"
    }
   ],
   "source": [
    "joblib.dump(voting_pipeline, \"Models/voting_reg_pipeline.joblib\")"
   ]
  }
 ],
 "metadata": {
  "kernelspec": {
   "display_name": "Python 3 (ipykernel)",
   "language": "python",
   "name": "python3"
  },
  "language_info": {
   "codemirror_mode": {
    "name": "ipython",
    "version": 3
   },
   "file_extension": ".py",
   "mimetype": "text/x-python",
   "name": "python",
   "nbconvert_exporter": "python",
   "pygments_lexer": "ipython3",
   "version": "3.9.7"
  }
 },
 "nbformat": 4,
 "nbformat_minor": 5
}
