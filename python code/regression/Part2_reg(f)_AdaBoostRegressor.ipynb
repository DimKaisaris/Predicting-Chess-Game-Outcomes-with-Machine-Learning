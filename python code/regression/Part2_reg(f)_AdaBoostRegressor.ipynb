{
 "cells": [
  {
   "cell_type": "markdown",
   "id": "1f422a71",
   "metadata": {},
   "source": [
    "# AdaBoostRegressor"
   ]
  },
  {
   "cell_type": "code",
   "execution_count": 1,
   "id": "9636e3c3",
   "metadata": {},
   "outputs": [],
   "source": [
    "import pandas as pd\n",
    "import numpy as np\n",
    "import matplotlib.pyplot as plt \n",
    "from sklearn.ensemble  import AdaBoostRegressor\n",
    "from sklearn.metrics import mean_squared_error, mean_absolute_error, r2_score\n",
    "from sklearn.pipeline import Pipeline\n",
    "from sklearn.model_selection   import RandomizedSearchCV\n",
    "import joblib"
   ]
  },
  {
   "cell_type": "code",
   "execution_count": 2,
   "id": "cd1b5f61",
   "metadata": {},
   "outputs": [],
   "source": [
    "# Load data\n",
    "train = pd.read_csv(\"train.csv\")\n",
    "test = pd.read_csv(\"test.csv\")"
   ]
  },
  {
   "cell_type": "code",
   "execution_count": 3,
   "id": "7ed31bd8",
   "metadata": {},
   "outputs": [],
   "source": [
    "# Split features/target\n",
    "X_train = train.drop('Score', axis=1)\n",
    "y_train = train['Score']\n",
    "X_test  = test.drop('Score', axis=1)\n",
    "y_test  = test['Score']"
   ]
  },
  {
   "cell_type": "code",
   "execution_count": 4,
   "id": "7017d0f8",
   "metadata": {},
   "outputs": [],
   "source": [
    "preprocessor = joblib.load(\"preprocessor_unfitted.joblib\")"
   ]
  },
  {
   "cell_type": "markdown",
   "id": "620ec91d",
   "metadata": {},
   "source": [
    "## Pipeline and RandomizedSearchCV"
   ]
  },
  {
   "cell_type": "code",
   "execution_count": 5,
   "id": "79d0924c",
   "metadata": {},
   "outputs": [],
   "source": [
    "ada_pipe = Pipeline([\n",
    "    (\"prep\",  preprocessor),\n",
    "    (\"model\", AdaBoostRegressor(random_state=42))\n",
    "])\n"
   ]
  },
  {
   "cell_type": "code",
   "execution_count": 6,
   "id": "5877bd5e",
   "metadata": {},
   "outputs": [],
   "source": [
    "#  “Light” hyper‐parameter distributions\n",
    "ada_param_dist = {\n",
    "    \"model__n_estimators\": [50, 100, 200],\n",
    "    \"model__learning_rate\": [0.01, 0.1, 1.0],\n",
    "    \"model__loss\": [\"linear\", \"square\", \"exponential\"]\n",
    "}"
   ]
  },
  {
   "cell_type": "code",
   "execution_count": 7,
   "id": "8e9fa6bd",
   "metadata": {},
   "outputs": [],
   "source": [
    "#  RandomizedSearchCV \n",
    "ada_search = RandomizedSearchCV(\n",
    "    estimator           = ada_pipe,\n",
    "    param_distributions = ada_param_dist,\n",
    "    n_iter              = 20,    \n",
    "    cv                  = 3,     # 3-fold CV\n",
    "    scoring             = \"neg_mean_squared_error\",\n",
    "    n_jobs              = -1,\n",
    "    random_state        = 42,\n",
    "    verbose             = 2\n",
    ")"
   ]
  },
  {
   "cell_type": "code",
   "execution_count": 8,
   "id": "7dcfafb3",
   "metadata": {},
   "outputs": [
    {
     "name": "stdout",
     "output_type": "stream",
     "text": [
      "Searching AdaBoostRegressor…\n",
      "Fitting 3 folds for each of 20 candidates, totalling 60 fits\n"
     ]
    },
    {
     "data": {
      "text/plain": [
       "RandomizedSearchCV(cv=3,\n",
       "                   estimator=Pipeline(steps=[('prep',\n",
       "                                              ColumnTransformer(transformers=[('num',\n",
       "                                                                               Pipeline(steps=[('scaler',\n",
       "                                                                                                StandardScaler())]),\n",
       "                                                                               ['WhiteElo',\n",
       "                                                                                'EloDif']),\n",
       "                                                                              ('cat',\n",
       "                                                                               Pipeline(steps=[('onehot',\n",
       "                                                                                                OneHotEncoder(handle_unknown='ignore'))]),\n",
       "                                                                               ['Opening_name',\n",
       "                                                                                'Time_format',\n",
       "                                                                                'Increment_binary'])])),\n",
       "                                             ('model',\n",
       "                                              AdaBoostRegressor(random_state=42))]),\n",
       "                   n_iter=20, n_jobs=-1,\n",
       "                   param_distributions={'model__learning_rate': [0.01, 0.1,\n",
       "                                                                 1.0],\n",
       "                                        'model__loss': ['linear', 'square',\n",
       "                                                        'exponential'],\n",
       "                                        'model__n_estimators': [50, 100, 200]},\n",
       "                   random_state=42, scoring='neg_mean_squared_error',\n",
       "                   verbose=2)"
      ]
     },
     "execution_count": 8,
     "metadata": {},
     "output_type": "execute_result"
    }
   ],
   "source": [
    "# Fit & find best\n",
    "print(\"Searching AdaBoostRegressor…\")\n",
    "ada_search.fit(X_train, y_train)"
   ]
  },
  {
   "cell_type": "code",
   "execution_count": 9,
   "id": "d41cf5c4",
   "metadata": {},
   "outputs": [
    {
     "name": "stdout",
     "output_type": "stream",
     "text": [
      "Best params: {'model__n_estimators': 200, 'model__loss': 'exponential', 'model__learning_rate': 0.01}\n",
      "AdaBoostRegressor best CV MSE: 0.2264\n"
     ]
    }
   ],
   "source": [
    "print(f\"Best params:\", ada_search.best_params_)\n",
    "print(f\"AdaBoostRegressor best CV MSE: {-ada_search.best_score_:.4f}\")\n",
    "best_ada = ada_search.best_estimator_"
   ]
  },
  {
   "cell_type": "code",
   "execution_count": 10,
   "id": "9fdfbde4",
   "metadata": {},
   "outputs": [
    {
     "name": "stdout",
     "output_type": "stream",
     "text": [
      "Test MSE: 0.2277\n",
      "Test MAE: 0.4599\n",
      "Test R²:  0.0330\n"
     ]
    }
   ],
   "source": [
    "# Final eval on test set\n",
    "y_pred = best_ada.predict(X_test)\n",
    "print(f\"Test MSE: {mean_squared_error(y_test, y_pred):.4f}\")\n",
    "print(f\"Test MAE: {mean_absolute_error(y_test, y_pred):.4f}\")\n",
    "print(f\"Test R²:  {r2_score(y_test, y_pred):.4f}\")"
   ]
  },
  {
   "cell_type": "code",
   "execution_count": 11,
   "id": "80055c5f",
   "metadata": {},
   "outputs": [
    {
     "name": "stdout",
     "output_type": "stream",
     "text": [
      "[learning_curve] Training set sizes: [  466  1651  2835  4020  5205  6389  7574  8758  9943 11128 12312 13497\n",
      " 14681 15866 17051 18235 19420 20604 21789 22974 24158 25343 26527 27712\n",
      " 28897 30081 31266 32450 33635 34820 36004 37189 38373 39558 40743 41927\n",
      " 43112 44296 45481 46666]\n"
     ]
    },
    {
     "name": "stderr",
     "output_type": "stream",
     "text": [
      "[Parallel(n_jobs=-1)]: Using backend LokyBackend with 8 concurrent workers.\n",
      "[Parallel(n_jobs=-1)]: Done  60 out of 120 | elapsed:  1.3min remaining:  1.3min\n",
      "[Parallel(n_jobs=-1)]: Done 120 out of 120 | elapsed:  2.9min finished\n"
     ]
    },
    {
     "data": {
      "image/png": "[encoded data removed]",
      "text/plain": [
       "<Figure size 864x432 with 1 Axes>"
      ]
     },
     "metadata": {
      "needs_background": "light"
     },
     "output_type": "display_data"
    }
   ],
   "source": [
    "# Plot the learning curve for the AdaBoostRegressor\n",
    "from sklearn.model_selection import learning_curve\n",
    "\n",
    "train_sizes, train_scores, valid_scores = learning_curve(best_ada,\n",
    "                                                         X_train, y_train,\n",
    "                                                         train_sizes = np.linspace(0.01, 1.0, 40),\n",
    "                                                         cv = 3,\n",
    "                                                         scoring = \"neg_root_mean_squared_error\", \n",
    "                                                         n_jobs      = -1,\n",
    "                                                         verbose     = 2 )\n",
    "\n",
    "train_errors = -train_scores.mean(axis=1)\n",
    "valid_errors = -valid_scores.mean(axis=1)\n",
    "\n",
    "fig = plt.figure(figsize = (12, 6))\n",
    "plt.plot(train_sizes, train_errors, \"r-+\", linewidth=2, label=\"train\")\n",
    "plt.plot(train_sizes, valid_errors, \"b-\", linewidth=3, label=\"valid\")\n",
    "plt.xlabel(\"Training set size\")\n",
    "plt.ylabel(\"RMSE\")\n",
    "plt.grid()\n",
    "plt.legend(loc=\"upper right\")\n",
    "plt.show()"
   ]
  },
  {
   "cell_type": "code",
   "execution_count": 12,
   "id": "c051a337",
   "metadata": {},
   "outputs": [
    {
     "data": {
      "text/plain": [
       "['best_ada_boost.joblib']"
      ]
     },
     "execution_count": 12,
     "metadata": {},
     "output_type": "execute_result"
    }
   ],
   "source": [
    "joblib.dump(best_ada, \"best_ada_boost.joblib\")"
   ]
  }
 ],
 "metadata": {
  "kernelspec": {
   "display_name": "Python 3 (ipykernel)",
   "language": "python",
   "name": "python3"
  },
  "language_info": {
   "codemirror_mode": {
    "name": "ipython",
    "version": 3
   },
   "file_extension": ".py",
   "mimetype": "text/x-python",
   "name": "python",
   "nbconvert_exporter": "python",
   "pygments_lexer": "ipython3",
   "version": "3.9.7"
  }
 },
 "nbformat": 4,
 "nbformat_minor": 5
}
