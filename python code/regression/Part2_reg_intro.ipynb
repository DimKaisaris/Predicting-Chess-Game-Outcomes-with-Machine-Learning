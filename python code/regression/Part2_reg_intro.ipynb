{
 "cells": [
  {
   "cell_type": "markdown",
   "id": "a2aba0d7",
   "metadata": {},
   "source": [
    "# Intro"
   ]
  },
  {
   "cell_type": "code",
   "execution_count": 1,
   "id": "16a123ed",
   "metadata": {},
   "outputs": [
    {
     "data": {
      "text/html": [
       "<style>.container { width:90% !important; }</style>"
      ],
      "text/plain": [
       "<IPython.core.display.HTML object>"
      ]
     },
     "metadata": {},
     "output_type": "display_data"
    }
   ],
   "source": [
    "# increase the width of the notebook\n",
    "from IPython.display import display, HTML, Markdown\n",
    "\n",
    "display(HTML(\"<style>.container { width:90% !important; }</style>\"))"
   ]
  },
  {
   "cell_type": "code",
   "execution_count": 2,
   "id": "4d59b478",
   "metadata": {},
   "outputs": [],
   "source": [
    "import pandas as pd\n",
    "from sklearn.model_selection import train_test_split"
   ]
  },
  {
   "cell_type": "code",
   "execution_count": 3,
   "id": "d3497a92",
   "metadata": {},
   "outputs": [],
   "source": [
    "df = pd.read_csv(\"data_ML.csv\",sep=\",\")"
   ]
  },
  {
   "cell_type": "code",
   "execution_count": 4,
   "id": "a8c7500c",
   "metadata": {},
   "outputs": [
    {
     "data": {
      "text/html": [
       "<div>\n",
       "<style scoped>\n",
       "    .dataframe tbody tr th:only-of-type {\n",
       "        vertical-align: middle;\n",
       "    }\n",
       "\n",
       "    .dataframe tbody tr th {\n",
       "        vertical-align: top;\n",
       "    }\n",
       "\n",
       "    .dataframe thead th {\n",
       "        text-align: right;\n",
       "    }\n",
       "</style>\n",
       "<table border=\"1\" class=\"dataframe\">\n",
       "  <thead>\n",
       "    <tr style=\"text-align: right;\">\n",
       "      <th></th>\n",
       "      <th>WhiteElo</th>\n",
       "      <th>BlackElo</th>\n",
       "      <th>EloDif</th>\n",
       "      <th>Opening_name</th>\n",
       "      <th>Time_format</th>\n",
       "      <th>Increment_binary</th>\n",
       "      <th>Score</th>\n",
       "    </tr>\n",
       "  </thead>\n",
       "  <tbody>\n",
       "    <tr>\n",
       "      <th>0</th>\n",
       "      <td>1851</td>\n",
       "      <td>1901</td>\n",
       "      <td>-50</td>\n",
       "      <td>Alekhine's defense</td>\n",
       "      <td>classical</td>\n",
       "      <td>Yes</td>\n",
       "      <td>1.0</td>\n",
       "    </tr>\n",
       "    <tr>\n",
       "      <th>1</th>\n",
       "      <td>2060</td>\n",
       "      <td>2111</td>\n",
       "      <td>-51</td>\n",
       "      <td>French Defense</td>\n",
       "      <td>blitz</td>\n",
       "      <td>Yes</td>\n",
       "      <td>0.0</td>\n",
       "    </tr>\n",
       "    <tr>\n",
       "      <th>2</th>\n",
       "      <td>2307</td>\n",
       "      <td>2290</td>\n",
       "      <td>17</td>\n",
       "      <td>Philidor Defense</td>\n",
       "      <td>blitz</td>\n",
       "      <td>No</td>\n",
       "      <td>0.5</td>\n",
       "    </tr>\n",
       "    <tr>\n",
       "      <th>3</th>\n",
       "      <td>2380</td>\n",
       "      <td>2419</td>\n",
       "      <td>-39</td>\n",
       "      <td>Sicilian defense</td>\n",
       "      <td>rapid</td>\n",
       "      <td>No</td>\n",
       "      <td>0.0</td>\n",
       "    </tr>\n",
       "    <tr>\n",
       "      <th>4</th>\n",
       "      <td>2686</td>\n",
       "      <td>2848</td>\n",
       "      <td>-162</td>\n",
       "      <td>Ruy Lopez</td>\n",
       "      <td>rapid</td>\n",
       "      <td>No</td>\n",
       "      <td>0.0</td>\n",
       "    </tr>\n",
       "  </tbody>\n",
       "</table>\n",
       "</div>"
      ],
      "text/plain": [
       "   WhiteElo  BlackElo  EloDif        Opening_name  Time_format  \\\n",
       "0      1851      1901     -50  Alekhine's defense   classical    \n",
       "1      2060      2111     -51      French Defense       blitz    \n",
       "2      2307      2290      17    Philidor Defense       blitz    \n",
       "3      2380      2419     -39    Sicilian defense       rapid    \n",
       "4      2686      2848    -162           Ruy Lopez       rapid    \n",
       "\n",
       "  Increment_binary  Score  \n",
       "0              Yes    1.0  \n",
       "1              Yes    0.0  \n",
       "2               No    0.5  \n",
       "3               No    0.0  \n",
       "4               No    0.0  "
      ]
     },
     "execution_count": 4,
     "metadata": {},
     "output_type": "execute_result"
    }
   ],
   "source": [
    "df.head(5)"
   ]
  },
  {
   "cell_type": "code",
   "execution_count": 5,
   "id": "9dd41924",
   "metadata": {},
   "outputs": [],
   "source": [
    "df = df.drop(\"BlackElo\", axis=1) #\"BlackElo\" is redundant"
   ]
  },
  {
   "cell_type": "markdown",
   "id": "60ca7797",
   "metadata": {},
   "source": [
    "### Keep the top 10 openings."
   ]
  },
  {
   "cell_type": "code",
   "execution_count": 6,
   "id": "9fe81936",
   "metadata": {},
   "outputs": [],
   "source": [
    "top10_openings = df['Opening_name'].value_counts().nlargest(10).index"
   ]
  },
  {
   "cell_type": "code",
   "execution_count": 7,
   "id": "dd8bbc4f",
   "metadata": {},
   "outputs": [],
   "source": [
    "# Merge all other openings into \"Other\"\n",
    "df['Opening_name'] = df['Opening_name'].where(\n",
    "    df['Opening_name'].isin(top10_openings), \n",
    "    'Other'\n",
    ")"
   ]
  },
  {
   "cell_type": "code",
   "execution_count": 8,
   "id": "353d7c46",
   "metadata": {},
   "outputs": [
    {
     "data": {
      "text/plain": [
       "Other                                            27530\n",
       "Sicilian defense                                 14435\n",
       "Queen's Pawn Game                                 8721\n",
       "French Defense                                    5398\n",
       "English Opening                                   5181\n",
       "Caro-Kann defense                                 3747\n",
       "Irregular Openings                                3565\n",
       "Queen's Gambit                                    3413\n",
       "Scandinavian Defense (Center-Counter Defense)     3046\n",
       "Closed Game, Irregular Responses                  2584\n",
       "Zukertort Opening                                 2380\n",
       "Name: Opening_name, dtype: int64"
      ]
     },
     "execution_count": 8,
     "metadata": {},
     "output_type": "execute_result"
    }
   ],
   "source": [
    "df['Opening_name'].value_counts()"
   ]
  },
  {
   "cell_type": "markdown",
   "id": "1b3d4a34",
   "metadata": {},
   "source": [
    "## I want to make sure that the same train and test sets will be used in all Jupyter notebooks."
   ]
  },
  {
   "cell_type": "code",
   "execution_count": 9,
   "id": "05ef52eb",
   "metadata": {},
   "outputs": [],
   "source": [
    "train, test = train_test_split(df, test_size=10000, random_state=42,  stratify=df['Score'])"
   ]
  },
  {
   "cell_type": "code",
   "execution_count": 10,
   "id": "6dc137da",
   "metadata": {},
   "outputs": [],
   "source": [
    "train.to_csv(\"train.csv\", index=False)\n",
    "test.to_csv(\"test.csv\", index=False)"
   ]
  },
  {
   "cell_type": "markdown",
   "id": "48246887",
   "metadata": {},
   "source": [
    "## Create Preprocessing pipelines"
   ]
  },
  {
   "cell_type": "code",
   "execution_count": 11,
   "id": "21fc82b6",
   "metadata": {},
   "outputs": [],
   "source": [
    "from sklearn.pipeline import Pipeline\n",
    "from sklearn.preprocessing import StandardScaler, OneHotEncoder\n",
    "from sklearn.compose import ColumnTransformer\n",
    "import joblib"
   ]
  },
  {
   "cell_type": "code",
   "execution_count": 12,
   "id": "7e0e17d0",
   "metadata": {},
   "outputs": [],
   "source": [
    "#Preprocessing pipelines\n",
    "numeric_features = [\"WhiteElo\", \"EloDif\"]\n",
    "categorical_features = [\"Opening_name\", \"Time_format\", \"Increment_binary\"]\n",
    "\n",
    "numeric_transformer = Pipeline([\n",
    "    (\"scaler\", StandardScaler())\n",
    "])\n",
    "categorical_transformer = Pipeline([\n",
    "    (\"onehot\", OneHotEncoder(handle_unknown=\"ignore\"))\n",
    "])\n",
    "\n",
    "preprocessor = ColumnTransformer([\n",
    "    (\"num\", numeric_transformer, numeric_features),\n",
    "    (\"cat\", categorical_transformer, categorical_features)\n",
    "])"
   ]
  },
  {
   "cell_type": "code",
   "execution_count": 13,
   "id": "504b949d",
   "metadata": {},
   "outputs": [
    {
     "data": {
      "text/plain": [
       "['preprocessor_unfitted.joblib']"
      ]
     },
     "execution_count": 13,
     "metadata": {},
     "output_type": "execute_result"
    }
   ],
   "source": [
    "joblib.dump(preprocessor, \"preprocessor_unfitted.joblib\")"
   ]
  },
  {
   "cell_type": "markdown",
   "id": "4d633145",
   "metadata": {},
   "source": [
    "## Create two dummy classification models  "
   ]
  },
  {
   "cell_type": "code",
   "execution_count": 14,
   "id": "e1af16ec",
   "metadata": {},
   "outputs": [],
   "source": [
    "from sklearn.dummy import DummyRegressor\n",
    "from sklearn.metrics import mean_squared_error, mean_absolute_error, r2_score"
   ]
  },
  {
   "cell_type": "code",
   "execution_count": 15,
   "id": "40fe3cc9",
   "metadata": {},
   "outputs": [],
   "source": [
    "X_train = train.drop('Score', axis=1)\n",
    "y_train = train['Score']\n",
    "X_test  = test.drop('Score', axis=1)\n",
    "y_test  = test['Score']"
   ]
  },
  {
   "cell_type": "code",
   "execution_count": 16,
   "id": "ca97af27",
   "metadata": {},
   "outputs": [],
   "source": [
    "# Dummy Regressor #1: predict the mean of y_train\n",
    "dummy_mean = DummyRegressor(strategy='mean')\n",
    "dummy_mean.fit(X_train, y_train)\n",
    "y_pred_mean = dummy_mean.predict(X_test)"
   ]
  },
  {
   "cell_type": "code",
   "execution_count": 17,
   "id": "73491904",
   "metadata": {},
   "outputs": [
    {
     "name": "stdout",
     "output_type": "stream",
     "text": [
      "=== Dummy (mean) Regressor ===\n",
      "MSE:  0.23547751127551014\n",
      "MAE:  0.47204675714285715\n",
      "R²:   -5.4166962026869214e-09\n"
     ]
    }
   ],
   "source": [
    "print(\"=== Dummy (mean) Regressor ===\")\n",
    "print(\"MSE: \", mean_squared_error(y_test, y_pred_mean))\n",
    "print(\"MAE: \", mean_absolute_error(y_test, y_pred_mean))\n",
    "print(\"R²:  \", r2_score(y_test, y_pred_mean))"
   ]
  },
  {
   "cell_type": "code",
   "execution_count": 18,
   "id": "bf28146a",
   "metadata": {},
   "outputs": [],
   "source": [
    "# Dummy Regressor #2: predict the median of y_train\n",
    "dummy_median = DummyRegressor(strategy='median')\n",
    "dummy_median.fit(X_train, y_train)\n",
    "y_pred_median = dummy_median.predict(X_test)"
   ]
  },
  {
   "cell_type": "code",
   "execution_count": 19,
   "id": "fb5bca45",
   "metadata": {},
   "outputs": [
    {
     "name": "stdout",
     "output_type": "stream",
     "text": [
      "\n",
      "=== Dummy (median) Regressor ===\n",
      "MSE:  0.23585\n",
      "MAE:  0.4717\n",
      "R²:   -0.0015818495787560671\n"
     ]
    }
   ],
   "source": [
    "print(\"\\n=== Dummy (median) Regressor ===\")\n",
    "print(\"MSE: \", mean_squared_error(y_test, y_pred_median))\n",
    "print(\"MAE: \", mean_absolute_error(y_test, y_pred_median))\n",
    "print(\"R²:  \", r2_score(y_test, y_pred_median))"
   ]
  }
 ],
 "metadata": {
  "kernelspec": {
   "display_name": "Python 3 (ipykernel)",
   "language": "python",
   "name": "python3"
  },
  "language_info": {
   "codemirror_mode": {
    "name": "ipython",
    "version": 3
   },
   "file_extension": ".py",
   "mimetype": "text/x-python",
   "name": "python",
   "nbconvert_exporter": "python",
   "pygments_lexer": "ipython3",
   "version": "3.9.7"
  }
 },
 "nbformat": 4,
 "nbformat_minor": 5
}
