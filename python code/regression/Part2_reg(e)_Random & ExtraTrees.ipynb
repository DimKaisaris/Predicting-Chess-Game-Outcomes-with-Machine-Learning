{
 "cells": [
  {
   "cell_type": "markdown",
   "id": "1de05875",
   "metadata": {},
   "source": [
    "# Random & ExtraTrees"
   ]
  },
  {
   "cell_type": "code",
   "execution_count": 1,
   "id": "6329e3e9",
   "metadata": {},
   "outputs": [],
   "source": [
    "import pandas as pd\n",
    "import numpy as np\n",
    "import matplotlib.pyplot as plt \n",
    "from sklearn.ensemble import RandomForestRegressor, ExtraTreesRegressor\n",
    "from sklearn.metrics import mean_squared_error, mean_absolute_error, r2_score\n",
    "from sklearn.pipeline import Pipeline\n",
    "from sklearn.model_selection   import RandomizedSearchCV\n",
    "import joblib"
   ]
  },
  {
   "cell_type": "code",
   "execution_count": 2,
   "id": "3ff2aaeb",
   "metadata": {},
   "outputs": [],
   "source": [
    "# Load data\n",
    "train = pd.read_csv(\"train.csv\")\n",
    "test = pd.read_csv(\"test.csv\")"
   ]
  },
  {
   "cell_type": "code",
   "execution_count": 3,
   "id": "2b886c48",
   "metadata": {},
   "outputs": [],
   "source": [
    "# Split features/target\n",
    "X_train = train.drop('Score', axis=1)\n",
    "y_train = train['Score']\n",
    "X_test  = test.drop('Score', axis=1)\n",
    "y_test  = test['Score']"
   ]
  },
  {
   "cell_type": "code",
   "execution_count": 4,
   "id": "5a4bb339",
   "metadata": {},
   "outputs": [],
   "source": [
    "preprocessor = joblib.load(\"preprocessor_unfitted.joblib\")"
   ]
  },
  {
   "cell_type": "markdown",
   "id": "c3f24913",
   "metadata": {},
   "source": [
    "## RandomForest pipeline + param distribution"
   ]
  },
  {
   "cell_type": "code",
   "execution_count": 5,
   "id": "6e9a6a05",
   "metadata": {},
   "outputs": [],
   "source": [
    "rf_pipe = Pipeline([\n",
    "    (\"prep\",  preprocessor),\n",
    "    (\"model\", RandomForestRegressor(random_state=42))\n",
    "])"
   ]
  },
  {
   "cell_type": "code",
   "execution_count": 6,
   "id": "4d15f033",
   "metadata": {},
   "outputs": [],
   "source": [
    "rf_param_dist = {\n",
    "    \"model__n_estimators\":     [100, 200],         # only 2 choices\n",
    "    \"model__max_depth\":        [None] + list(range(1, 21)),     \n",
    "    \"model__min_samples_split\": [2, 5],             # two sensible splits\n",
    "    \"model__min_samples_leaf\":  [1, 2],             # small leaf sizes\n",
    "    \"model__bootstrap\":         [True]              # drop the False option\n",
    "}"
   ]
  },
  {
   "cell_type": "code",
   "execution_count": 7,
   "id": "69cb8027",
   "metadata": {},
   "outputs": [],
   "source": [
    "# RandomizedSearchCV for RandomForestRegressor\n",
    "rf_search = RandomizedSearchCV(\n",
    "    estimator          = rf_pipe,\n",
    "    param_distributions= rf_param_dist,\n",
    "    n_iter             = 20,\n",
    "    cv                 = 3,\n",
    "    scoring            = \"neg_mean_squared_error\",\n",
    "    n_jobs             = -1,\n",
    "    random_state       = 42,\n",
    "    verbose            = 1\n",
    ")"
   ]
  },
  {
   "cell_type": "code",
   "execution_count": 8,
   "id": "ea170f8d",
   "metadata": {},
   "outputs": [
    {
     "name": "stdout",
     "output_type": "stream",
     "text": [
      "Searching RandomForestRegressor…\n",
      "Fitting 3 folds for each of 20 candidates, totalling 60 fits\n"
     ]
    },
    {
     "data": {
      "text/plain": [
       "RandomizedSearchCV(cv=3,\n",
       "                   estimator=Pipeline(steps=[('prep',\n",
       "                                              ColumnTransformer(transformers=[('num',\n",
       "                                                                               Pipeline(steps=[('scaler',\n",
       "                                                                                                StandardScaler())]),\n",
       "                                                                               ['WhiteElo',\n",
       "                                                                                'EloDif']),\n",
       "                                                                              ('cat',\n",
       "                                                                               Pipeline(steps=[('onehot',\n",
       "                                                                                                OneHotEncoder(handle_unknown='ignore'))]),\n",
       "                                                                               ['Opening_name',\n",
       "                                                                                'Time_format',\n",
       "                                                                                'Increment_binary'])])),\n",
       "                                             ('model',\n",
       "                                              RandomForestRegressor(random_state=42))]),\n",
       "                   n_iter=20, n_jobs=-1,\n",
       "                   param_distributions={'model__bootstrap': [True],\n",
       "                                        'model__max_depth': [None, 1, 2, 3, 4,\n",
       "                                                             5, 6, 7, 8, 9, 10,\n",
       "                                                             11, 12, 13, 14, 15,\n",
       "                                                             16, 17, 18, 19,\n",
       "                                                             20],\n",
       "                                        'model__min_samples_leaf': [1, 2],\n",
       "                                        'model__min_samples_split': [2, 5],\n",
       "                                        'model__n_estimators': [100, 200]},\n",
       "                   random_state=42, scoring='neg_mean_squared_error',\n",
       "                   verbose=1)"
      ]
     },
     "execution_count": 8,
     "metadata": {},
     "output_type": "execute_result"
    }
   ],
   "source": [
    "print(\"Searching RandomForestRegressor…\")\n",
    "rf_search.fit(X_train, y_train)"
   ]
  },
  {
   "cell_type": "code",
   "execution_count": 9,
   "id": "83baf409",
   "metadata": {},
   "outputs": [
    {
     "name": "stdout",
     "output_type": "stream",
     "text": [
      "Best params: {'model__n_estimators': 200, 'model__min_samples_split': 5, 'model__min_samples_leaf': 1, 'model__max_depth': 9, 'model__bootstrap': True}\n",
      "Lasso best CV MSE: 0.2248\n"
     ]
    }
   ],
   "source": [
    "print(f\"Best params:\", rf_search.best_params_)\n",
    "print(f\"RandomForest best CV MSE: {-rf_search.best_score_:.4f}\")\n",
    "best_rf = rf_search.best_estimator_"
   ]
  },
  {
   "cell_type": "code",
   "execution_count": 11,
   "id": "057cf0a9",
   "metadata": {},
   "outputs": [
    {
     "name": "stdout",
     "output_type": "stream",
     "text": [
      "Test MSE: 0.2263\n",
      "Test MAE: 0.4557\n",
      "Test R²:  0.0391\n"
     ]
    }
   ],
   "source": [
    "# Final eval on test set\n",
    "y_pred = best_rf.predict(X_test)\n",
    "print(f\"Test MSE: {mean_squared_error(y_test, y_pred):.4f}\")\n",
    "print(f\"Test MAE: {mean_absolute_error(y_test, y_pred):.4f}\")\n",
    "print(f\"Test R²:  {r2_score(y_test, y_pred):.4f}\")"
   ]
  },
  {
   "cell_type": "code",
   "execution_count": 14,
   "id": "e139606d",
   "metadata": {},
   "outputs": [
    {
     "name": "stdout",
     "output_type": "stream",
     "text": [
      "[learning_curve] Training set sizes: [  466  2898  5329  7761 10192 12624 15055 17487 19919 22350 24782 27213\n",
      " 29645 32076 34508 36939 39371 41802 44234 46666]\n"
     ]
    },
    {
     "name": "stderr",
     "output_type": "stream",
     "text": [
      "[Parallel(n_jobs=-1)]: Using backend LokyBackend with 8 concurrent workers.\n",
      "[Parallel(n_jobs=-1)]: Done  30 out of  60 | elapsed:  1.7min remaining:  1.7min\n",
      "[Parallel(n_jobs=-1)]: Done  60 out of  60 | elapsed:  3.8min finished\n"
     ]
    },
    {
     "data": {
      "image/png": "[encoded data removed]",
      "text/plain": [
       "<Figure size 864x432 with 1 Axes>"
      ]
     },
     "metadata": {
      "needs_background": "light"
     },
     "output_type": "display_data"
    }
   ],
   "source": [
    "# Plot the learning curve for the RandomForest model\n",
    "from sklearn.model_selection import learning_curve\n",
    "\n",
    "train_sizes, train_scores, valid_scores = learning_curve(best_rf,\n",
    "                                                         X_train, y_train,\n",
    "                                                         train_sizes = np.linspace(0.01, 1.0, 20),\n",
    "                                                         cv = 3,\n",
    "                                                         scoring = \"neg_root_mean_squared_error\", \n",
    "                                                         n_jobs      = -1,\n",
    "                                                         verbose     = 2 )\n",
    "                                                            \n",
    "\n",
    "train_errors = -train_scores.mean(axis=1)\n",
    "valid_errors = -valid_scores.mean(axis=1)\n",
    "\n",
    "fig = plt.figure(figsize = (12, 6))\n",
    "plt.plot(train_sizes, train_errors, \"r-+\", linewidth=2, label=\"train\")\n",
    "plt.plot(train_sizes, valid_errors, \"b-\", linewidth=3, label=\"valid\")\n",
    "plt.xlabel(\"Training set size\")\n",
    "plt.ylabel(\"RMSE\")\n",
    "plt.grid()\n",
    "plt.legend(loc=\"upper right\")\n",
    "plt.show()"
   ]
  },
  {
   "cell_type": "code",
   "execution_count": 15,
   "id": "f952386b",
   "metadata": {},
   "outputs": [
    {
     "data": {
      "text/plain": [
       "['best_rf.joblib']"
      ]
     },
     "execution_count": 15,
     "metadata": {},
     "output_type": "execute_result"
    }
   ],
   "source": [
    "joblib.dump(best_rf, \"best_rf.joblib\")"
   ]
  },
  {
   "cell_type": "markdown",
   "id": "ae929e3a",
   "metadata": {},
   "source": [
    "## ExtraTrees pipeline + param distribution"
   ]
  },
  {
   "cell_type": "code",
   "execution_count": 16,
   "id": "26bd9f76",
   "metadata": {},
   "outputs": [],
   "source": [
    "et_pipe = Pipeline([\n",
    "    (\"prep\",  preprocessor),\n",
    "    (\"model\", ExtraTreesRegressor(random_state=42))\n",
    "])"
   ]
  },
  {
   "cell_type": "code",
   "execution_count": 17,
   "id": "dca91493",
   "metadata": {},
   "outputs": [],
   "source": [
    "et_param_dist = {\n",
    "    \"model__n_estimators\":     [100, 200],          # just two sizes\n",
    "    \"model__max_depth\":        [None] + list(range(1, 21)),      \n",
    "    \"model__min_samples_split\": [2, 5],              # two sensible splits\n",
    "    \"model__min_samples_leaf\":  [1, 2],              # small leaf sizes\n",
    "    \"model__max_features\":      [\"sqrt\", \"log2\"]     # drop 'auto' to save one branch\n",
    "}"
   ]
  },
  {
   "cell_type": "code",
   "execution_count": 19,
   "id": "54df0b13",
   "metadata": {},
   "outputs": [],
   "source": [
    "#  RandomizedSearchCV with lighter settings\n",
    "et_search = RandomizedSearchCV(\n",
    "    estimator           = et_pipe,\n",
    "    param_distributions = et_param_dist,\n",
    "    n_iter              = 20,    \n",
    "    cv                  = 3,     # 3-fold CV instead of 5\n",
    "    scoring             = \"neg_mean_squared_error\",\n",
    "    n_jobs              = -1,\n",
    "    random_state        = 42,\n",
    "    verbose             = 2\n",
    ")"
   ]
  },
  {
   "cell_type": "code",
   "execution_count": 20,
   "id": "d1839a6d",
   "metadata": {},
   "outputs": [
    {
     "name": "stdout",
     "output_type": "stream",
     "text": [
      "Fitting 3 folds for each of 20 candidates, totalling 60 fits\n"
     ]
    },
    {
     "data": {
      "text/plain": [
       "RandomizedSearchCV(cv=3,\n",
       "                   estimator=Pipeline(steps=[('prep',\n",
       "                                              ColumnTransformer(transformers=[('num',\n",
       "                                                                               Pipeline(steps=[('scaler',\n",
       "                                                                                                StandardScaler())]),\n",
       "                                                                               ['WhiteElo',\n",
       "                                                                                'EloDif']),\n",
       "                                                                              ('cat',\n",
       "                                                                               Pipeline(steps=[('onehot',\n",
       "                                                                                                OneHotEncoder(handle_unknown='ignore'))]),\n",
       "                                                                               ['Opening_name',\n",
       "                                                                                'Time_format',\n",
       "                                                                                'Increment_binary'])])),\n",
       "                                             ('model',\n",
       "                                              ExtraTreesRegressor(random_state=42))]),\n",
       "                   n_iter=20, n_jobs=-1,\n",
       "                   param_distributions={'model__max_depth': [None, 1, 2, 3, 4,\n",
       "                                                             5, 6, 7, 8, 9, 10,\n",
       "                                                             11, 12, 13, 14, 15,\n",
       "                                                             16, 17, 18, 19,\n",
       "                                                             20],\n",
       "                                        'model__max_features': ['sqrt', 'log2'],\n",
       "                                        'model__min_samples_leaf': [1, 2],\n",
       "                                        'model__min_samples_split': [2, 5],\n",
       "                                        'model__n_estimators': [100, 200]},\n",
       "                   random_state=42, scoring='neg_mean_squared_error',\n",
       "                   verbose=2)"
      ]
     },
     "execution_count": 20,
     "metadata": {},
     "output_type": "execute_result"
    }
   ],
   "source": [
    "et_search.fit(X_train, y_train)"
   ]
  },
  {
   "cell_type": "code",
   "execution_count": 21,
   "id": "11fc3313",
   "metadata": {},
   "outputs": [
    {
     "name": "stdout",
     "output_type": "stream",
     "text": [
      "Best params: {'model__n_estimators': 100, 'model__min_samples_split': 5, 'model__min_samples_leaf': 2, 'model__max_features': 'log2', 'model__max_depth': 18}\n",
      "Lasso best CV MSE: 0.2279\n"
     ]
    }
   ],
   "source": [
    "print(f\"Best params:\", et_search.best_params_)\n",
    "print(f\"ExtraTrees best CV MSE: {-et_search.best_score_:.4f}\")\n",
    "best_et = et_search.best_estimator_"
   ]
  },
  {
   "cell_type": "code",
   "execution_count": 22,
   "id": "d89a8b28",
   "metadata": {},
   "outputs": [
    {
     "name": "stdout",
     "output_type": "stream",
     "text": [
      "Test MSE: 0.2284\n",
      "Test MAE: 0.4619\n",
      "Test R²:  0.0302\n"
     ]
    }
   ],
   "source": [
    "# Final eval on test set\n",
    "y_pred = best_et.predict(X_test)\n",
    "print(f\"Test MSE: {mean_squared_error(y_test, y_pred):.4f}\")\n",
    "print(f\"Test MAE: {mean_absolute_error(y_test, y_pred):.4f}\")\n",
    "print(f\"Test R²:  {r2_score(y_test, y_pred):.4f}\")"
   ]
  },
  {
   "cell_type": "code",
   "execution_count": 23,
   "id": "fea173fb",
   "metadata": {},
   "outputs": [
    {
     "name": "stdout",
     "output_type": "stream",
     "text": [
      "[learning_curve] Training set sizes: [  466  1651  2835  4020  5205  6389  7574  8758  9943 11128 12312 13497\n",
      " 14681 15866 17051 18235 19420 20604 21789 22974 24158 25343 26527 27712\n",
      " 28897 30081 31266 32450 33635 34820 36004 37189 38373 39558 40743 41927\n",
      " 43112 44296 45481 46666]\n"
     ]
    },
    {
     "name": "stderr",
     "output_type": "stream",
     "text": [
      "[Parallel(n_jobs=-1)]: Using backend LokyBackend with 8 concurrent workers.\n",
      "[Parallel(n_jobs=-1)]: Done  60 out of 120 | elapsed:   59.6s remaining:   59.6s\n",
      "[Parallel(n_jobs=-1)]: Done 120 out of 120 | elapsed:  2.3min finished\n"
     ]
    },
    {
     "data": {
      "image/png": "[encoded data removed]",
      "text/plain": [
       "<Figure size 864x432 with 1 Axes>"
      ]
     },
     "metadata": {
      "needs_background": "light"
     },
     "output_type": "display_data"
    }
   ],
   "source": [
    "# Plot the learning curve for the ExtraTreesRegressor\n",
    "from sklearn.model_selection import learning_curve\n",
    "\n",
    "train_sizes, train_scores, valid_scores = learning_curve(best_et,\n",
    "                                                         X_train, y_train,\n",
    "                                                         train_sizes = np.linspace(0.01, 1.0, 40),\n",
    "                                                         cv = 3,\n",
    "                                                         scoring = \"neg_root_mean_squared_error\", \n",
    "                                                         n_jobs      = -1,\n",
    "                                                         verbose     = 2 )\n",
    "\n",
    "train_errors = -train_scores.mean(axis=1)\n",
    "valid_errors = -valid_scores.mean(axis=1)\n",
    "\n",
    "fig = plt.figure(figsize = (12, 6))\n",
    "plt.plot(train_sizes, train_errors, \"r-+\", linewidth=2, label=\"train\")\n",
    "plt.plot(train_sizes, valid_errors, \"b-\", linewidth=3, label=\"valid\")\n",
    "plt.xlabel(\"Training set size\")\n",
    "plt.ylabel(\"RMSE\")\n",
    "plt.grid()\n",
    "plt.legend(loc=\"upper right\")\n",
    "plt.show()"
   ]
  },
  {
   "cell_type": "code",
   "execution_count": 24,
   "id": "2af92e3a",
   "metadata": {},
   "outputs": [
    {
     "data": {
      "text/plain": [
       "['best_et.joblib']"
      ]
     },
     "execution_count": 24,
     "metadata": {},
     "output_type": "execute_result"
    }
   ],
   "source": [
    "joblib.dump(best_et, \"best_et.joblib\")"
   ]
  }
 ],
 "metadata": {
  "kernelspec": {
   "display_name": "Python 3 (ipykernel)",
   "language": "python",
   "name": "python3"
  },
  "language_info": {
   "codemirror_mode": {
    "name": "ipython",
    "version": 3
   },
   "file_extension": ".py",
   "mimetype": "text/x-python",
   "name": "python",
   "nbconvert_exporter": "python",
   "pygments_lexer": "ipython3",
   "version": "3.9.7"
  }
 },
 "nbformat": 4,
 "nbformat_minor": 5
}
