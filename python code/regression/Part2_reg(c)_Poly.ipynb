{
 "cells": [
  {
   "cell_type": "markdown",
   "id": "463a5b7c",
   "metadata": {},
   "source": [
    "# Polynomial"
   ]
  },
  {
   "cell_type": "code",
   "execution_count": 1,
   "id": "62e9c11b",
   "metadata": {},
   "outputs": [],
   "source": [
    "import numpy as np\n",
    "import pandas as pd\n",
    "import matplotlib.pyplot as plt \n",
    "from sklearn.model_selection import train_test_split, RandomizedSearchCV\n",
    "from sklearn.pipeline import Pipeline\n",
    "from sklearn.preprocessing import StandardScaler, OneHotEncoder, PolynomialFeatures\n",
    "from sklearn.compose import ColumnTransformer\n",
    "from sklearn.linear_model import LinearRegression\n",
    "from sklearn.metrics import mean_squared_error, mean_absolute_error, r2_score\n",
    "import joblib"
   ]
  },
  {
   "cell_type": "code",
   "execution_count": 2,
   "id": "f300fc3d",
   "metadata": {},
   "outputs": [],
   "source": [
    "# Load data\n",
    "train = pd.read_csv(\"train.csv\")\n",
    "test = pd.read_csv(\"test.csv\")"
   ]
  },
  {
   "cell_type": "code",
   "execution_count": 3,
   "id": "fd0bc689",
   "metadata": {},
   "outputs": [],
   "source": [
    "# Split features/target\n",
    "X_train = train.drop('Score', axis=1)\n",
    "y_train = train['Score']\n",
    "X_test  = test.drop('Score', axis=1)\n",
    "y_test  = test['Score']"
   ]
  },
  {
   "cell_type": "markdown",
   "id": "984aa646",
   "metadata": {},
   "source": [
    "## Transformations"
   ]
  },
  {
   "cell_type": "code",
   "execution_count": 4,
   "id": "b2a2140f",
   "metadata": {},
   "outputs": [],
   "source": [
    "numeric_features     = [\"WhiteElo\", \"EloDif\"]\n",
    "categorical_features = [\"Opening_name\", \"Time_format\", \"Increment_binary\"]\n",
    "\n",
    "\n",
    "# numeric: scale → polynomial features\n",
    "# categorical: one-hot only\n",
    "numeric_pipeline = Pipeline([\n",
    "    (\"scaler\", StandardScaler()),\n",
    "    (\"poly\",   PolynomialFeatures(degree=2, include_bias=False))  \n",
    "    # degree will be tuned via RandomizedSearchCV\n",
    "])\n",
    "categorical_pipeline = Pipeline([\n",
    "    (\"onehot\", OneHotEncoder(handle_unknown=\"ignore\", sparse=False))\n",
    "])\n",
    "\n",
    "# Combine into a ColumnTransformer\n",
    "preprocessor = ColumnTransformer([\n",
    "    (\"num\", numeric_pipeline,  numeric_features),\n",
    "    (\"cat\", categorical_pipeline, categorical_features)\n",
    "])\n",
    "\n",
    "# Full modeling pipeline\n",
    "model_pipeline = Pipeline([\n",
    "    (\"prep\",   preprocessor),\n",
    "    (\"model\",  LinearRegression())\n",
    "])"
   ]
  },
  {
   "cell_type": "markdown",
   "id": "dadb9113",
   "metadata": {},
   "source": [
    "## RandomSearch"
   ]
  },
  {
   "cell_type": "code",
   "execution_count": 5,
   "id": "f5922e85",
   "metadata": {},
   "outputs": [],
   "source": [
    "param_distributions = {\n",
    "    # tune degree of polynomial in the numeric branch\n",
    "    \"prep__num__poly__degree\":      np.arange(1, 6),      # try degrees 1–5\n",
    "    \"model__fit_intercept\":         [True, False]\n",
    "}"
   ]
  },
  {
   "cell_type": "code",
   "execution_count": 6,
   "id": "b9a62000",
   "metadata": {},
   "outputs": [],
   "source": [
    "# Configure RandomizedSearchCV\n",
    "poly_search = RandomizedSearchCV(\n",
    "    estimator          = model_pipeline,\n",
    "    param_distributions= param_distributions,\n",
    "    n_iter             = 10,               # number of param settings to sample\n",
    "    cv                 = 5,                # 5-fold CV\n",
    "    scoring            = \"neg_mean_squared_error\",\n",
    "    n_jobs             = -1,\n",
    "    random_state       = 42,\n",
    ")"
   ]
  },
  {
   "cell_type": "code",
   "execution_count": 7,
   "id": "2d59f509",
   "metadata": {},
   "outputs": [
    {
     "name": "stdout",
     "output_type": "stream",
     "text": [
      "Starting RandomizedSearch for Polynomial Regression…\n"
     ]
    },
    {
     "data": {
      "text/plain": [
       "RandomizedSearchCV(cv=5,\n",
       "                   estimator=Pipeline(steps=[('prep',\n",
       "                                              ColumnTransformer(transformers=[('num',\n",
       "                                                                               Pipeline(steps=[('scaler',\n",
       "                                                                                                StandardScaler()),\n",
       "                                                                                               ('poly',\n",
       "                                                                                                PolynomialFeatures(include_bias=False))]),\n",
       "                                                                               ['WhiteElo',\n",
       "                                                                                'EloDif']),\n",
       "                                                                              ('cat',\n",
       "                                                                               Pipeline(steps=[('onehot',\n",
       "                                                                                                OneHotEncoder(handle_unknown='ignore',\n",
       "                                                                                                              sparse=False))]),\n",
       "                                                                               ['Opening_name',\n",
       "                                                                                'Time_format',\n",
       "                                                                                'Increment_binary'])])),\n",
       "                                             ('model', LinearRegression())]),\n",
       "                   n_jobs=-1,\n",
       "                   param_distributions={'model__fit_intercept': [True, False],\n",
       "                                        'prep__num__poly__degree': array([1, 2, 3, 4, 5])},\n",
       "                   random_state=42, scoring='neg_mean_squared_error')"
      ]
     },
     "execution_count": 7,
     "metadata": {},
     "output_type": "execute_result"
    }
   ],
   "source": [
    "# Run the search\n",
    "print(\"Starting RandomizedSearch for Polynomial Regression…\")\n",
    "poly_search.fit(X_train, y_train)"
   ]
  },
  {
   "cell_type": "code",
   "execution_count": 8,
   "id": "791a6f08",
   "metadata": {},
   "outputs": [
    {
     "name": "stdout",
     "output_type": "stream",
     "text": [
      "Best params: {'prep__num__poly__degree': 4, 'model__fit_intercept': True}\n",
      "Poly best CV MSE: 0.2262\n"
     ]
    }
   ],
   "source": [
    "print(f\"Best params:\", poly_search.best_params_)\n",
    "print(f\"Poly best CV MSE: {-poly_search.best_score_:.4f}\")\n",
    "best_poly = poly_search.best_estimator_"
   ]
  },
  {
   "cell_type": "code",
   "execution_count": 9,
   "id": "0e4282ff",
   "metadata": {},
   "outputs": [
    {
     "name": "stdout",
     "output_type": "stream",
     "text": [
      "Test MSE: 0.2275\n",
      "Test MAE: 0.4583\n",
      "Test R²:  0.0341\n"
     ]
    }
   ],
   "source": [
    "# Final eval on test set\n",
    "y_pred = best_poly.predict(X_test)\n",
    "print(f\"Test MSE: {mean_squared_error(y_test, y_pred):.4f}\")\n",
    "print(f\"Test MAE: {mean_absolute_error(y_test, y_pred):.4f}\")\n",
    "print(f\"Test R²:  {r2_score(y_test, y_pred):.4f}\")"
   ]
  },
  {
   "cell_type": "code",
   "execution_count": 10,
   "id": "dfffb3dd",
   "metadata": {},
   "outputs": [
    {
     "data": {
      "image/png": "[encoded data removed]",
      "text/plain": [
       "<Figure size 864x432 with 1 Axes>"
      ]
     },
     "metadata": {
      "needs_background": "light"
     },
     "output_type": "display_data"
    }
   ],
   "source": [
    "# Plot the learning curve for the Polynomial model\n",
    "from sklearn.model_selection import learning_curve\n",
    "\n",
    "train_sizes, train_scores, valid_scores = learning_curve(best_poly,\n",
    "                                                         X_train, y_train,\n",
    "                                                         train_sizes = np.linspace(0.01, 1.0, 40),\n",
    "                                                         cv = 5,\n",
    "                                                         scoring = \"neg_root_mean_squared_error\")\n",
    "\n",
    "train_errors = -train_scores.mean(axis=1)\n",
    "valid_errors = -valid_scores.mean(axis=1)\n",
    "\n",
    "fig = plt.figure(figsize = (12, 6))\n",
    "plt.plot(train_sizes, train_errors, \"r-+\", linewidth=2, label=\"train\")\n",
    "plt.plot(train_sizes, valid_errors, \"b-\", linewidth=3, label=\"valid\")\n",
    "plt.xlabel(\"Training set size\")\n",
    "plt.ylabel(\"RMSE\")\n",
    "plt.grid()\n",
    "plt.legend(loc=\"upper right\")\n",
    "plt.show()"
   ]
  },
  {
   "cell_type": "code",
   "execution_count": 11,
   "id": "e1d303f2",
   "metadata": {},
   "outputs": [
    {
     "data": {
      "text/plain": [
       "['best_poly.joblib']"
      ]
     },
     "execution_count": 11,
     "metadata": {},
     "output_type": "execute_result"
    }
   ],
   "source": [
    "joblib.dump(best_poly, \"best_poly.joblib\")"
   ]
  }
 ],
 "metadata": {
  "kernelspec": {
   "display_name": "Python 3 (ipykernel)",
   "language": "python",
   "name": "python3"
  },
  "language_info": {
   "codemirror_mode": {
    "name": "ipython",
    "version": 3
   },
   "file_extension": ".py",
   "mimetype": "text/x-python",
   "name": "python",
   "nbconvert_exporter": "python",
   "pygments_lexer": "ipython3",
   "version": "3.9.7"
  }
 },
 "nbformat": 4,
 "nbformat_minor": 5
}
