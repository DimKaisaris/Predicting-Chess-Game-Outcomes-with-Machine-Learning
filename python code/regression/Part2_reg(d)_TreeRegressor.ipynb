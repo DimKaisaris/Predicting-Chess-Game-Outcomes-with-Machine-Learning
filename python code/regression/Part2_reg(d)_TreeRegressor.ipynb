{
 "cells": [
  {
   "cell_type": "markdown",
   "id": "0472a06d",
   "metadata": {},
   "source": [
    "# TreeRegressor"
   ]
  },
  {
   "cell_type": "code",
   "execution_count": 1,
   "id": "ef7b615f",
   "metadata": {},
   "outputs": [],
   "source": [
    "import pandas as pd\n",
    "import numpy as np\n",
    "import matplotlib.pyplot as plt \n",
    "from sklearn.tree import DecisionTreeRegressor\n",
    "from sklearn.metrics import mean_squared_error, mean_absolute_error, r2_score\n",
    "from sklearn.pipeline import Pipeline\n",
    "from sklearn.model_selection   import RandomizedSearchCV\n",
    "import joblib"
   ]
  },
  {
   "cell_type": "code",
   "execution_count": 2,
   "id": "ec2b21f6",
   "metadata": {},
   "outputs": [],
   "source": [
    "# Load data\n",
    "train = pd.read_csv(\"train.csv\")\n",
    "test = pd.read_csv(\"test.csv\")\n"
   ]
  },
  {
   "cell_type": "code",
   "execution_count": 3,
   "id": "a611f05f",
   "metadata": {},
   "outputs": [],
   "source": [
    "# Split features/target\n",
    "X_train = train.drop('Score', axis=1)\n",
    "y_train = train['Score']\n",
    "X_test  = test.drop('Score', axis=1)\n",
    "y_test  = test['Score']"
   ]
  },
  {
   "cell_type": "code",
   "execution_count": 4,
   "id": "66c453e9",
   "metadata": {},
   "outputs": [],
   "source": [
    "preprocessor = joblib.load(\"preprocessor_unfitted.joblib\")"
   ]
  },
  {
   "cell_type": "markdown",
   "id": "aa07482b",
   "metadata": {},
   "source": [
    "## Pipeline and RandomizedSearchCV"
   ]
  },
  {
   "cell_type": "code",
   "execution_count": 5,
   "id": "a69495d1",
   "metadata": {},
   "outputs": [],
   "source": [
    "#  Wrap in a tree pipeline\n",
    "tree_pipe = Pipeline([\n",
    "    (\"prep\",  preprocessor),\n",
    "    (\"model\", DecisionTreeRegressor(random_state=42))\n",
    "])"
   ]
  },
  {
   "cell_type": "code",
   "execution_count": 6,
   "id": "e5871088",
   "metadata": {},
   "outputs": [],
   "source": [
    "#  Hyperparameter search space\n",
    "param_dist = {\n",
    "    \"model__max_depth\":        [None] + list(range(2, 21)),       # None or depths 2–20\n",
    "    \"model__min_samples_split\": np.arange(2, 21),                # 2–20\n",
    "    \"model__min_samples_leaf\":  np.arange(1, 21),                # 1–20\n",
    "    \"model__max_features\":      [None, \"sqrt\", \"log2\"]           # features subset strategies\n",
    "}"
   ]
  },
  {
   "cell_type": "code",
   "execution_count": 7,
   "id": "5dd625c3",
   "metadata": {},
   "outputs": [
    {
     "name": "stdout",
     "output_type": "stream",
     "text": [
      "Starting RandomizedSearch for DecisionTreeRegressor…\n",
      "Fitting 5 folds for each of 50 candidates, totalling 250 fits\n"
     ]
    },
    {
     "data": {
      "text/plain": [
       "RandomizedSearchCV(cv=5,\n",
       "                   estimator=Pipeline(steps=[('prep',\n",
       "                                              ColumnTransformer(transformers=[('num',\n",
       "                                                                               Pipeline(steps=[('scaler',\n",
       "                                                                                                StandardScaler())]),\n",
       "                                                                               ['WhiteElo',\n",
       "                                                                                'EloDif']),\n",
       "                                                                              ('cat',\n",
       "                                                                               Pipeline(steps=[('onehot',\n",
       "                                                                                                OneHotEncoder(handle_unknown='ignore'))]),\n",
       "                                                                               ['Opening_name',\n",
       "                                                                                'Time_format',\n",
       "                                                                                'Increment_binary'])])),\n",
       "                                             ('model',\n",
       "                                              DecisionTreeRegressor(random_state=42))]),\n",
       "                   n_it...\n",
       "                   param_distributions={'model__max_depth': [None, 2, 3, 4, 5,\n",
       "                                                             6, 7, 8, 9, 10, 11,\n",
       "                                                             12, 13, 14, 15, 16,\n",
       "                                                             17, 18, 19, 20],\n",
       "                                        'model__max_features': [None, 'sqrt',\n",
       "                                                                'log2'],\n",
       "                                        'model__min_samples_leaf': array([ 1,  2,  3,  4,  5,  6,  7,  8,  9, 10, 11, 12, 13, 14, 15, 16, 17,\n",
       "       18, 19, 20]),\n",
       "                                        'model__min_samples_split': array([ 2,  3,  4,  5,  6,  7,  8,  9, 10, 11, 12, 13, 14, 15, 16, 17, 18,\n",
       "       19, 20])},\n",
       "                   random_state=42, scoring='neg_mean_squared_error',\n",
       "                   verbose=1)"
      ]
     },
     "execution_count": 7,
     "metadata": {},
     "output_type": "execute_result"
    }
   ],
   "source": [
    "# RandomizedSearchCV setup\n",
    "search = RandomizedSearchCV(\n",
    "    estimator          = tree_pipe,\n",
    "    param_distributions= param_dist,\n",
    "    n_iter             = 50,                # number of random combos\n",
    "    cv                 = 5,                 # 5-fold CV\n",
    "    scoring            = \"neg_mean_squared_error\",\n",
    "    n_jobs             = -1,\n",
    "    random_state       = 42,\n",
    "    verbose            = 1\n",
    ")\n",
    "\n",
    "print(\"Starting RandomizedSearch for DecisionTreeRegressor…\")\n",
    "search.fit(X_train, y_train)"
   ]
  },
  {
   "cell_type": "code",
   "execution_count": 8,
   "id": "7c0861b8",
   "metadata": {},
   "outputs": [
    {
     "name": "stdout",
     "output_type": "stream",
     "text": [
      "\n",
      "Best parameters:\n",
      "  model__min_samples_split: 5\n",
      "  model__min_samples_leaf: 8\n",
      "  model__max_features: None\n",
      "  model__max_depth: 4\n",
      "Best CV MSE: 0.2264\n"
     ]
    }
   ],
   "source": [
    "# Report best parameters & CV score\n",
    "best_params = search.best_params_\n",
    "best_cv_mse = -search.best_score_\n",
    "print(\"\\nBest parameters:\")\n",
    "for k, v in best_params.items():\n",
    "    print(f\"  {k}: {v}\")\n",
    "print(f\"Best CV MSE: {best_cv_mse:.4f}\")\n",
    "best_tree = search.best_estimator_"
   ]
  },
  {
   "cell_type": "code",
   "execution_count": 9,
   "id": "3497847e",
   "metadata": {},
   "outputs": [
    {
     "name": "stdout",
     "output_type": "stream",
     "text": [
      "\n",
      "Test   MSE: 0.2273\n",
      "Test MAE: 0.4579\n",
      "Test   R² : 0.0349\n"
     ]
    }
   ],
   "source": [
    "# Final evaluation on test set\n",
    "y_pred = best_tree.predict(X_test)\n",
    "test_mse = mean_squared_error(y_test, y_pred)\n",
    "test_r2  = r2_score(y_test, y_pred)\n",
    "print(f\"\\nTest   MSE: {test_mse:.4f}\")\n",
    "print(f\"Test MAE: {mean_absolute_error(y_test, y_pred):.4f}\")\n",
    "print(f\"Test   R² : {test_r2:.4f}\")\n"
   ]
  },
  {
   "cell_type": "code",
   "execution_count": 10,
   "id": "1637edfa",
   "metadata": {},
   "outputs": [
    {
     "data": {
      "image/png": "[encoded data removed]",
      "text/plain": [
       "<Figure size 864x432 with 1 Axes>"
      ]
     },
     "metadata": {
      "needs_background": "light"
     },
     "output_type": "display_data"
    }
   ],
   "source": [
    "# Plot the learning curve for the DecisionTreeRegressor\n",
    "from sklearn.model_selection import learning_curve\n",
    "\n",
    "train_sizes, train_scores, valid_scores = learning_curve(best_tree,\n",
    "                                                         X_train, y_train,\n",
    "                                                         train_sizes = np.linspace(0.01, 1.0, 40),\n",
    "                                                         cv = 5,\n",
    "                                                         scoring = \"neg_root_mean_squared_error\")\n",
    "\n",
    "train_errors = -train_scores.mean(axis=1)\n",
    "valid_errors = -valid_scores.mean(axis=1)\n",
    "\n",
    "fig = plt.figure(figsize = (12, 6))\n",
    "plt.plot(train_sizes, train_errors, \"r-+\", linewidth=2, label=\"train\")\n",
    "plt.plot(train_sizes, valid_errors, \"b-\", linewidth=3, label=\"valid\")\n",
    "plt.xlabel(\"Training set size\")\n",
    "plt.ylabel(\"RMSE\")\n",
    "plt.grid()\n",
    "plt.legend(loc=\"upper right\")\n",
    "plt.show()"
   ]
  },
  {
   "cell_type": "code",
   "execution_count": 11,
   "id": "4bc88db4",
   "metadata": {},
   "outputs": [
    {
     "data": {
      "text/plain": [
       "['best_tree.joblib']"
      ]
     },
     "execution_count": 11,
     "metadata": {},
     "output_type": "execute_result"
    }
   ],
   "source": [
    "joblib.dump(best_tree, \"best_tree.joblib\")"
   ]
  }
 ],
 "metadata": {
  "kernelspec": {
   "display_name": "Python 3 (ipykernel)",
   "language": "python",
   "name": "python3"
  },
  "language_info": {
   "codemirror_mode": {
    "name": "ipython",
    "version": 3
   },
   "file_extension": ".py",
   "mimetype": "text/x-python",
   "name": "python",
   "nbconvert_exporter": "python",
   "pygments_lexer": "ipython3",
   "version": "3.9.7"
  }
 },
 "nbformat": 4,
 "nbformat_minor": 5
}
