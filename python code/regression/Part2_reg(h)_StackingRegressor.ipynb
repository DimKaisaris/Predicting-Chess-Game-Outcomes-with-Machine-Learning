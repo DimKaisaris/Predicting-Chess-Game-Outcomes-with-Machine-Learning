{
 "cells": [
  {
   "cell_type": "markdown",
   "id": "ed930a1d",
   "metadata": {},
   "source": [
    "## StackingRegressor"
   ]
  },
  {
   "cell_type": "code",
   "execution_count": 1,
   "id": "d1470090",
   "metadata": {},
   "outputs": [],
   "source": [
    "import pandas as pd\n",
    "import numpy as np\n",
    "import matplotlib.pyplot as plt \n",
    "from sklearn.ensemble import StackingRegressor, RandomForestRegressor, ExtraTreesRegressor, GradientBoostingRegressor\n",
    "from sklearn.linear_model import Ridge\n",
    "from sklearn.metrics import mean_squared_error, mean_absolute_error, r2_score\n",
    "from sklearn.pipeline import Pipeline\n",
    "from sklearn.model_selection   import RandomizedSearchCV\n",
    "import joblib"
   ]
  },
  {
   "cell_type": "code",
   "execution_count": 2,
   "id": "a183a1df",
   "metadata": {},
   "outputs": [],
   "source": [
    "# Load data\n",
    "train = pd.read_csv(\"train.csv\")\n",
    "test = pd.read_csv(\"test.csv\")"
   ]
  },
  {
   "cell_type": "code",
   "execution_count": 3,
   "id": "64206b35",
   "metadata": {},
   "outputs": [],
   "source": [
    "# Split features/target\n",
    "X_train = train.drop('Score', axis=1)\n",
    "y_train = train['Score']\n",
    "X_test  = test.drop('Score', axis=1)\n",
    "y_test  = test['Score']"
   ]
  },
  {
   "cell_type": "code",
   "execution_count": 4,
   "id": "2aa26b4e",
   "metadata": {},
   "outputs": [],
   "source": [
    "preprocessor = joblib.load(\"preprocessor_unfitted.joblib\")"
   ]
  },
  {
   "cell_type": "markdown",
   "id": "7219f21b",
   "metadata": {},
   "source": [
    "## Pipeline and RandomizedSearchCV"
   ]
  },
  {
   "cell_type": "code",
   "execution_count": 5,
   "id": "eba16a0a",
   "metadata": {},
   "outputs": [],
   "source": [
    "# Stacking pipeline\n",
    "estimators = [\n",
    "    ('rf', RandomForestRegressor(random_state=42, n_estimators=200, max_depth=9)),\n",
    "    ('et', ExtraTreesRegressor(random_state=42, n_estimators=100, max_depth=18)),\n",
    "    ('gb', GradientBoostingRegressor(random_state=42, n_estimators=100, max_depth=3))\n",
    "]\n",
    "stack_pipe = Pipeline([\n",
    "    (\"prep\", preprocessor),\n",
    "    (\"model\", StackingRegressor(\n",
    "        estimators=estimators,\n",
    "        final_estimator=Ridge(random_state=42),\n",
    "        passthrough=False,\n",
    "        n_jobs=-1\n",
    "    ))\n",
    "])"
   ]
  },
  {
   "cell_type": "code",
   "execution_count": 6,
   "id": "665482d7",
   "metadata": {},
   "outputs": [],
   "source": [
    "#  Hyper‐parameter distributions\n",
    "param_dist = {\n",
    "    \"model__passthrough\": [True, False],\n",
    "    \"model__final_estimator__alpha\": [0.05, 0.1, 1.0,]\n",
    "}\n",
    "\n",
    "# 5) RandomizedSearchCV\n",
    "stack_search = RandomizedSearchCV(\n",
    "    estimator           = stack_pipe,\n",
    "    param_distributions = param_dist,\n",
    "    n_iter              = 6,\n",
    "    cv                  = 3,\n",
    "    scoring             = \"neg_mean_squared_error\",\n",
    "    n_jobs              = -1,\n",
    "    random_state        = 42,\n",
    "    verbose             = 2\n",
    ")"
   ]
  },
  {
   "cell_type": "code",
   "execution_count": 7,
   "id": "dd933674",
   "metadata": {},
   "outputs": [
    {
     "name": "stdout",
     "output_type": "stream",
     "text": [
      "Searching StackingRegressor…\n",
      "Fitting 3 folds for each of 6 candidates, totalling 18 fits\n"
     ]
    },
    {
     "data": {
      "text/plain": [
       "RandomizedSearchCV(cv=3,\n",
       "                   estimator=Pipeline(steps=[('prep',\n",
       "                                              ColumnTransformer(transformers=[('num',\n",
       "                                                                               Pipeline(steps=[('scaler',\n",
       "                                                                                                StandardScaler())]),\n",
       "                                                                               ['WhiteElo',\n",
       "                                                                                'EloDif']),\n",
       "                                                                              ('cat',\n",
       "                                                                               Pipeline(steps=[('onehot',\n",
       "                                                                                                OneHotEncoder(handle_unknown='ignore'))]),\n",
       "                                                                               ['Opening_name',\n",
       "                                                                                'Time_format',\n",
       "                                                                                'Increment_binary'])])),\n",
       "                                             ('model',\n",
       "                                              StackingRegressor(estimators=[('rf',\n",
       "                                                                             RandomFore...\n",
       "                                                                                                   random_state=42)),\n",
       "                                                                            ('et',\n",
       "                                                                             ExtraTreesRegressor(max_depth=18,\n",
       "                                                                                                 random_state=42)),\n",
       "                                                                            ('gb',\n",
       "                                                                             GradientBoostingRegressor(random_state=42))],\n",
       "                                                                final_estimator=Ridge(random_state=42),\n",
       "                                                                n_jobs=-1))]),\n",
       "                   n_iter=6, n_jobs=-1,\n",
       "                   param_distributions={'model__final_estimator__alpha': [0.05,\n",
       "                                                                          0.1,\n",
       "                                                                          1.0],\n",
       "                                        'model__passthrough': [True, False]},\n",
       "                   random_state=42, scoring='neg_mean_squared_error',\n",
       "                   verbose=2)"
      ]
     },
     "execution_count": 7,
     "metadata": {},
     "output_type": "execute_result"
    }
   ],
   "source": [
    "#  Fit & evaluate\n",
    "print(\"Searching StackingRegressor…\")\n",
    "stack_search.fit(X_train, y_train)"
   ]
  },
  {
   "cell_type": "code",
   "execution_count": 8,
   "id": "afc0132b",
   "metadata": {},
   "outputs": [
    {
     "name": "stdout",
     "output_type": "stream",
     "text": [
      "Best params: {'model__passthrough': False, 'model__final_estimator__alpha': 0.05}\n",
      "AdaBoostRegressor best CV MSE: 0.2248\n"
     ]
    }
   ],
   "source": [
    "print(f\"Best params:\", stack_search.best_params_)\n",
    "print(f\"AdaBoostRegressor best CV MSE: {-stack_search.best_score_:.4f}\")\n",
    "best_stack_reg = stack_search.best_estimator_"
   ]
  },
  {
   "cell_type": "code",
   "execution_count": 9,
   "id": "5ec93ea3",
   "metadata": {},
   "outputs": [
    {
     "name": "stdout",
     "output_type": "stream",
     "text": [
      "Test MSE: 0.2261\n",
      "Test MAE: 0.4561\n",
      "Test R²:  0.0400\n"
     ]
    }
   ],
   "source": [
    "# Final eval on test set\n",
    "y_pred = best_stack_reg.predict(X_test)\n",
    "print(f\"Test MSE: {mean_squared_error(y_test, y_pred):.4f}\")\n",
    "print(f\"Test MAE: {mean_absolute_error(y_test, y_pred):.4f}\")\n",
    "print(f\"Test R²:  {r2_score(y_test, y_pred):.4f}\")"
   ]
  },
  {
   "cell_type": "code",
   "execution_count": 10,
   "id": "1600c00c",
   "metadata": {},
   "outputs": [
    {
     "name": "stdout",
     "output_type": "stream",
     "text": [
      "[learning_curve] Training set sizes: [  466  1651  2835  4020  5205  6389  7574  8758  9943 11128 12312 13497\n",
      " 14681 15866 17051 18235 19420 20604 21789 22974 24158 25343 26527 27712\n",
      " 28897 30081 31266 32450 33635 34820 36004 37189 38373 39558 40743 41927\n",
      " 43112 44296 45481 46666]\n"
     ]
    },
    {
     "name": "stderr",
     "output_type": "stream",
     "text": [
      "[Parallel(n_jobs=-1)]: Using backend LokyBackend with 8 concurrent workers.\n",
      "[Parallel(n_jobs=-1)]: Done  60 out of 120 | elapsed: 33.7min remaining: 33.7min\n",
      "[Parallel(n_jobs=-1)]: Done 120 out of 120 | elapsed: 78.6min finished\n"
     ]
    },
    {
     "data": {
      "image/png": "[encoded data removed]",
      "text/plain": [
       "<Figure size 864x432 with 1 Axes>"
      ]
     },
     "metadata": {
      "needs_background": "light"
     },
     "output_type": "display_data"
    }
   ],
   "source": [
    "# Plot the learning curve for the StackingRegressor\n",
    "from sklearn.model_selection import learning_curve\n",
    "\n",
    "train_sizes, train_scores, valid_scores = learning_curve(best_stack_reg,\n",
    "                                                         X_train, y_train,\n",
    "                                                         train_sizes = np.linspace(0.01, 1.0, 40),\n",
    "                                                         cv = 3,\n",
    "                                                         scoring = \"neg_root_mean_squared_error\", \n",
    "                                                         n_jobs      = -1,\n",
    "                                                         verbose     = 2 )\n",
    "\n",
    "train_errors = -train_scores.mean(axis=1)\n",
    "valid_errors = -valid_scores.mean(axis=1)\n",
    "\n",
    "fig = plt.figure(figsize = (12, 6))\n",
    "plt.plot(train_sizes, train_errors, \"r-+\", linewidth=2, label=\"train\")\n",
    "plt.plot(train_sizes, valid_errors, \"b-\", linewidth=3, label=\"valid\")\n",
    "plt.xlabel(\"Training set size\")\n",
    "plt.ylabel(\"RMSE\")\n",
    "plt.grid()\n",
    "plt.legend(loc=\"upper right\")\n",
    "plt.show()"
   ]
  },
  {
   "cell_type": "code",
   "execution_count": 11,
   "id": "c5433e3d",
   "metadata": {},
   "outputs": [
    {
     "data": {
      "text/plain": [
       "['best_stack_reg.joblib']"
      ]
     },
     "execution_count": 11,
     "metadata": {},
     "output_type": "execute_result"
    }
   ],
   "source": [
    "joblib.dump(best_stack_reg, \"best_stack_reg.joblib\")"
   ]
  }
 ],
 "metadata": {
  "kernelspec": {
   "display_name": "Python 3 (ipykernel)",
   "language": "python",
   "name": "python3"
  },
  "language_info": {
   "codemirror_mode": {
    "name": "ipython",
    "version": 3
   },
   "file_extension": ".py",
   "mimetype": "text/x-python",
   "name": "python",
   "nbconvert_exporter": "python",
   "pygments_lexer": "ipython3",
   "version": "3.9.7"
  }
 },
 "nbformat": 4,
 "nbformat_minor": 5
}
