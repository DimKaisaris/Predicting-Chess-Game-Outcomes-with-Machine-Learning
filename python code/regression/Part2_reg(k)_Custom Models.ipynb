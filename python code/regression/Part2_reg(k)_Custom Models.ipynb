{
 "cells": [
  {
   "cell_type": "markdown",
   "id": "3541994b",
   "metadata": {},
   "source": [
    "# EloExpectedScoreDummyRegressor"
   ]
  },
  {
   "cell_type": "code",
   "execution_count": 1,
   "id": "5a7a50a8",
   "metadata": {},
   "outputs": [],
   "source": [
    "import pandas as pd\n",
    "import numpy as np\n",
    "from sklearn.metrics import mean_squared_error, mean_absolute_error, r2_score"
   ]
  },
  {
   "cell_type": "code",
   "execution_count": 2,
   "id": "948137b6",
   "metadata": {},
   "outputs": [],
   "source": [
    "class EloExpectedScoreDummyRegressor:\n",
    "    def fit(self, X, y=None):\n",
    "        # No training necessary for dummy regressor\n",
    "        return self\n",
    "\n",
    "    def predict(self, X):\n",
    "        # X is expected to be array of shape (n_samples, 1) with Elo difference (WhiteElo - BlackElo)\n",
    "        elo_diff = X[:, 0]\n",
    "        # Standard Elo expected score formula: 1 / (1 + 10^(-ΔElo/400))\n",
    "        return 1 / (1 + 10 ** (-elo_diff / 400))"
   ]
  },
  {
   "cell_type": "code",
   "execution_count": 3,
   "id": "391d435a",
   "metadata": {},
   "outputs": [],
   "source": [
    "df = pd.read_csv('data_ML.csv')"
   ]
  },
  {
   "cell_type": "code",
   "execution_count": 4,
   "id": "7b3fa913",
   "metadata": {},
   "outputs": [],
   "source": [
    "X = df[['EloDif']].values\n",
    "y = df['Score'].values"
   ]
  },
  {
   "cell_type": "code",
   "execution_count": 5,
   "id": "8da3387b",
   "metadata": {},
   "outputs": [],
   "source": [
    "# Instantiate and get predictions\n",
    "dummy = EloExpectedScoreDummyRegressor().fit(X, y)"
   ]
  },
  {
   "cell_type": "code",
   "execution_count": 6,
   "id": "e8144852",
   "metadata": {},
   "outputs": [],
   "source": [
    "y_pred = dummy.predict(X)"
   ]
  },
  {
   "cell_type": "code",
   "execution_count": 7,
   "id": "79eca3f2",
   "metadata": {},
   "outputs": [],
   "source": [
    "# Compute performance metrics\n",
    "mse = mean_squared_error(y, y_pred)\n",
    "mae = mean_absolute_error(y, y_pred)\n",
    "r2 = r2_score(y, y_pred)"
   ]
  },
  {
   "cell_type": "code",
   "execution_count": 8,
   "id": "f3da833f",
   "metadata": {},
   "outputs": [
    {
     "name": "stdout",
     "output_type": "stream",
     "text": [
      "Mean Squared Error: 0.2281\n",
      "Mean Absolute Error: 0.4529\n",
      "R² Score: 0.0311\n"
     ]
    }
   ],
   "source": [
    "print(f\"Mean Squared Error: {mse:.4f}\")\n",
    "print(f\"Mean Absolute Error: {mae:.4f}\")\n",
    "print(f\"R² Score: {r2:.4f}\")"
   ]
  },
  {
   "cell_type": "markdown",
   "id": "a8f39616",
   "metadata": {},
   "source": [
    "# Best_b_Regressor"
   ]
  },
  {
   "cell_type": "code",
   "execution_count": 9,
   "id": "a6f60488",
   "metadata": {},
   "outputs": [],
   "source": [
    "# Tune denominator b in [100,1000] to minimize MSE\n",
    "bs = np.arange(100, 1001, 10)\n",
    "mse_list = []\n",
    "for b in bs:\n",
    "    y_pred = 1 / (1 + 10 ** (-X[:, 0] / b))\n",
    "    mse_list.append(mean_squared_error(y, y_pred))"
   ]
  },
  {
   "cell_type": "code",
   "execution_count": 10,
   "id": "8fa19763",
   "metadata": {},
   "outputs": [],
   "source": [
    "# Compile results\n",
    "results = pd.DataFrame({'denominator': bs, 'mse': mse_list})\n",
    "best = results.loc[results['mse'].idxmin()]\n",
    "best_b = best['denominator']"
   ]
  },
  {
   "cell_type": "code",
   "execution_count": 11,
   "id": "881cce5e",
   "metadata": {},
   "outputs": [
    {
     "data": {
      "text/html": [
       "<div>\n",
       "<style scoped>\n",
       "    .dataframe tbody tr th:only-of-type {\n",
       "        vertical-align: middle;\n",
       "    }\n",
       "\n",
       "    .dataframe tbody tr th {\n",
       "        vertical-align: top;\n",
       "    }\n",
       "\n",
       "    .dataframe thead th {\n",
       "        text-align: right;\n",
       "    }\n",
       "</style>\n",
       "<table border=\"1\" class=\"dataframe\">\n",
       "  <thead>\n",
       "    <tr style=\"text-align: right;\">\n",
       "      <th></th>\n",
       "      <th>denominator</th>\n",
       "      <th>mse</th>\n",
       "    </tr>\n",
       "  </thead>\n",
       "  <tbody>\n",
       "    <tr>\n",
       "      <th>48</th>\n",
       "      <td>580</td>\n",
       "      <td>0.226939</td>\n",
       "    </tr>\n",
       "    <tr>\n",
       "      <th>49</th>\n",
       "      <td>590</td>\n",
       "      <td>0.226940</td>\n",
       "    </tr>\n",
       "    <tr>\n",
       "      <th>47</th>\n",
       "      <td>570</td>\n",
       "      <td>0.226942</td>\n",
       "    </tr>\n",
       "    <tr>\n",
       "      <th>50</th>\n",
       "      <td>600</td>\n",
       "      <td>0.226945</td>\n",
       "    </tr>\n",
       "    <tr>\n",
       "      <th>46</th>\n",
       "      <td>560</td>\n",
       "      <td>0.226949</td>\n",
       "    </tr>\n",
       "    <tr>\n",
       "      <th>51</th>\n",
       "      <td>610</td>\n",
       "      <td>0.226954</td>\n",
       "    </tr>\n",
       "    <tr>\n",
       "      <th>45</th>\n",
       "      <td>550</td>\n",
       "      <td>0.226961</td>\n",
       "    </tr>\n",
       "    <tr>\n",
       "      <th>52</th>\n",
       "      <td>620</td>\n",
       "      <td>0.226965</td>\n",
       "    </tr>\n",
       "    <tr>\n",
       "      <th>44</th>\n",
       "      <td>540</td>\n",
       "      <td>0.226978</td>\n",
       "    </tr>\n",
       "    <tr>\n",
       "      <th>53</th>\n",
       "      <td>630</td>\n",
       "      <td>0.226979</td>\n",
       "    </tr>\n",
       "  </tbody>\n",
       "</table>\n",
       "</div>"
      ],
      "text/plain": [
       "    denominator       mse\n",
       "48          580  0.226939\n",
       "49          590  0.226940\n",
       "47          570  0.226942\n",
       "50          600  0.226945\n",
       "46          560  0.226949\n",
       "51          610  0.226954\n",
       "45          550  0.226961\n",
       "52          620  0.226965\n",
       "44          540  0.226978\n",
       "53          630  0.226979"
      ]
     },
     "execution_count": 11,
     "metadata": {},
     "output_type": "execute_result"
    }
   ],
   "source": [
    "# Show top 10 candidates\n",
    "top_candidates = results.nsmallest(10, 'mse')\n",
    "top_candidates"
   ]
  },
  {
   "cell_type": "code",
   "execution_count": 12,
   "id": "7a6d6f9e",
   "metadata": {},
   "outputs": [
    {
     "name": "stdout",
     "output_type": "stream",
     "text": [
      "Optimal denominator (b): 580.0\n",
      "Mean Squared Error: 0.2269\n",
      "Mean Absolute Error: 0.4577\n",
      "R² Score: 0.0363\n"
     ]
    }
   ],
   "source": [
    "# Full metrics for best denominator\n",
    "y_pred_best = 1 / (1 + 10 ** (-X[:, 0] / best_b))\n",
    "print(f\"Optimal denominator (b): {best_b}\")\n",
    "print(f\"Mean Squared Error: {mean_squared_error(y, y_pred_best):.4f}\")\n",
    "print(f\"Mean Absolute Error: {mean_absolute_error(y, y_pred_best):.4f}\")\n",
    "print(f\"R² Score: {r2_score(y, y_pred_best):.4f}\")"
   ]
  }
 ],
 "metadata": {
  "kernelspec": {
   "display_name": "Python 3 (ipykernel)",
   "language": "python",
   "name": "python3"
  },
  "language_info": {
   "codemirror_mode": {
    "name": "ipython",
    "version": 3
   },
   "file_extension": ".py",
   "mimetype": "text/x-python",
   "name": "python",
   "nbconvert_exporter": "python",
   "pygments_lexer": "ipython3",
   "version": "3.9.7"
  }
 },
 "nbformat": 4,
 "nbformat_minor": 5
}
