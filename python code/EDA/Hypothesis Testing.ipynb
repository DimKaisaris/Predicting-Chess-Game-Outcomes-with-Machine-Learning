{
 "cells": [
  {
   "cell_type": "markdown",
   "id": "c07a692e",
   "metadata": {},
   "source": [
    "# \"Crushing White Advantage\" games"
   ]
  },
  {
   "cell_type": "markdown",
   "id": "dee94c24",
   "metadata": {},
   "source": [
    "## Time formats"
   ]
  },
  {
   "cell_type": "code",
   "execution_count": 1,
   "id": "a686dad8",
   "metadata": {},
   "outputs": [
    {
     "name": "stdout",
     "output_type": "stream",
     "text": [
      "Contingency Table (Crushing White Advantage):\n",
      "\n",
      "Outcome      Loss  Non-Loss\n",
      "Time_format                \n",
      " blitz         67       222\n",
      " bullet        23       135\n",
      " classical     12        47\n",
      " rapid         11       232\n",
      "\n",
      "All expected frequencies are >= 5. Proceeding with chi-square test.\n",
      "Chi-square = 37.2465, p-value = 0.0000, degrees of freedom = 3\n"
     ]
    }
   ],
   "source": [
    "import pandas as pd\n",
    "import numpy as np\n",
    "from scipy.stats import chi2_contingency\n",
    "\n",
    "data = pd.read_csv('data.csv')\n",
    "\n",
    "\n",
    "# Filter for \"Crushing White Advantage\" games\n",
    "cw_data = data[data[\"Elo_Dif_Range\"] == \"Crushing White Advantage\"].copy()\n",
    "\n",
    "# Create a binary outcome column: Loss vs Non-Loss\n",
    "cw_data[\"Outcome\"] = np.where(cw_data[\"Result\"] == \"0-1\", \"Loss\", \"Non-Loss\")\n",
    "\n",
    "# Build the contingency table: Time Format x Outcome\n",
    "contingency_table = pd.crosstab(cw_data[\"Time_format\"], cw_data[\"Outcome\"])\n",
    "\n",
    "# Display the contingency table\n",
    "print(\"Contingency Table (Crushing White Advantage):\\n\")\n",
    "print(contingency_table)\n",
    "\n",
    "# Perform the chi-square test and get expected frequencies\n",
    "chi2, p_value, dof, expected = chi2_contingency(contingency_table)\n",
    "\n",
    "# Check the chi-square assumption: all expected counts >= 5\n",
    "if (expected >= 5).all():\n",
    "    print(\"\\nAll expected frequencies are >= 5. Proceeding with chi-square test.\")\n",
    "    print(f\"Chi-square = {chi2:.4f}, p-value = {p_value:.4f}, degrees of freedom = {dof}\")\n",
    "else:\n",
    "    print(\"\\nWarning: Some expected frequencies are < 5. Chi-square test assumption violated.\")"
   ]
  },
  {
   "cell_type": "markdown",
   "id": "4e444ff7",
   "metadata": {},
   "source": [
    "The result tell us that, under a “Crushing White Advantage,” the chance of losing (vs. not losing) does depend on the time format. In other words, losses after a crushing edge are not equally common in Bullet, Blitz, Rapid and Classical: at least one of those formats has a significantly different loss‐rate."
   ]
  },
  {
   "cell_type": "code",
   "execution_count": 2,
   "id": "51295a1f",
   "metadata": {},
   "outputs": [
    {
     "name": "stdout",
     "output_type": "stream",
     "text": [
      "Contingency table (Crushing White Advantage):\n",
      " Outcome      Loss  Non-Loss\n",
      "FormatGroup                \n",
      "Blitz          67       222\n",
      "Other          46       414 \n",
      "\n",
      "Expected counts:\n",
      " Outcome           Loss    Non-Loss\n",
      "FormatGroup                       \n",
      "Blitz        43.600801  245.399199\n",
      "Other        69.399199  390.600801 \n",
      "\n",
      "χ²(1) = 23.0619,  p = 0.0000\n"
     ]
    }
   ],
   "source": [
    "cw = data[data[\"Elo_Dif_Range\"] == \"Crushing White Advantage\"].copy()\n",
    "#  Clean up Time_format labels\n",
    "cw[\"Time_format_clean\"] = cw[\"Time_format\"].str.strip().str.lower()\n",
    "\n",
    "# Binary time-format: Blitz vs Other\n",
    "cw[\"FormatGroup\"] = np.where(cw[\"Time_format_clean\"] == \"blitz\", \"Blitz\", \"Other\")\n",
    "\n",
    "# Binary outcome: Loss vs Non-Loss\n",
    "cw[\"Outcome\"] = np.where(cw[\"Result\"] == \"0-1\", \"Loss\", \"Non-Loss\")\n",
    "\n",
    "#  Build the 2×2 contingency table\n",
    "table = pd.crosstab(cw[\"FormatGroup\"], cw[\"Outcome\"])\n",
    "print(\"Contingency table (Crushing White Advantage):\\n\", table, \"\\n\")\n",
    "\n",
    "# Chi-square test + check expected counts\n",
    "chi2, p, dof, expected = chi2_contingency(table)\n",
    "\n",
    "exp_df = pd.DataFrame(expected, index=table.index, columns=table.columns)\n",
    "print(\"Expected counts:\\n\", exp_df, \"\\n\")\n",
    "\n",
    "if (expected >= 5).all():\n",
    "    print(f\"χ²({dof}) = {chi2:.4f},  p = {p:.4f}\")\n",
    "else:\n",
    "    print(\" Some expected counts are < 5; χ² may not be valid.\")"
   ]
  },
  {
   "cell_type": "markdown",
   "id": "80ebc213",
   "metadata": {},
   "source": [
    "Loss‐rates differ dramatically. When White has a crushing edge, players still lose about 23.2 % of Blitz games versus only 10.0 % of all other time formats.\n",
    "\n",
    "Highly significant association. The χ² statistic of 23.06 with 1 degree of freedom yields p < 0.0001, so we can reject the null hypothesis that the loss probability is the same in Blitz and “Other” formats."
   ]
  },
  {
   "cell_type": "markdown",
   "id": "666a94b9",
   "metadata": {},
   "source": [
    "## Openings"
   ]
  },
  {
   "cell_type": "code",
   "execution_count": 3,
   "id": "0b7cfb3e",
   "metadata": {},
   "outputs": [
    {
     "name": "stdout",
     "output_type": "stream",
     "text": [
      "Contingency table (Crushing White Advantage):\n",
      " Outcome           Loss  Non-Loss\n",
      "OpeningGroup                    \n",
      "Other               91       531\n",
      "Sicilian Defense    22       105 \n",
      "\n",
      "Expected counts:\n",
      " Outcome                Loss    Non-Loss\n",
      "OpeningGroup                           \n",
      "Other             93.839786  528.160214\n",
      "Sicilian Defense  19.160214  107.839786 \n",
      "\n",
      "χ²(1) = 0.4052,  p = 0.5244\n"
     ]
    }
   ],
   "source": [
    "# Clean up Opening names and binarize: Sicilian Defense vs Other\n",
    "cw[\"Opening_clean\"] = cw[\"Opening_name\"].str.strip().str.lower()\n",
    "cw[\"OpeningGroup\"] = np.where(\n",
    "    cw[\"Opening_clean\"] == \"sicilian defense\", \n",
    "    \"Sicilian Defense\", \n",
    "    \"Other\"\n",
    ")\n",
    "\n",
    "#  Binary outcome: Loss vs Non‐Loss\n",
    "cw[\"Outcome\"] = np.where(cw[\"Result\"] == \"0-1\", \"Loss\", \"Non-Loss\")\n",
    "\n",
    "#  Build the 2×2 contingency table\n",
    "table_opening = pd.crosstab(cw[\"OpeningGroup\"], cw[\"Outcome\"])\n",
    "print(\"Contingency table (Crushing White Advantage):\\n\", table_opening, \"\\n\")\n",
    "\n",
    "# Run chi‐square test and check expected counts\n",
    "chi2, p_chi2, dof, expected = chi2_contingency(table_opening)\n",
    "\n",
    "exp_df = pd.DataFrame(expected, index=table_opening.index, columns=table_opening.columns)\n",
    "print(\"Expected counts:\\n\", exp_df, \"\\n\")\n",
    "\n",
    "if (expected >= 5).all():\n",
    "    print(f\"χ²({dof}) = {chi2:.4f},  p = {p_chi2:.4f}\")\n",
    "else:\n",
    "    print(\"Some expected counts are < 5; χ² may not be valid.\")\n"
   ]
  },
  {
   "cell_type": "markdown",
   "id": "8efc903a",
   "metadata": {},
   "source": [
    "Loss‐rates: Under a crushing White advantage, players still lose about 17.3 % [ 22/(22+105) ] of Sicilian‐Defense games versus 14.6 % of all other openings.\n",
    "\n",
    "No significant difference: A χ² of 0.405 with p = 0.524 means we cannot reject the null hypothesis of equal loss‐rates. In plain terms, loss‐probability under a crushing edge is statistically the same in Sicilian‐Defense as in the rest."
   ]
  },
  {
   "cell_type": "markdown",
   "id": "717fb7f4",
   "metadata": {},
   "source": [
    "# \"Crushing Black Advantage\" games"
   ]
  },
  {
   "cell_type": "markdown",
   "id": "3ede45c9",
   "metadata": {},
   "source": [
    "## Time formats"
   ]
  },
  {
   "cell_type": "code",
   "execution_count": 4,
   "id": "eda2ae88",
   "metadata": {},
   "outputs": [
    {
     "name": "stdout",
     "output_type": "stream",
     "text": [
      "Contingency table (Crushing Black Advantage):\n",
      "\n",
      "Outcome      Loss  Non-Loss\n",
      "FormatGroup                \n",
      "Blitz          62       220\n",
      "Other          58       405\n",
      "\n",
      "Expected counts:\n",
      "\n",
      "Outcome           Loss    Non-Loss\n",
      "FormatGroup                       \n",
      "Blitz        45.422819  236.577181\n",
      "Other        74.577181  388.422819\n",
      "\n",
      "χ²(1) = 10.9143,  p = 0.0010\n"
     ]
    }
   ],
   "source": [
    "cb = data[data[\"Elo_Dif_Range\"] == \"Crushing Black Advantage\"].copy()\n",
    "\n",
    "#  Clean up Time_format labels\n",
    "cb[\"Time_format_clean\"] = cb[\"Time_format\"].str.strip().str.lower()\n",
    "\n",
    "#  Binary time-format: Blitz vs Other\n",
    "cb[\"FormatGroup\"] = np.where(cb[\"Time_format_clean\"] == \"blitz\", \"Blitz\", \"Other\")\n",
    "\n",
    "# Binary outcome: Loss vs Non-Loss (Black loses when Result == \"1-0\")\n",
    "cb[\"Outcome\"] = np.where(cb[\"Result\"] == \"1-0\", \"Loss\", \"Non-Loss\")\n",
    "\n",
    "# Build the 2×2 contingency table\n",
    "table_cb = pd.crosstab(cb[\"FormatGroup\"], cb[\"Outcome\"])\n",
    "print(\"Contingency table (Crushing Black Advantage):\\n\")\n",
    "print(table_cb)\n",
    "\n",
    "# Chi-square test + check expected counts\n",
    "chi2, p, dof, expected = chi2_contingency(table_cb)\n",
    "exp_df = pd.DataFrame(expected, index=table_cb.index, columns=table_cb.columns)\n",
    "\n",
    "print(\"\\nExpected counts:\\n\")\n",
    "print(exp_df)\n",
    "\n",
    "if (expected >= 5).all():\n",
    "    print(f\"\\nχ²({dof}) = {chi2:.4f},  p = {p:.4f}\")\n",
    "else:\n",
    "    print(\"\\n Some expected counts are < 5; χ² may not be valid.\")\n"
   ]
  },
  {
   "cell_type": "markdown",
   "id": "d12d81ea",
   "metadata": {},
   "source": [
    "Interpretation\n",
    "\n",
    "Loss‐rates differ significantly. When Black has a crushing edge, Black still loses about 22.0 % [ (62/(62+220) ] of Blitz games versus only 12.5 % in all other formats.\n",
    "\n",
    "Highly significant association. With p = 0.0010 (< 0.05), we can reject the null of equal loss‐probabilities: under a crushing Black advantage, the format (Blitz vs Other) significantly affects the chance of Black blundering into a loss."
   ]
  },
  {
   "cell_type": "markdown",
   "id": "14b158c0",
   "metadata": {},
   "source": [
    "## Openings"
   ]
  },
  {
   "cell_type": "code",
   "execution_count": 5,
   "id": "e6ae2857",
   "metadata": {},
   "outputs": [
    {
     "name": "stdout",
     "output_type": "stream",
     "text": [
      "Contingency table (Crushing Black Advantage - Sicilian vs Other):\n",
      "\n",
      "Outcome           Loss  Non-Loss\n",
      "OpeningGroup                    \n",
      "Other               87       481\n",
      "Sicilian Defense    33       144\n",
      "\n",
      "Expected counts:\n",
      "\n",
      "Outcome                Loss    Non-Loss\n",
      "OpeningGroup                           \n",
      "Other             91.489933  476.510067\n",
      "Sicilian Defense  28.510067  148.489933\n",
      "\n",
      "χ²(1) = 0.8730,  p = 0.3501\n"
     ]
    }
   ],
   "source": [
    "# Clean Opening names\n",
    "cb[\"Opening_clean\"] = cb[\"Opening_name\"].str.strip().str.lower()\n",
    "\n",
    "# Binarize OpeningGroup: Sicilian Defense vs Other\n",
    "cb[\"OpeningGroup\"] = np.where(cb[\"Opening_clean\"] == \"sicilian defense\",\n",
    "                              \"Sicilian Defense\", \"Other\")\n",
    "\n",
    "# Outcome: Loss vs Non-Loss (Black loses when Result == \"1-0\")\n",
    "cb[\"Outcome\"] = np.where(cb[\"Result\"] == \"1-0\", \"Loss\", \"Non-Loss\")\n",
    "\n",
    "# Build the 2×2 contingency table\n",
    "table_opening_cb = pd.crosstab(cb[\"OpeningGroup\"], cb[\"Outcome\"])\n",
    "print(\"Contingency table (Crushing Black Advantage - Sicilian vs Other):\\n\")\n",
    "print(table_opening_cb)\n",
    "\n",
    "# Chi-square test + expected counts check\n",
    "chi2, p, dof, expected = chi2_contingency(table_opening_cb)\n",
    "exp_df = pd.DataFrame(expected, index=table_opening_cb.index, columns=table_opening_cb.columns)\n",
    "\n",
    "print(\"\\nExpected counts:\\n\")\n",
    "print(exp_df)\n",
    "\n",
    "if (expected >= 5).all():\n",
    "    print(f\"\\nχ²({dof}) = {chi2:.4f},  p = {p:.4f}\")\n",
    "else:\n",
    "    print(\"\\nSome expected counts are < 5; χ² may not be valid. Falling back to Fisher's exact:\")\n"
   ]
  },
  {
   "cell_type": "markdown",
   "id": "49a86710",
   "metadata": {},
   "source": [
    "Loss‐rates are similar. Under a crushing Black advantage, Black still loses about 18.6 % of Sicilian Defense games versus 15.3 % of all other openings.\n",
    "\n",
    "No significant association. With p = 0.3501 (> 0.05), we cannot reject the null hypothesis of equal loss‐probabilities. In plain terms, Sicilian Defense does not show a statistically different loss‐rate compared to other openings when Black is crushingly better."
   ]
  }
 ],
 "metadata": {
  "kernelspec": {
   "display_name": "Python 3 (ipykernel)",
   "language": "python",
   "name": "python3"
  },
  "language_info": {
   "codemirror_mode": {
    "name": "ipython",
    "version": 3
   },
   "file_extension": ".py",
   "mimetype": "text/x-python",
   "name": "python",
   "nbconvert_exporter": "python",
   "pygments_lexer": "ipython3",
   "version": "3.9.7"
  }
 },
 "nbformat": 4,
 "nbformat_minor": 5
}
