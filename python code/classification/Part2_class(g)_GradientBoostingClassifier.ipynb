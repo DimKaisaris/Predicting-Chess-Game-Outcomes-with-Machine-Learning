{
 "cells": [
  {
   "cell_type": "markdown",
   "id": "e017d256-44ca-47e7-a095-8b3aeaa5e768",
   "metadata": {},
   "source": [
    "# GradientBoostingClassifier"
   ]
  },
  {
   "cell_type": "code",
   "execution_count": 1,
   "id": "c654194d-d7f1-43a9-935a-49cd6e3ab7f7",
   "metadata": {},
   "outputs": [
    {
     "data": {
      "text/html": [
       "<style>.container { width:90% !important; }</style>"
      ],
      "text/plain": [
       "<IPython.core.display.HTML object>"
      ]
     },
     "metadata": {},
     "output_type": "display_data"
    }
   ],
   "source": [
    "# increase the width of the notebook\n",
    "from IPython.display import display, HTML, Markdown\n",
    "display(HTML(\"<style>.container { width:90% !important; }</style>\"))\n",
    "\n",
    "import pandas as pd\n",
    "from sklearn.compose import ColumnTransformer\n",
    "from sklearn.preprocessing import StandardScaler, OneHotEncoder\n",
    "from sklearn.pipeline import Pipeline\n",
    "from sklearn.model_selection import GridSearchCV\n",
    "from sklearn.metrics import accuracy_score, classification_report\n",
    "from sklearn.ensemble import GradientBoostingClassifier\n",
    "import joblib"
   ]
  },
  {
   "cell_type": "code",
   "execution_count": 2,
   "id": "8a00d2af-371c-4ad3-bf78-602c6897c2fe",
   "metadata": {},
   "outputs": [],
   "source": [
    "# Load data\n",
    "train = pd.read_csv(\"train.csv\")\n",
    "test = pd.read_csv(\"test.csv\")\n",
    "\n",
    "y_train = train[\"Score\"]\n",
    "y_test = test[\"Score\"]\n",
    "\n",
    "X_train = train.drop(\"Score\", axis=1)\n",
    "X_test = test.drop(\"Score\", axis=1)"
   ]
  },
  {
   "cell_type": "markdown",
   "id": "44403c05-86dc-4510-b4ea-25b44122af06",
   "metadata": {},
   "source": [
    "## Transformations"
   ]
  },
  {
   "cell_type": "code",
   "execution_count": 3,
   "id": "61312ae4-f569-499b-871b-12c4ddadf888",
   "metadata": {},
   "outputs": [],
   "source": [
    "# Preprocessing\n",
    "numeric_features = [\"WhiteElo\", \"EloDif\"]\n",
    "categorical_features = [\"Opening_name\", \"Time_format\", \"Increment_binary\"]\n",
    "\n",
    "numeric_transformer = Pipeline([\n",
    "    (\"scaler\", StandardScaler())\n",
    "])\n",
    "categorical_transformer = Pipeline([\n",
    "    (\"onehot\", OneHotEncoder(handle_unknown=\"ignore\"))\n",
    "])\n",
    "preprocessor = ColumnTransformer([\n",
    "    (\"num\", numeric_transformer, numeric_features),\n",
    "    (\"cat\", categorical_transformer, categorical_features)\n",
    "])"
   ]
  },
  {
   "cell_type": "markdown",
   "id": "da30c343-2a0a-42b7-b3e2-892cc4fc65de",
   "metadata": {},
   "source": [
    "## Full pipeline with Gradient Boosting Classifier"
   ]
  },
  {
   "cell_type": "code",
   "execution_count": 4,
   "id": "497a5396-51dd-4d20-ab2e-3cffeb0178b6",
   "metadata": {},
   "outputs": [
    {
     "name": "stdout",
     "output_type": "stream",
     "text": [
      "Best GBC parameters: {'classifier__learning_rate': 0.03, 'classifier__max_depth': 3, 'classifier__n_estimators': 100, 'classifier__subsample': 1.0}\n",
      "Best GBC CV accuracy: 0.548\n",
      "Test set accuracy (GBC): 0.543\n",
      "\n",
      "Classification Report (GBC):\n",
      "               precision    recall  f1-score   support\n",
      "\n",
      "   Black Win       0.54      0.43      0.48      4524\n",
      "        Draw       0.00      0.00      0.00       566\n",
      "   White Win       0.54      0.71      0.62      4910\n",
      "\n",
      "    accuracy                           0.54     10000\n",
      "   macro avg       0.36      0.38      0.37     10000\n",
      "weighted avg       0.51      0.54      0.52     10000\n",
      "\n"
     ]
    },
    {
     "name": "stderr",
     "output_type": "stream",
     "text": [
      "E:\\Anaconda\\envs\\DAMA\\lib\\site-packages\\sklearn\\metrics\\_classification.py:1565: UndefinedMetricWarning: Precision is ill-defined and being set to 0.0 in labels with no predicted samples. Use `zero_division` parameter to control this behavior.\n",
      "  _warn_prf(average, modifier, f\"{metric.capitalize()} is\", len(result))\n",
      "E:\\Anaconda\\envs\\DAMA\\lib\\site-packages\\sklearn\\metrics\\_classification.py:1565: UndefinedMetricWarning: Precision is ill-defined and being set to 0.0 in labels with no predicted samples. Use `zero_division` parameter to control this behavior.\n",
      "  _warn_prf(average, modifier, f\"{metric.capitalize()} is\", len(result))\n",
      "E:\\Anaconda\\envs\\DAMA\\lib\\site-packages\\sklearn\\metrics\\_classification.py:1565: UndefinedMetricWarning: Precision is ill-defined and being set to 0.0 in labels with no predicted samples. Use `zero_division` parameter to control this behavior.\n",
      "  _warn_prf(average, modifier, f\"{metric.capitalize()} is\", len(result))\n"
     ]
    }
   ],
   "source": [
    "gbc = GradientBoostingClassifier(random_state=42)\n",
    "\n",
    "pipe_gbc = Pipeline([\n",
    "    (\"preprocessor\", preprocessor),\n",
    "    (\"classifier\", gbc)\n",
    "])\n",
    "\n",
    "# Hyperparameter grid\n",
    "param_grid_gbc = {\n",
    "    'classifier__n_estimators': [100, 200],\n",
    "    'classifier__learning_rate': [0.03, 0.1, 0.2],\n",
    "    'classifier__max_depth': [3, 5, 8],\n",
    "    'classifier__subsample': [0.6, 1.0],\n",
    "}\n",
    "\n",
    "# Grid Search\n",
    "grid_search_gbc = GridSearchCV(\n",
    "    pipe_gbc,\n",
    "    param_grid=param_grid_gbc,\n",
    "    cv=3,\n",
    "    scoring='accuracy',\n",
    "    n_jobs=1,\n",
    ")\n",
    "\n",
    "grid_search_gbc.fit(X_train, y_train)\n",
    "\n",
    "# Report results\n",
    "print(\"Best GBC parameters:\", grid_search_gbc.best_params_)\n",
    "print(\"Best GBC CV accuracy: {:.3f}\".format(grid_search_gbc.best_score_))\n",
    "\n",
    "y_pred_gbc = grid_search_gbc.predict(X_test)\n",
    "print(\"Test set accuracy (GBC): {:.3f}\".format(accuracy_score(y_test, y_pred_gbc)))\n",
    "print(\"\\nClassification Report (GBC):\\n\", classification_report(y_test, y_pred_gbc))"
   ]
  },
  {
   "cell_type": "code",
   "execution_count": 5,
   "id": "1ea97bf5-9434-415e-9699-9e75e5267529",
   "metadata": {},
   "outputs": [
    {
     "data": {
      "text/plain": [
       "['best_gradient_boosting.joblib']"
      ]
     },
     "execution_count": 5,
     "metadata": {},
     "output_type": "execute_result"
    }
   ],
   "source": [
    "joblib.dump(grid_search_gbc.best_estimator_, 'best_gradient_boosting.joblib')"
   ]
  },
  {
   "cell_type": "markdown",
   "id": "5f4c7d43-86c9-44a1-87a3-9fcce512028b",
   "metadata": {},
   "source": [
    "### Gradient Boosting Classifier accuracy is also average at 0.543."
   ]
  }
 ],
 "metadata": {
  "kernelspec": {
   "display_name": "Python (DAMA)",
   "language": "python",
   "name": "dama"
  },
  "language_info": {
   "codemirror_mode": {
    "name": "ipython",
    "version": 3
   },
   "file_extension": ".py",
   "mimetype": "text/x-python",
   "name": "python",
   "nbconvert_exporter": "python",
   "pygments_lexer": "ipython3",
   "version": "3.10.16"
  }
 },
 "nbformat": 4,
 "nbformat_minor": 5
}
