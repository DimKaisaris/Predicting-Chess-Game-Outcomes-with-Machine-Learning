{
 "cells": [
  {
   "cell_type": "markdown",
   "id": "50d08959",
   "metadata": {},
   "source": [
    "# AdaBoostClassifier"
   ]
  },
  {
   "cell_type": "code",
   "execution_count": 1,
   "id": "c970ac47",
   "metadata": {},
   "outputs": [
    {
     "data": {
      "text/html": [
       "<style>.container { width:90% !important; }</style>"
      ],
      "text/plain": [
       "<IPython.core.display.HTML object>"
      ]
     },
     "metadata": {},
     "output_type": "display_data"
    }
   ],
   "source": [
    "# increase the width of the notebook\n",
    "from IPython.display import display, HTML, Markdown\n",
    "\n",
    "display(HTML(\"<style>.container { width:90% !important; }</style>\"))"
   ]
  },
  {
   "cell_type": "code",
   "execution_count": 2,
   "id": "5de8885b",
   "metadata": {},
   "outputs": [],
   "source": [
    "import pandas as pd\n",
    "from sklearn.compose import ColumnTransformer\n",
    "from sklearn.preprocessing import StandardScaler, OneHotEncoder\n",
    "from sklearn.model_selection import GridSearchCV\n",
    "from sklearn.metrics import accuracy_score, classification_report\n",
    "from sklearn.ensemble import AdaBoostClassifier"
   ]
  },
  {
   "cell_type": "code",
   "execution_count": 3,
   "id": "c0720d6d",
   "metadata": {},
   "outputs": [],
   "source": [
    "# Load data\n",
    "train = pd.read_csv(\"train.csv\")\n",
    "test = pd.read_csv(\"test.csv\")\n",
    "\n",
    "y_train = train[\"Score\"]\n",
    "y_test = test[\"Score\"]\n",
    "\n",
    "X_train = train.drop(\"Score\", axis=1)\n",
    "X_test = test.drop(\"Score\", axis=1)"
   ]
  },
  {
   "cell_type": "markdown",
   "id": "b056ab04",
   "metadata": {},
   "source": [
    "## Transformations"
   ]
  },
  {
   "cell_type": "code",
   "execution_count": 4,
   "id": "5f751d65",
   "metadata": {},
   "outputs": [],
   "source": [
    "from sklearn.pipeline import Pipeline"
   ]
  },
  {
   "cell_type": "code",
   "execution_count": 5,
   "id": "7d0b7f29",
   "metadata": {},
   "outputs": [],
   "source": [
    "#Preprocessing pipelines\n",
    "numeric_features = [\"WhiteElo\", \"EloDif\"]\n",
    "categorical_features = [\"Opening_name\", \"Time_format\", \"Increment_binary\"]\n",
    "\n",
    "numeric_transformer = Pipeline([\n",
    "    (\"scaler\", StandardScaler())\n",
    "])\n",
    "categorical_transformer = Pipeline([\n",
    "    (\"onehot\", OneHotEncoder(handle_unknown=\"ignore\"))\n",
    "])\n",
    "\n",
    "preprocessor = ColumnTransformer([\n",
    "    (\"num\", numeric_transformer, numeric_features),\n",
    "    (\"cat\", categorical_transformer, categorical_features)\n",
    "])"
   ]
  },
  {
   "cell_type": "code",
   "execution_count": 6,
   "id": "b8b59832",
   "metadata": {},
   "outputs": [],
   "source": [
    "X_train_transformed = preprocessor.fit_transform(X_train)\n",
    "X_test_transformed  = preprocessor.transform(X_test)"
   ]
  },
  {
   "cell_type": "markdown",
   "id": "f16f13b5",
   "metadata": {},
   "source": [
    "## Train"
   ]
  },
  {
   "cell_type": "code",
   "execution_count": 7,
   "id": "b88c2db3",
   "metadata": {},
   "outputs": [],
   "source": [
    "adb = AdaBoostClassifier(random_state=42)"
   ]
  },
  {
   "cell_type": "code",
   "execution_count": 8,
   "id": "21548a33",
   "metadata": {},
   "outputs": [],
   "source": [
    "#) Define a parameter grid\n",
    "param_grid_ab = {\n",
    "    'n_estimators':    [100, 200, 250],\n",
    "    'learning_rate':   [0.01, 0.4, 1.0],\n",
    "}\n"
   ]
  },
  {
   "cell_type": "code",
   "execution_count": 9,
   "id": "a29410ec",
   "metadata": {},
   "outputs": [],
   "source": [
    "#  Wrap in a GridSearchCV\n",
    "grid_search_ab = GridSearchCV(\n",
    "    adb,\n",
    "    param_grid_ab,\n",
    "    cv=3,\n",
    "    scoring='accuracy',\n",
    "    n_jobs=1,\n",
    ")"
   ]
  },
  {
   "cell_type": "code",
   "execution_count": 10,
   "id": "1a81878e",
   "metadata": {},
   "outputs": [
    {
     "data": {
      "text/plain": [
       "GridSearchCV(cv=3, estimator=AdaBoostClassifier(random_state=42), n_jobs=1,\n",
       "             param_grid={'learning_rate': [0.01, 0.4, 1.0],\n",
       "                         'n_estimators': [100, 200, 250]},\n",
       "             scoring='accuracy')"
      ]
     },
     "execution_count": 10,
     "metadata": {},
     "output_type": "execute_result"
    }
   ],
   "source": [
    "#  Fit on transformed training set\n",
    "grid_search_ab.fit(X_train_transformed, y_train)"
   ]
  },
  {
   "cell_type": "code",
   "execution_count": 11,
   "id": "10aa1ec3",
   "metadata": {},
   "outputs": [
    {
     "name": "stdout",
     "output_type": "stream",
     "text": [
      "Best AdaBoost parameters: {'learning_rate': 1.0, 'n_estimators': 250}\n",
      "Best AdaBoost CV accuracy: 0.544\n"
     ]
    }
   ],
   "source": [
    "#  Inspect CV results\n",
    "print(\"Best AdaBoost parameters:\", grid_search_ab.best_params_)\n",
    "print(\"Best AdaBoost CV accuracy: {:.3f}\".format(grid_search_ab.best_score_))"
   ]
  },
  {
   "cell_type": "code",
   "execution_count": 12,
   "id": "53ab8a16",
   "metadata": {},
   "outputs": [
    {
     "name": "stdout",
     "output_type": "stream",
     "text": [
      "Test set accuracy (AdaBoost): 0.547\n",
      "\n",
      "Classification Report (AdaBoost):\n",
      "               precision    recall  f1-score   support\n",
      "\n",
      "   Black Win       0.54      0.46      0.50      4524\n",
      "        Draw       0.00      0.00      0.00       566\n",
      "   White Win       0.55      0.69      0.61      4910\n",
      "\n",
      "    accuracy                           0.55     10000\n",
      "   macro avg       0.36      0.38      0.37     10000\n",
      "weighted avg       0.52      0.55      0.53     10000\n",
      "\n"
     ]
    }
   ],
   "source": [
    "# Evaluate on the test set\n",
    "y_pred_ab = grid_search_ab.predict(X_test_transformed)\n",
    "print(\"Test set accuracy (AdaBoost): {:.3f}\".format(accuracy_score(y_test, y_pred_ab)))\n",
    "print(\"\\nClassification Report (AdaBoost):\\n\", classification_report(y_test, y_pred_ab))"
   ]
  },
  {
   "cell_type": "markdown",
   "id": "3567a229",
   "metadata": {},
   "source": [
    "## The AdaBoost model achieved an accuracy of 0.547, which is very similar to the 0.548 obtained by the Random Forest."
   ]
  },
  {
   "cell_type": "code",
   "execution_count": 13,
   "id": "842762d6",
   "metadata": {},
   "outputs": [
    {
     "data": {
      "text/plain": [
       "['best_adaboost.joblib']"
      ]
     },
     "execution_count": 13,
     "metadata": {},
     "output_type": "execute_result"
    }
   ],
   "source": [
    "#  Save the tuned model\n",
    "import joblib\n",
    "joblib.dump(grid_search_ab.best_estimator_, 'best_adaboost.joblib')"
   ]
  },
  {
   "cell_type": "markdown",
   "id": "170d3f1f",
   "metadata": {},
   "source": [
    "## Random Search"
   ]
  },
  {
   "cell_type": "code",
   "execution_count": 14,
   "id": "a207dded",
   "metadata": {},
   "outputs": [],
   "source": [
    "from sklearn.model_selection import RandomizedSearchCV\n",
    "from scipy.stats import uniform, randint"
   ]
  },
  {
   "cell_type": "code",
   "execution_count": 15,
   "id": "07921c3e",
   "metadata": {},
   "outputs": [],
   "source": [
    "# Define a parameter distribution for RandomizedSearchCV\n",
    "param_distributions_ab = {\n",
    "    'n_estimators': randint(225, 325),  \n",
    "    'learning_rate': uniform(0.1, 1.9), \n",
    "    'algorithm': ['SAMME', 'SAMME.R'] # Include the algorithm parameter\n",
    "}"
   ]
  },
  {
   "cell_type": "code",
   "execution_count": 16,
   "id": "df416d28",
   "metadata": {},
   "outputs": [],
   "source": [
    "# Wrap in a RandomizedSearchCV\n",
    "random_search_ab = RandomizedSearchCV(\n",
    "    adb,\n",
    "    param_distributions=param_distributions_ab,\n",
    "    n_iter=10,  # Number of parameter settings that are sampled\n",
    "    cv=3,\n",
    "    scoring='accuracy',\n",
    "    n_jobs=-1,\n",
    "    random_state=42 \n",
    ")"
   ]
  },
  {
   "cell_type": "markdown",
   "id": "23156fc1",
   "metadata": {},
   "source": [
    "random_search_ab.fit(X_train_transformed, y_train)"
   ]
  },
  {
   "cell_type": "code",
   "execution_count": 18,
   "id": "95dacbed",
   "metadata": {},
   "outputs": [
    {
     "name": "stdout",
     "output_type": "stream",
     "text": [
      "Best AdaBoost parameters (Random Search): {'algorithm': 'SAMME.R', 'learning_rate': 1.4453378978124864, 'n_estimators': 246}\n",
      "Best AdaBoost CV accuracy (Random Search): 0.544\n"
     ]
    }
   ],
   "source": [
    "#  Inspect CV results\n",
    "print(\"Best AdaBoost parameters (Random Search):\", random_search_ab.best_params_)\n",
    "print(\"Best AdaBoost CV accuracy (Random Search): {:.3f}\".format(random_search_ab.best_score_))"
   ]
  },
  {
   "cell_type": "code",
   "execution_count": 19,
   "id": "0411ddc0",
   "metadata": {},
   "outputs": [
    {
     "name": "stdout",
     "output_type": "stream",
     "text": [
      "Test set accuracy (AdaBoost): 0.548\n",
      "\n",
      "Classification Report (AdaBoost):\n",
      "               precision    recall  f1-score   support\n",
      "\n",
      "   Black Win       0.54      0.49      0.51      4524\n",
      "        Draw       0.00      0.00      0.00       566\n",
      "   White Win       0.55      0.67      0.61      4910\n",
      "\n",
      "    accuracy                           0.55     10000\n",
      "   macro avg       0.36      0.39      0.37     10000\n",
      "weighted avg       0.52      0.55      0.53     10000\n",
      "\n"
     ]
    }
   ],
   "source": [
    "#  Evaluate on the test set\n",
    "y_pred_ab = random_search_ab.predict(X_test_transformed)\n",
    "print(\"Test set accuracy (AdaBoost): {:.3f}\".format(accuracy_score(y_test, y_pred_ab)))\n",
    "print(\"\\nClassification Report (AdaBoost):\\n\", classification_report(y_test, y_pred_ab))"
   ]
  },
  {
   "cell_type": "markdown",
   "id": "7f3001e3",
   "metadata": {},
   "source": [
    "### Not much of an improvement!"
   ]
  }
 ],
 "metadata": {
  "kernelspec": {
   "display_name": "Python (DAMA)",
   "language": "python",
   "name": "dama"
  },
  "language_info": {
   "codemirror_mode": {
    "name": "ipython",
    "version": 3
   },
   "file_extension": ".py",
   "mimetype": "text/x-python",
   "name": "python",
   "nbconvert_exporter": "python",
   "pygments_lexer": "ipython3",
   "version": "3.10.16"
  }
 },
 "nbformat": 4,
 "nbformat_minor": 5
}
