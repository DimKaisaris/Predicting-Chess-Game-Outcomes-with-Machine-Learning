{
 "cells": [
  {
   "cell_type": "markdown",
   "id": "fc421638-2dd0-45d2-87dd-178222d98aea",
   "metadata": {},
   "source": [
    "# AdaBoostClassifier"
   ]
  },
  {
   "cell_type": "code",
   "execution_count": 1,
   "id": "80102a48-2de5-41f2-84b7-4c8504dd7803",
   "metadata": {},
   "outputs": [
    {
     "data": {
      "text/html": [
       "<style>.container { width:90% !important; }</style>"
      ],
      "text/plain": [
       "<IPython.core.display.HTML object>"
      ]
     },
     "metadata": {},
     "output_type": "display_data"
    }
   ],
   "source": [
    "# increase the width of the notebook\n",
    "from IPython.display import display, HTML, Markdown\n",
    "display(HTML(\"<style>.container { width:90% !important; }</style>\"))\n",
    "\n",
    "import pandas as pd\n",
    "from sklearn.compose import ColumnTransformer\n",
    "from sklearn.preprocessing import StandardScaler, OneHotEncoder\n",
    "from sklearn.pipeline import Pipeline\n",
    "from sklearn.ensemble import AdaBoostClassifier\n",
    "from sklearn.model_selection import GridSearchCV, RandomizedSearchCV\n",
    "from sklearn.metrics import accuracy_score, classification_report\n",
    "from scipy.stats import uniform, randint\n",
    "import joblib\n",
    "\n",
    "import warnings\n",
    "warnings.filterwarnings('ignore')"
   ]
  },
  {
   "cell_type": "code",
   "execution_count": 2,
   "id": "b00c0587-ca13-4f00-96d2-6fb5daa94628",
   "metadata": {},
   "outputs": [],
   "source": [
    "# Load data\n",
    "train = pd.read_csv(\"train.csv\")\n",
    "test = pd.read_csv(\"test.csv\")\n",
    "\n",
    "y_train = train[\"Score\"]\n",
    "y_test = test[\"Score\"]\n",
    "\n",
    "X_train = train.drop(\"Score\", axis=1)\n",
    "X_test = test.drop(\"Score\", axis=1)"
   ]
  },
  {
   "cell_type": "markdown",
   "id": "f241453d-fd5f-49ea-80f9-0a710380874d",
   "metadata": {},
   "source": [
    "## Transformations"
   ]
  },
  {
   "cell_type": "code",
   "execution_count": 3,
   "id": "1491ecfb-3ad1-4e82-971d-5813f7bda1d9",
   "metadata": {},
   "outputs": [],
   "source": [
    "# Preprocessing\n",
    "numeric_features = [\"WhiteElo\", \"EloDif\"]\n",
    "categorical_features = [\"Opening_name\", \"Time_format\", \"Increment_binary\"]\n",
    "\n",
    "numeric_transformer = Pipeline([\n",
    "    (\"scaler\", StandardScaler())\n",
    "])\n",
    "categorical_transformer = Pipeline([\n",
    "    (\"onehot\", OneHotEncoder(handle_unknown=\"ignore\"))\n",
    "])\n",
    "preprocessor = ColumnTransformer([\n",
    "    (\"num\", numeric_transformer, numeric_features),\n",
    "    (\"cat\", categorical_transformer, categorical_features)\n",
    "])"
   ]
  },
  {
   "cell_type": "code",
   "execution_count": 4,
   "id": "64c38de0-47da-401b-adc8-d0d04b0b84aa",
   "metadata": {},
   "outputs": [
    {
     "name": "stdout",
     "output_type": "stream",
     "text": [
      "Best AdaBoost parameters: {'classifier__learning_rate': 0.01, 'classifier__n_estimators': 100}\n",
      "Best AdaBoost CV accuracy: 0.543\n",
      "Test set accuracy (AdaBoost): 0.539\n",
      "\n",
      "Classification Report (AdaBoost):\n",
      "               precision    recall  f1-score   support\n",
      "\n",
      "   Black Win       0.54      0.39      0.45      4524\n",
      "        Draw       0.00      0.00      0.00       566\n",
      "   White Win       0.54      0.74      0.62      4910\n",
      "\n",
      "    accuracy                           0.54     10000\n",
      "   macro avg       0.36      0.38      0.36     10000\n",
      "weighted avg       0.51      0.54      0.51     10000\n",
      "\n"
     ]
    }
   ],
   "source": [
    "# Base model\n",
    "adb = AdaBoostClassifier(random_state=42)\n",
    "\n",
    "pipe_ab = Pipeline([\n",
    "    (\"preprocessor\", preprocessor),\n",
    "    (\"classifier\", adb)\n",
    "])\n",
    "\n",
    "# Grid Search\n",
    "param_grid_ab = {\n",
    "    'classifier__n_estimators': [100, 200, 250],\n",
    "    'classifier__learning_rate': [0.01, 0.4, 1.0],\n",
    "}\n",
    "\n",
    "grid_search_ab = GridSearchCV(\n",
    "    pipe_ab,\n",
    "    param_grid=param_grid_ab,\n",
    "    cv=3,\n",
    "    scoring='accuracy',\n",
    "    n_jobs=1,\n",
    ")\n",
    "\n",
    "grid_search_ab.fit(X_train, y_train)\n",
    "\n",
    "print(\"Best AdaBoost parameters:\", grid_search_ab.best_params_)\n",
    "print(\"Best AdaBoost CV accuracy: {:.3f}\".format(grid_search_ab.best_score_))\n",
    "\n",
    "y_pred_ab = grid_search_ab.predict(X_test)\n",
    "print(\"Test set accuracy (AdaBoost): {:.3f}\".format(accuracy_score(y_test, y_pred_ab)))\n",
    "print(\"\\nClassification Report (AdaBoost):\\n\", classification_report(y_test, y_pred_ab))"
   ]
  },
  {
   "cell_type": "markdown",
   "id": "714583f7-2f5b-440b-80bc-ab8e09dcba87",
   "metadata": {},
   "source": [
    "## The AdaBoost model achieved an accuracy of 0.539, which is close to the 0.548 obtained by the Random Forest."
   ]
  },
  {
   "cell_type": "code",
   "execution_count": 5,
   "id": "99469283-83ab-469e-9223-b50270024d86",
   "metadata": {},
   "outputs": [
    {
     "data": {
      "text/plain": [
       "['best_adaboost.joblib']"
      ]
     },
     "execution_count": 5,
     "metadata": {},
     "output_type": "execute_result"
    }
   ],
   "source": [
    "joblib.dump(grid_search_ab.best_estimator_, 'best_adaboost.joblib')"
   ]
  },
  {
   "cell_type": "markdown",
   "id": "3e7e4c33-6f28-4f36-9202-2a0c3c728805",
   "metadata": {},
   "source": [
    "## Random Search"
   ]
  },
  {
   "cell_type": "code",
   "execution_count": 6,
   "id": "3c9606aa-66b3-4ab6-ac29-0b7516cc1a5d",
   "metadata": {},
   "outputs": [
    {
     "name": "stdout",
     "output_type": "stream",
     "text": [
      "Best AdaBoost parameters (Random Search): {'classifier__algorithm': 'SAMME', 'classifier__learning_rate': 1.9428287191077893, 'classifier__n_estimators': 254}\n",
      "Best AdaBoost CV accuracy (Random Search): 0.541\n",
      "Test set accuracy (AdaBoost): 0.545\n",
      "\n",
      "Classification Report (AdaBoost):\n",
      "               precision    recall  f1-score   support\n",
      "\n",
      "   Black Win       0.55      0.41      0.47      4524\n",
      "        Draw       0.00      0.00      0.00       566\n",
      "   White Win       0.54      0.73      0.62      4910\n",
      "\n",
      "    accuracy                           0.55     10000\n",
      "   macro avg       0.36      0.38      0.36     10000\n",
      "weighted avg       0.52      0.55      0.52     10000\n",
      "\n"
     ]
    }
   ],
   "source": [
    "param_distributions_ab = {\n",
    "    'classifier__n_estimators': randint(225, 325),  \n",
    "    'classifier__learning_rate': uniform(0.1, 1.9), \n",
    "    'classifier__algorithm': ['SAMME', 'SAMME.R']\n",
    "}\n",
    "\n",
    "random_search_ab = RandomizedSearchCV(\n",
    "    pipe_ab,\n",
    "    param_distributions=param_distributions_ab,\n",
    "    n_iter=10,\n",
    "    cv=3,\n",
    "    scoring='accuracy',\n",
    "    n_jobs=-1,\n",
    "    random_state=42\n",
    ")\n",
    "\n",
    "random_search_ab.fit(X_train, y_train)\n",
    "\n",
    "print(\"Best AdaBoost parameters (Random Search):\", random_search_ab.best_params_)\n",
    "print(\"Best AdaBoost CV accuracy (Random Search): {:.3f}\".format(random_search_ab.best_score_))\n",
    "\n",
    "y_pred_ab = random_search_ab.predict(X_test)\n",
    "print(\"Test set accuracy (AdaBoost): {:.3f}\".format(accuracy_score(y_test, y_pred_ab)))\n",
    "print(\"\\nClassification Report (AdaBoost):\\n\", classification_report(y_test, y_pred_ab))"
   ]
  },
  {
   "cell_type": "markdown",
   "id": "88cf5cc0-afc9-48f9-ad0c-cd45abcf0540",
   "metadata": {},
   "source": [
    "### We got some improvement!"
   ]
  }
 ],
 "metadata": {
  "kernelspec": {
   "display_name": "Python (DAMA)",
   "language": "python",
   "name": "dama"
  },
  "language_info": {
   "codemirror_mode": {
    "name": "ipython",
    "version": 3
   },
   "file_extension": ".py",
   "mimetype": "text/x-python",
   "name": "python",
   "nbconvert_exporter": "python",
   "pygments_lexer": "ipython3",
   "version": "3.10.16"
  }
 },
 "nbformat": 4,
 "nbformat_minor": 5
}
