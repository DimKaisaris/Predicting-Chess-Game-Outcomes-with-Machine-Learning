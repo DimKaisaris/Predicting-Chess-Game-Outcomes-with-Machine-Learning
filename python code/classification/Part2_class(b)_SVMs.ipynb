{
 "cells": [
  {
   "cell_type": "markdown",
   "id": "8494dac1-8429-4416-9bf1-ca78a2a48678",
   "metadata": {},
   "source": [
    "# Support Vector Machine with Polynomial and RBF Kernel (Random Search)"
   ]
  },
  {
   "cell_type": "code",
   "execution_count": 1,
   "id": "994c3685-0a5e-4f77-8b7c-4f785e31484d",
   "metadata": {},
   "outputs": [
    {
     "data": {
      "text/html": [
       "<style>.container { width:90% !important; }</style>"
      ],
      "text/plain": [
       "<IPython.core.display.HTML object>"
      ]
     },
     "metadata": {},
     "output_type": "display_data"
    }
   ],
   "source": [
    "# Increase the width of the notebook\n",
    "from IPython.display import display, HTML, Markdown\n",
    "display(HTML(\"<style>.container { width:90% !important; }</style>\"))\n",
    "\n",
    "import pandas as pd\n",
    "from sklearn.pipeline import Pipeline\n",
    "from sklearn.preprocessing import StandardScaler, OneHotEncoder\n",
    "from sklearn.compose import ColumnTransformer\n",
    "from sklearn.model_selection import RandomizedSearchCV\n",
    "from sklearn.svm import SVC\n",
    "from sklearn.metrics import accuracy_score, classification_report\n",
    "from scipy.stats import uniform, randint\n",
    "import joblib\n",
    "import warnings\n",
    "warnings.filterwarnings('ignore')"
   ]
  },
  {
   "cell_type": "code",
   "execution_count": 2,
   "id": "e7e0f020-ad66-49f0-be90-3c3d075c5c7e",
   "metadata": {},
   "outputs": [],
   "source": [
    "# Load data\n",
    "train = pd.read_csv(\"train.csv\")\n",
    "test = pd.read_csv(\"test.csv\")\n",
    "\n",
    "y_train = train[\"Score\"]\n",
    "y_test = test[\"Score\"]\n",
    "\n",
    "X_train = train.drop(\"Score\", axis=1)\n",
    "X_test = test.drop(\"Score\", axis=1)"
   ]
  },
  {
   "cell_type": "code",
   "execution_count": 3,
   "id": "99d49b66-5449-4f66-b86e-d3853a27acaf",
   "metadata": {},
   "outputs": [],
   "source": [
    "# Preprocessing setup\n",
    "numeric_features = [\"WhiteElo\", \"EloDif\"]\n",
    "categorical_features = [\"Opening_name\", \"Time_format\", \"Increment_binary\"]\n",
    "\n",
    "numeric_transformer = Pipeline([\n",
    "    (\"scaler\", StandardScaler())\n",
    "])\n",
    "categorical_transformer = Pipeline([\n",
    "    (\"onehot\", OneHotEncoder(handle_unknown=\"ignore\"))\n",
    "])\n",
    "\n",
    "preprocessor = ColumnTransformer([\n",
    "    (\"num\", numeric_transformer, numeric_features),\n",
    "    (\"cat\", categorical_transformer, categorical_features)\n",
    "])"
   ]
  },
  {
   "cell_type": "markdown",
   "id": "20a91280-d3d0-4757-8544-eb7f0c7845ce",
   "metadata": {},
   "source": [
    "## Randomized Search for combined kernel SVC"
   ]
  },
  {
   "cell_type": "markdown",
   "id": "25a6c83d-0314-46ef-89f9-e5a49b9d2227",
   "metadata": {},
   "source": [
    "pipe = Pipeline([\n",
    "    (\"preprocessor\", preprocessor),\n",
    "    (\"svc\", SVC())\n",
    "])\n",
    "\n",
    "param_dist = {\n",
    "    \"svc__kernel\": [\"rbf\", \"poly\"],\n",
    "    \"svc__C\": uniform(0.1, 10),\n",
    "    \"svc__gamma\": [\"scale\", \"auto\"],\n",
    "    \"svc__degree\": randint(2, 5),\n",
    "    \"svc__class_weight\": [None, \"balanced\"]\n",
    "}\n",
    "\n",
    "random_search = RandomizedSearchCV(\n",
    "    pipe,\n",
    "    param_distributions=param_dist,\n",
    "    n_iter=20,\n",
    "    cv=3,\n",
    "    scoring=\"accuracy\",\n",
    "    random_state=42,\n",
    "    n_jobs=-1\n",
    ")\n",
    "random_search.fit(X_train, y_train)\n",
    "print(\"Best params (random search):\", random_search.best_params_)\n",
    "print(\"Test set score:\", random_search.score(X_test, y_test))"
   ]
  },
  {
   "cell_type": "markdown",
   "id": "3f0c40df-19f5-4504-87fa-cbd333c9d033",
   "metadata": {},
   "source": [
    "##  RBF SVC (Randomized Search) "
   ]
  },
  {
   "cell_type": "code",
   "execution_count": 4,
   "id": "36813a36-4b8c-4450-9eaf-2991ee6ab727",
   "metadata": {},
   "outputs": [
    {
     "name": "stdout",
     "output_type": "stream",
     "text": [
      "RBF best params: {'svc__C': 3.845401188473625, 'svc__class_weight': None}\n",
      "RBF test accuracy: 0.541\n"
     ]
    }
   ],
   "source": [
    "rbf_pipe = Pipeline([\n",
    "    (\"preprocessor\", preprocessor),\n",
    "    (\"svc\", SVC(kernel=\"rbf\", random_state=42))\n",
    "])\n",
    "\n",
    "param_dist_rbf = {\n",
    "    \"svc__C\": uniform(0.1, 10),\n",
    "    \"svc__class_weight\": [None, \"balanced\"]\n",
    "}\n",
    "\n",
    "random_rbf = RandomizedSearchCV(\n",
    "    rbf_pipe,\n",
    "    param_distributions=param_dist_rbf,\n",
    "    n_iter=10,\n",
    "    cv=3,\n",
    "    scoring=\"accuracy\",\n",
    "    random_state=42,\n",
    "    n_jobs=1\n",
    ")\n",
    "random_rbf.fit(X_train, y_train)\n",
    "print(\"RBF best params:\", random_rbf.best_params_)\n",
    "print(\"RBF test accuracy: {:.3f}\".format(random_rbf.score(X_test, y_test)))"
   ]
  },
  {
   "cell_type": "code",
   "execution_count": 5,
   "id": "5383ca8e-3627-422b-aec7-a8ca36d9ee45",
   "metadata": {},
   "outputs": [
    {
     "data": {
      "text/plain": [
       "['best_svc_rbf.joblib']"
      ]
     },
     "execution_count": 5,
     "metadata": {},
     "output_type": "execute_result"
    }
   ],
   "source": [
    "best_svc_rbf = random_rbf.best_estimator_\n",
    "joblib.dump(best_svc_rbf, 'best_svc_rbf.joblib')"
   ]
  },
  {
   "cell_type": "markdown",
   "id": "eb32c6c7-b273-4c82-b191-f74d3174910b",
   "metadata": {},
   "source": [
    "# Polynomial SVC (Randomized Search) "
   ]
  },
  {
   "cell_type": "code",
   "execution_count": 7,
   "id": "e08cc2f0-6812-45aa-8660-46e16a8d96d4",
   "metadata": {},
   "outputs": [
    {
     "name": "stdout",
     "output_type": "stream",
     "text": [
      "Poly best params: {'svc__C': 1.9182496720710063, 'svc__class_weight': None, 'svc__degree': 2}\n",
      "Poly test accuracy: 0.535\n"
     ]
    },
    {
     "data": {
      "text/plain": [
       "['best_svc_poly.joblib']"
      ]
     },
     "execution_count": 7,
     "metadata": {},
     "output_type": "execute_result"
    }
   ],
   "source": [
    "poly_pipe = Pipeline([\n",
    "    (\"preprocessor\", preprocessor),\n",
    "    (\"svc\", SVC(kernel=\"poly\", random_state=42))\n",
    "])\n",
    "\n",
    "param_dist_poly = {\n",
    "    \"svc__C\": uniform(0.1, 10),\n",
    "    \"svc__degree\": randint(2, 4),\n",
    "    \"svc__class_weight\": [None, \"balanced\"]\n",
    "}\n",
    "\n",
    "random_poly = RandomizedSearchCV(\n",
    "    poly_pipe,\n",
    "    param_distributions=param_dist_poly,\n",
    "    n_iter=10,\n",
    "    cv=3,\n",
    "    scoring=\"accuracy\",\n",
    "    random_state=42,\n",
    "    n_jobs=-1\n",
    ")\n",
    "random_poly.fit(X_train, y_train)\n",
    "print(\"Poly best params:\", random_poly.best_params_)\n",
    "print(\"Poly test accuracy: {:.3f}\".format(random_poly.score(X_test, y_test)))\n",
    "\n",
    "best_svc_poly = random_poly.best_estimator_\n",
    "joblib.dump(best_svc_poly, 'best_svc_poly.joblib')"
   ]
  }
 ],
 "metadata": {
  "kernelspec": {
   "display_name": "Python (DAMA)",
   "language": "python",
   "name": "dama"
  },
  "language_info": {
   "codemirror_mode": {
    "name": "ipython",
    "version": 3
   },
   "file_extension": ".py",
   "mimetype": "text/x-python",
   "name": "python",
   "nbconvert_exporter": "python",
   "pygments_lexer": "ipython3",
   "version": "3.10.16"
  }
 },
 "nbformat": 4,
 "nbformat_minor": 5
}
