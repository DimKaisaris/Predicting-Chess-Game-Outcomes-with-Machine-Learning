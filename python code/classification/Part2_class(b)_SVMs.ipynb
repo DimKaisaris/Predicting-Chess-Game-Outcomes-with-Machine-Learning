{
 "cells": [
  {
   "cell_type": "markdown",
   "id": "532b2626",
   "metadata": {},
   "source": [
    "# Support Vector Machine with Polynomial and RBF Kernel"
   ]
  },
  {
   "cell_type": "code",
   "execution_count": 1,
   "id": "d11445d2",
   "metadata": {},
   "outputs": [
    {
     "data": {
      "text/html": [
       "<style>.container { width:90% !important; }</style>"
      ],
      "text/plain": [
       "<IPython.core.display.HTML object>"
      ]
     },
     "metadata": {},
     "output_type": "display_data"
    }
   ],
   "source": [
    "# increase the width of the notebook\n",
    "from IPython.display import display, HTML, Markdown\n",
    "\n",
    "display(HTML(\"<style>.container { width:90% !important; }</style>\"))"
   ]
  },
  {
   "cell_type": "code",
   "execution_count": 2,
   "id": "54395d60",
   "metadata": {},
   "outputs": [],
   "source": [
    "import pandas as pd\n",
    "from sklearn.pipeline import Pipeline\n",
    "from sklearn.preprocessing import StandardScaler, OneHotEncoder\n",
    "from sklearn.compose import ColumnTransformer\n",
    "from sklearn.model_selection import GridSearchCV, StratifiedKFold\n",
    "from sklearn.svm import SVC\n",
    "from sklearn.metrics import accuracy_score, classification_report"
   ]
  },
  {
   "cell_type": "markdown",
   "id": "adcb53ff",
   "metadata": {},
   "source": [
    "## Separate features and target"
   ]
  },
  {
   "cell_type": "code",
   "execution_count": 3,
   "id": "dc9261be",
   "metadata": {},
   "outputs": [],
   "source": [
    "# Load data\n",
    "train = pd.read_csv(\"train.csv\")\n",
    "test = pd.read_csv(\"test.csv\")\n",
    "\n",
    "y_train = train[\"Score\"]\n",
    "y_test = test[\"Score\"]\n",
    "\n",
    "X_train = train.drop(\"Score\", axis=1)\n",
    "X_test = test.drop(\"Score\", axis=1)"
   ]
  },
  {
   "cell_type": "markdown",
   "id": "cad1e00b",
   "metadata": {},
   "source": [
    "## Transformations"
   ]
  },
  {
   "cell_type": "code",
   "execution_count": 4,
   "id": "6d212907",
   "metadata": {},
   "outputs": [],
   "source": [
    "#Preprocessing pipelines\n",
    "numeric_features = [\"WhiteElo\", \"EloDif\"]\n",
    "categorical_features = [\"Opening_name\", \"Time_format\", \"Increment_binary\"]\n",
    "\n",
    "numeric_transformer = Pipeline([\n",
    "    (\"scaler\", StandardScaler())\n",
    "])\n",
    "categorical_transformer = Pipeline([\n",
    "    (\"onehot\", OneHotEncoder(handle_unknown=\"ignore\"))\n",
    "])\n",
    "\n",
    "preprocessor = ColumnTransformer([\n",
    "    (\"num\", numeric_transformer, numeric_features),\n",
    "    (\"cat\", categorical_transformer, categorical_features)\n",
    "])"
   ]
  },
  {
   "cell_type": "markdown",
   "id": "b8e8d620",
   "metadata": {},
   "source": [
    "## GridSearch"
   ]
  },
  {
   "cell_type": "markdown",
   "id": "77b694a2",
   "metadata": {},
   "source": [
    "pipe = Pipeline([\n",
    "  (\"preproc\", preprocessor),\n",
    "  (\"svc\", SVC())\n",
    "])\n",
    "param_grid = {\n",
    "  \"svc__kernel\": [\"rbf\", \"poly\"],\n",
    "  \"svc__C\": [0.1, 1, 10],\n",
    "  \"svc__gamma\": [\"scale\", \"auto\"],\n",
    "  \"svc__degree\": [2, 3, 4],\n",
    "  \"svc__class_weight\": [None, \"balanced\"]\n",
    "}\n",
    "grid = GridSearchCV(pipe, param_grid, cv=5, scoring=\"accuracy\", n_jobs=-1)\n",
    "grid.fit(X_train, y_train)\n",
    "print(\"Best params:\", grid.best_params_)\n",
    "print(\"Test set score:\", grid.score(X_test, y_test))\n"
   ]
  },
  {
   "cell_type": "code",
   "execution_count": 5,
   "id": "8b9fd68d",
   "metadata": {},
   "outputs": [],
   "source": [
    "\n",
    "X_train_t = preprocessor.fit_transform(X_train)\n",
    "X_test_t  = preprocessor.transform(X_test)\n"
   ]
  },
  {
   "cell_type": "markdown",
   "id": "472a645f-ab3b-48b1-9b30-b05f46711da7",
   "metadata": {},
   "source": [
    "## RBF Kernel"
   ]
  },
  {
   "cell_type": "code",
   "execution_count": 6,
   "id": "a7df2804-d355-40da-8e38-dc16da2d3fd6",
   "metadata": {},
   "outputs": [
    {
     "name": "stdout",
     "output_type": "stream",
     "text": [
      "RBF best params: {'svc__C': 0.1, 'svc__class_weight': None}\n",
      "RBF test accuracy: 0.542\n"
     ]
    }
   ],
   "source": [
    "param_grid_rbf = param_grid_rbf = {\n",
    "    \"svc__C\": [0.1, 1],\n",
    "    \"svc__class_weight\": [None, \"balanced\"]\n",
    "}\n",
    "\n",
    "rbf_pipe = Pipeline([\n",
    "    (\"svc\", SVC(kernel=\"rbf\", random_state=42))\n",
    "])\n",
    "\n",
    "grid_rbf = GridSearchCV(\n",
    "    rbf_pipe,\n",
    "    param_grid=param_grid_rbf,\n",
    "    cv=3,             # fewer folds → ~40% less work\n",
    "    scoring=\"accuracy\",\n",
    "    n_jobs=1          # on a weak PC, 1 job is often faster & less memory‑hungry\n",
    ")\n",
    "grid_rbf.fit(X_train_t, y_train)\n",
    "\n",
    "print(\"RBF best params:\", grid_rbf.best_params_)\n",
    "print(\"RBF test accuracy: {:.3f}\".format(grid_rbf.score(X_test_t, y_test)))\n"
   ]
  },
  {
   "cell_type": "code",
   "execution_count": 7,
   "id": "4c6356b2-7ae1-43d7-b77a-fe8634cf8255",
   "metadata": {},
   "outputs": [
    {
     "data": {
      "text/plain": [
       "['best_svc_rbf.joblib']"
      ]
     },
     "execution_count": 7,
     "metadata": {},
     "output_type": "execute_result"
    }
   ],
   "source": [
    "import joblib\n",
    "\n",
    "best_svc_rbf = grid_rbf.best_estimator_\n",
    "joblib.dump(best_svc_rbf, 'best_svc_rbf.joblib')"
   ]
  },
  {
   "cell_type": "markdown",
   "id": "4f6fa995-8907-4613-bea8-d6d244880241",
   "metadata": {},
   "source": [
    "## Polynomial Kernel"
   ]
  },
  {
   "cell_type": "code",
   "execution_count": 8,
   "id": "6d9fb9c8-a72c-4d68-bd01-f6296c862d05",
   "metadata": {},
   "outputs": [
    {
     "name": "stdout",
     "output_type": "stream",
     "text": [
      "Poly best params: {'svc__C': 0.1, 'svc__class_weight': None, 'svc__degree': 3}\n",
      "Poly test accuracy: 0.534\n"
     ]
    }
   ],
   "source": [
    "param_grid_poly = {\n",
    "    \"svc__C\": [0.1, 1],\n",
    "    \"svc__degree\": [2, 3],\n",
    "    \"svc__class_weight\": [None, \"balanced\"]\n",
    "}\n",
    "\n",
    "poly_pipe = Pipeline([\n",
    "    (\"svc\", SVC(kernel=\"poly\", random_state=42))\n",
    "])\n",
    "\n",
    "grid_poly = GridSearchCV(\n",
    "    poly_pipe,\n",
    "    param_grid=param_grid_poly,\n",
    "    cv=3,\n",
    "    scoring=\"accuracy\",\n",
    "    n_jobs=-1\n",
    ")\n",
    "grid_poly.fit(X_train_t, y_train)\n",
    "\n",
    "print(\"Poly best params:\", grid_poly.best_params_)\n",
    "print(\"Poly test accuracy: {:.3f}\".format(grid_poly.score(X_test_t, y_test)))\n"
   ]
  },
  {
   "cell_type": "code",
   "execution_count": 9,
   "id": "5b8b84bc-231a-4120-9eda-7e4550319143",
   "metadata": {},
   "outputs": [
    {
     "data": {
      "text/plain": [
       "['best_svc_poly.joblib']"
      ]
     },
     "execution_count": 9,
     "metadata": {},
     "output_type": "execute_result"
    }
   ],
   "source": [
    "import joblib\n",
    "best_svc_poly = grid_poly.best_estimator_\n",
    "joblib.dump(best_svc_poly, 'best_svc_poly.joblib')"
   ]
  },
  {
   "cell_type": "markdown",
   "id": "5a6dbb33",
   "metadata": {},
   "source": [
    "### The accuracy achieved by both the Radial Basis Function (RBF) kernel and the Polynomial kernel SVM models is similar to that of our linear models, with scores of 0.542 and 0.534 respectively."
   ]
  }
 ],
 "metadata": {
  "kernelspec": {
   "display_name": "Python 3 (ipykernel)",
   "language": "python",
   "name": "python3"
  },
  "language_info": {
   "codemirror_mode": {
    "name": "ipython",
    "version": 3
   },
   "file_extension": ".py",
   "mimetype": "text/x-python",
   "name": "python",
   "nbconvert_exporter": "python",
   "pygments_lexer": "ipython3",
   "version": "3.9.7"
  }
 },
 "nbformat": 4,
 "nbformat_minor": 5
}
