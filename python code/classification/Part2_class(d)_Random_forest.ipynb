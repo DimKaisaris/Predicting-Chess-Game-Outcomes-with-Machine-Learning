{
 "cells": [
  {
   "cell_type": "markdown",
   "id": "b8e9c7ca",
   "metadata": {},
   "source": [
    "# Random Forest and Feature Importance"
   ]
  },
  {
   "cell_type": "code",
   "execution_count": 1,
   "id": "1980eadc",
   "metadata": {},
   "outputs": [
    {
     "data": {
      "text/html": [
       "<style>.container { width:90% !important; }</style>"
      ],
      "text/plain": [
       "<IPython.core.display.HTML object>"
      ]
     },
     "metadata": {},
     "output_type": "display_data"
    }
   ],
   "source": [
    "# increase the width of the notebook\n",
    "from IPython.display import display, HTML, Markdown\n",
    "\n",
    "display(HTML(\"<style>.container { width:90% !important; }</style>\"))"
   ]
  },
  {
   "cell_type": "code",
   "execution_count": 2,
   "id": "20ac90ac",
   "metadata": {},
   "outputs": [],
   "source": [
    "import pandas as pd\n",
    "from sklearn.compose import ColumnTransformer\n",
    "from sklearn.preprocessing import StandardScaler, OneHotEncoder\n",
    "from sklearn.tree import DecisionTreeClassifier\n",
    "from sklearn.model_selection import GridSearchCV\n",
    "from sklearn.metrics import accuracy_score, classification_report"
   ]
  },
  {
   "cell_type": "code",
   "execution_count": 3,
   "id": "85c0a800",
   "metadata": {},
   "outputs": [],
   "source": [
    "from sklearn.ensemble import RandomForestClassifier"
   ]
  },
  {
   "cell_type": "code",
   "execution_count": 4,
   "id": "e50b362f",
   "metadata": {},
   "outputs": [],
   "source": [
    "rf = RandomForestClassifier(random_state=42)"
   ]
  },
  {
   "cell_type": "code",
   "execution_count": 5,
   "id": "7f829e88",
   "metadata": {},
   "outputs": [],
   "source": [
    "# Load data\n",
    "train = pd.read_csv(\"train.csv\")\n",
    "test = pd.read_csv(\"test.csv\")\n",
    "\n",
    "y_train = train[\"Score\"]\n",
    "y_test = test[\"Score\"]\n",
    "\n",
    "X_train = train.drop(\"Score\", axis=1)\n",
    "X_test = test.drop(\"Score\", axis=1)"
   ]
  },
  {
   "cell_type": "markdown",
   "id": "dc0cc2b4",
   "metadata": {},
   "source": [
    "## Transformations"
   ]
  },
  {
   "cell_type": "code",
   "execution_count": 6,
   "id": "fc6deefe",
   "metadata": {},
   "outputs": [],
   "source": [
    "from sklearn.pipeline import Pipeline"
   ]
  },
  {
   "cell_type": "code",
   "execution_count": 7,
   "id": "c09d1f74",
   "metadata": {},
   "outputs": [],
   "source": [
    "#Preprocessing pipelines\n",
    "numeric_features = [\"WhiteElo\", \"EloDif\"]\n",
    "categorical_features = [\"Opening_name\", \"Time_format\", \"Increment_binary\"]\n",
    "\n",
    "numeric_transformer = Pipeline([\n",
    "    (\"scaler\", StandardScaler())\n",
    "])\n",
    "categorical_transformer = Pipeline([\n",
    "    (\"onehot\", OneHotEncoder(handle_unknown=\"ignore\"))\n",
    "])\n",
    "\n",
    "preprocessor = ColumnTransformer([\n",
    "    (\"num\", numeric_transformer, numeric_features),\n",
    "    (\"cat\", categorical_transformer, categorical_features)\n",
    "])"
   ]
  },
  {
   "cell_type": "code",
   "execution_count": 8,
   "id": "2f8ceb92",
   "metadata": {},
   "outputs": [],
   "source": [
    "X_train_transformed = preprocessor.fit_transform(X_train)\n",
    "X_test_transformed  = preprocessor.transform(X_test)\n"
   ]
  },
  {
   "cell_type": "markdown",
   "id": "65ae9ef7",
   "metadata": {},
   "source": [
    "## Train"
   ]
  },
  {
   "cell_type": "code",
   "execution_count": 9,
   "id": "f994b877",
   "metadata": {},
   "outputs": [
    {
     "name": "stdout",
     "output_type": "stream",
     "text": [
      "Best RF parameters: {'max_depth': 10, 'min_samples_leaf': 2, 'min_samples_split': 2, 'n_estimators': 200}\n",
      "Best RF CV accuracy: 0.546\n",
      "Test set accuracy (RF): 0.548\n",
      "\n",
      "Classification Report (RF):\n",
      "               precision    recall  f1-score   support\n",
      "\n",
      "   Black Win       0.55      0.45      0.50      4524\n",
      "        Draw       0.00      0.00      0.00       566\n",
      "   White Win       0.55      0.70      0.61      4910\n",
      "\n",
      "    accuracy                           0.55     10000\n",
      "   macro avg       0.37      0.38      0.37     10000\n",
      "weighted avg       0.52      0.55      0.53     10000\n",
      "\n"
     ]
    },
    {
     "name": "stderr",
     "output_type": "stream",
     "text": [
      "C:\\Users\\dimit\\anaconda3\\lib\\site-packages\\sklearn\\metrics\\_classification.py:1248: UndefinedMetricWarning: Precision and F-score are ill-defined and being set to 0.0 in labels with no predicted samples. Use `zero_division` parameter to control this behavior.\n",
      "  _warn_prf(average, modifier, msg_start, len(result))\n",
      "C:\\Users\\dimit\\anaconda3\\lib\\site-packages\\sklearn\\metrics\\_classification.py:1248: UndefinedMetricWarning: Precision and F-score are ill-defined and being set to 0.0 in labels with no predicted samples. Use `zero_division` parameter to control this behavior.\n",
      "  _warn_prf(average, modifier, msg_start, len(result))\n",
      "C:\\Users\\dimit\\anaconda3\\lib\\site-packages\\sklearn\\metrics\\_classification.py:1248: UndefinedMetricWarning: Precision and F-score are ill-defined and being set to 0.0 in labels with no predicted samples. Use `zero_division` parameter to control this behavior.\n",
      "  _warn_prf(average, modifier, msg_start, len(result))\n"
     ]
    }
   ],
   "source": [
    "\n",
    "param_grid_rf = {\n",
    "    'n_estimators':    [50, 100, 200],\n",
    "    'max_depth':       [None, 10],\n",
    "    'min_samples_split':[2, 5],\n",
    "    'min_samples_leaf': [1, 2]\n",
    "}\n",
    "\n",
    "#  Wrap in a GridSearchCV\n",
    "grid_search_rf = GridSearchCV(\n",
    "    rf,\n",
    "    param_grid_rf,\n",
    "    cv=3,\n",
    "    scoring='accuracy',\n",
    "    n_jobs=1,\n",
    ")\n",
    "\n",
    "# Fit on the preprocessed training set\n",
    "grid_search_rf.fit(X_train_transformed, y_train)\n",
    "\n",
    "# Inspect CV results\n",
    "print(\"Best RF parameters:\", grid_search_rf.best_params_)\n",
    "print(\"Best RF CV accuracy: {:.3f}\".format(grid_search_rf.best_score_))\n",
    "\n",
    "# Evaluate on the test set\n",
    "y_pred_rf = grid_search_rf.predict(X_test_transformed)\n",
    "print(\"Test set accuracy (RF): {:.3f}\".format(accuracy_score(y_test, y_pred_rf)))\n",
    "print(\"\\nClassification Report (RF):\\n\", classification_report(y_test, y_pred_rf))\n"
   ]
  },
  {
   "cell_type": "markdown",
   "id": "e71dbb7d",
   "metadata": {},
   "source": [
    "### The Random Forest model has achieved an accuracy of 0.548, which is the best performance we have observed so far."
   ]
  },
  {
   "cell_type": "code",
   "execution_count": 10,
   "id": "7772d586",
   "metadata": {},
   "outputs": [
    {
     "data": {
      "text/plain": [
       "['best_random_forest.joblib']"
      ]
     },
     "execution_count": 10,
     "metadata": {},
     "output_type": "execute_result"
    }
   ],
   "source": [
    "import joblib\n",
    "joblib.dump(grid_search_rf.best_estimator_, 'best_random_forest.joblib')"
   ]
  },
  {
   "cell_type": "markdown",
   "id": "82bda17c",
   "metadata": {},
   "source": [
    "## Feature Importance"
   ]
  },
  {
   "cell_type": "code",
   "execution_count": 14,
   "id": "af7db7fc",
   "metadata": {},
   "outputs": [],
   "source": [
    "# Get feature importances from the best estimator\n",
    "best_rf_model = grid_search_rf.best_estimator_\n",
    "# Get feature names after preprocessing\n",
    "ohe = preprocessor.named_transformers_['cat'].named_steps['onehot']\n",
    "encoded_categorical_features = ohe.get_feature_names(categorical_features)\n",
    "feature_names = numeric_features + list(encoded_categorical_features)"
   ]
  },
  {
   "cell_type": "code",
   "execution_count": 15,
   "id": "8b1b2ff3",
   "metadata": {},
   "outputs": [
    {
     "name": "stdout",
     "output_type": "stream",
     "text": [
      "0.29: WhiteElo\n",
      "0.61: EloDif\n",
      "0.0: Opening_name_Caro-Kann defense\n",
      "0.0: Opening_name_Closed Game, Irregular Responses\n",
      "0.0: Opening_name_English Opening\n",
      "0.0: Opening_name_French Defense\n",
      "0.0: Opening_name_Irregular Openings\n",
      "0.01: Opening_name_Other\n",
      "0.0: Opening_name_Queen's Gambit\n",
      "0.01: Opening_name_Queen's Pawn Game\n",
      "0.0: Opening_name_Scandinavian Defense (Center-Counter Defense)\n",
      "0.0: Opening_name_Sicilian defense\n",
      "0.0: Opening_name_Zukertort Opening\n",
      "0.01: Time_format_ blitz \n",
      "0.01: Time_format_ bullet \n",
      "0.01: Time_format_ classical \n",
      "0.01: Time_format_ rapid \n",
      "0.01: Increment_binary_No\n",
      "0.01: Increment_binary_Yes\n"
     ]
    }
   ],
   "source": [
    "# Print feature importances\n",
    "if hasattr(best_rf_model, 'feature_importances_'):\n",
    "    for score, name in zip(best_rf_model.feature_importances_, feature_names):\n",
    "        print(f\"{round(score, 2)}: {name}\")\n",
    "else:\n",
    "    print(\"The best estimator does not have feature_importances_ attribute.\")"
   ]
  },
  {
   "cell_type": "markdown",
   "id": "7a88cc19",
   "metadata": {},
   "source": [
    "### 0.61: EloDif (Elo Difference): This is by far the most important feature according to the model.\n",
    "### 0.29: WhiteElo (White's Elo): White's individual Elo rating also has a significant impact, although less than the Elo difference. This suggests that even when the Elo difference is the same, the absolute strength of White can still influence the outcome.\n",
    "### The rest features have a very small, almost negligible importance score."
   ]
  },
  {
   "cell_type": "code",
   "execution_count": null,
   "id": "b474fff2",
   "metadata": {},
   "outputs": [],
   "source": []
  }
 ],
 "metadata": {
  "kernelspec": {
   "display_name": "Python 3 (ipykernel)",
   "language": "python",
   "name": "python3"
  },
  "language_info": {
   "codemirror_mode": {
    "name": "ipython",
    "version": 3
   },
   "file_extension": ".py",
   "mimetype": "text/x-python",
   "name": "python",
   "nbconvert_exporter": "python",
   "pygments_lexer": "ipython3",
   "version": "3.9.7"
  }
 },
 "nbformat": 4,
 "nbformat_minor": 5
}
