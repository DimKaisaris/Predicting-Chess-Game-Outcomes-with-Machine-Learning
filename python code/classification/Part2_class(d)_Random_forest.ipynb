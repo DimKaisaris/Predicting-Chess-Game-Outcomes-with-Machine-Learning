{
 "cells": [
  {
   "cell_type": "code",
   "execution_count": 1,
   "id": "997e36d5-5955-46a9-a750-2a488ec11d51",
   "metadata": {},
   "outputs": [
    {
     "data": {
      "text/html": [
       "<style>.container { width:90% !important; }</style>"
      ],
      "text/plain": [
       "<IPython.core.display.HTML object>"
      ]
     },
     "metadata": {},
     "output_type": "display_data"
    }
   ],
   "source": [
    "# Random Forest and Feature Importance\n",
    "\n",
    "# increase the width of the notebook\n",
    "from IPython.display import display, HTML, Markdown\n",
    "display(HTML(\"<style>.container { width:90% !important; }</style>\"))\n",
    "\n",
    "import pandas as pd\n",
    "from sklearn.compose import ColumnTransformer\n",
    "from sklearn.preprocessing import StandardScaler, OneHotEncoder\n",
    "from sklearn.model_selection import GridSearchCV\n",
    "from sklearn.metrics import accuracy_score, classification_report\n",
    "from sklearn.ensemble import RandomForestClassifier\n",
    "from sklearn.pipeline import Pipeline\n",
    "import joblib\n",
    "\n",
    "import warnings\n",
    "warnings.filterwarnings('ignore')"
   ]
  },
  {
   "cell_type": "code",
   "execution_count": 2,
   "id": "af92dd5c-857c-4bde-bda0-a6afe409079f",
   "metadata": {},
   "outputs": [],
   "source": [
    "# Load data\n",
    "train = pd.read_csv(\"train.csv\")\n",
    "test = pd.read_csv(\"test.csv\")\n",
    "\n",
    "y_train = train[\"Score\"]\n",
    "y_test = test[\"Score\"]\n",
    "\n",
    "X_train = train.drop(\"Score\", axis=1)\n",
    "X_test = test.drop(\"Score\", axis=1)"
   ]
  },
  {
   "cell_type": "markdown",
   "id": "bad9e85c-6a66-4fd4-945b-3bd76167a3df",
   "metadata": {},
   "source": [
    "## Transformations"
   ]
  },
  {
   "cell_type": "code",
   "execution_count": 3,
   "id": "754d34dd-6a86-4f26-8b21-45eb494e2e67",
   "metadata": {},
   "outputs": [],
   "source": [
    "# Preprocessing pipelines\n",
    "numeric_features = [\"WhiteElo\", \"EloDif\"]\n",
    "categorical_features = [\"Opening_name\", \"Time_format\", \"Increment_binary\"]\n",
    "\n",
    "numeric_transformer = Pipeline([\n",
    "    (\"scaler\", StandardScaler())\n",
    "])\n",
    "categorical_transformer = Pipeline([\n",
    "    (\"onehot\", OneHotEncoder(handle_unknown=\"ignore\"))\n",
    "])\n",
    "\n",
    "preprocessor = ColumnTransformer([\n",
    "    (\"num\", numeric_transformer, numeric_features),\n",
    "    (\"cat\", categorical_transformer, categorical_features)\n",
    "])"
   ]
  },
  {
   "cell_type": "code",
   "execution_count": 4,
   "id": "7f0a75ef-8e29-41a1-b42a-0e041aba4bdf",
   "metadata": {},
   "outputs": [
    {
     "name": "stdout",
     "output_type": "stream",
     "text": [
      "Best RF parameters: {'classifier__max_depth': 10, 'classifier__min_samples_leaf': 2, 'classifier__min_samples_split': 2, 'classifier__n_estimators': 200}\n",
      "Best RF CV accuracy: 0.546\n",
      "Test set accuracy (RF): 0.548\n",
      "\n",
      "Classification Report (RF):\n",
      "               precision    recall  f1-score   support\n",
      "\n",
      "   Black Win       0.55      0.45      0.50      4524\n",
      "        Draw       0.00      0.00      0.00       566\n",
      "   White Win       0.55      0.70      0.61      4910\n",
      "\n",
      "    accuracy                           0.55     10000\n",
      "   macro avg       0.37      0.38      0.37     10000\n",
      "weighted avg       0.52      0.55      0.53     10000\n",
      "\n"
     ]
    }
   ],
   "source": [
    "# Random Forest pipeline\n",
    "rf = RandomForestClassifier(random_state=42)\n",
    "\n",
    "pipe_rf = Pipeline([\n",
    "    (\"preprocessor\", preprocessor),\n",
    "    (\"classifier\", rf)\n",
    "])\n",
    "\n",
    "param_grid_rf = {\n",
    "    'classifier__n_estimators': [50, 100, 200],\n",
    "    'classifier__max_depth': [None, 10],\n",
    "    'classifier__min_samples_split': [2, 5],\n",
    "    'classifier__min_samples_leaf': [1, 2]\n",
    "}\n",
    "\n",
    "grid_search_rf = GridSearchCV(\n",
    "    pipe_rf,\n",
    "    param_grid_rf,\n",
    "    cv=3,\n",
    "    scoring='accuracy',\n",
    "    n_jobs=1,\n",
    ")\n",
    "\n",
    "grid_search_rf.fit(X_train, y_train)\n",
    "\n",
    "# Evaluate\n",
    "print(\"Best RF parameters:\", grid_search_rf.best_params_)\n",
    "print(\"Best RF CV accuracy: {:.3f}\".format(grid_search_rf.best_score_))\n",
    "\n",
    "y_pred_rf = grid_search_rf.predict(X_test)\n",
    "print(\"Test set accuracy (RF): {:.3f}\".format(accuracy_score(y_test, y_pred_rf)))\n",
    "print(\"\\nClassification Report (RF):\\n\", classification_report(y_test, y_pred_rf))"
   ]
  },
  {
   "cell_type": "markdown",
   "id": "3a3b4cba-1d82-4a1c-bc28-a71d4fc0d0ed",
   "metadata": {},
   "source": [
    "### The Random Forest model has achieved an accuracy of 0.548, which is the best performance we have observed so far."
   ]
  },
  {
   "cell_type": "code",
   "execution_count": 5,
   "id": "d93ebfe8-7c44-43cf-8821-fda1104faa5c",
   "metadata": {},
   "outputs": [
    {
     "data": {
      "text/plain": [
       "['best_random_forest.joblib']"
      ]
     },
     "execution_count": 5,
     "metadata": {},
     "output_type": "execute_result"
    }
   ],
   "source": [
    "joblib.dump(grid_search_rf.best_estimator_, 'best_random_forest.joblib')"
   ]
  },
  {
   "cell_type": "markdown",
   "id": "59547bcc-1ce6-41d7-8c15-d0487b13d911",
   "metadata": {},
   "source": [
    "##  === Feature Importance ==="
   ]
  },
  {
   "cell_type": "code",
   "execution_count": 6,
   "id": "9de199ce-afae-47f4-9690-8c6572cd665a",
   "metadata": {},
   "outputs": [
    {
     "name": "stdout",
     "output_type": "stream",
     "text": [
      "0.29: WhiteElo\n",
      "0.61: EloDif\n",
      "0.0: Opening_name_Caro-Kann defense\n",
      "0.0: Opening_name_Closed Game, Irregular Responses\n",
      "0.0: Opening_name_English Opening\n",
      "0.0: Opening_name_French Defense\n",
      "0.0: Opening_name_Irregular Openings\n",
      "0.01: Opening_name_Other\n",
      "0.0: Opening_name_Queen's Gambit\n",
      "0.01: Opening_name_Queen's Pawn Game\n",
      "0.0: Opening_name_Scandinavian Defense (Center-Counter Defense)\n",
      "0.0: Opening_name_Sicilian defense\n",
      "0.0: Opening_name_Zukertort Opening\n",
      "0.01: Time_format_ blitz \n",
      "0.01: Time_format_ bullet \n",
      "0.01: Time_format_ classical \n",
      "0.01: Time_format_ rapid \n",
      "0.01: Increment_binary_No\n",
      "0.01: Increment_binary_Yes\n"
     ]
    }
   ],
   "source": [
    "# Re-fit preprocessor separately to get feature names \n",
    "preprocessor.fit(X_train)\n",
    "ohe = preprocessor.named_transformers_['cat'].named_steps['onehot']\n",
    "encoded_categorical_features = ohe.get_feature_names_out(categorical_features)\n",
    "feature_names = numeric_features + list(encoded_categorical_features)\n",
    "\n",
    "# Extract feature importances\n",
    "best_rf_model = grid_search_rf.best_estimator_.named_steps[\"classifier\"]\n",
    "\n",
    "if hasattr(best_rf_model, 'feature_importances_'):\n",
    "    for score, name in zip(best_rf_model.feature_importances_, feature_names):\n",
    "        print(f\"{round(score, 2)}: {name}\")\n",
    "else:\n",
    "    print(\"The best estimator does not have feature_importances_ attribute.\")"
   ]
  },
  {
   "cell_type": "markdown",
   "id": "03a5d079-3f41-4942-a388-9209d003dc9c",
   "metadata": {},
   "source": [
    "### 0.61: EloDif (Elo Difference): This is by far the most important feature according to the model.\n",
    "### 0.29: WhiteElo (White's Elo): White's individual Elo rating also has a significant impact, although less than the Elo difference. This suggests that even when the Elo difference is the same, the absolute strength of White can still influence the outcome.\n",
    "### The rest features have a very small, almost negligible importance score."
   ]
  }
 ],
 "metadata": {
  "kernelspec": {
   "display_name": "Python (DAMA)",
   "language": "python",
   "name": "dama"
  },
  "language_info": {
   "codemirror_mode": {
    "name": "ipython",
    "version": 3
   },
   "file_extension": ".py",
   "mimetype": "text/x-python",
   "name": "python",
   "nbconvert_exporter": "python",
   "pygments_lexer": "ipython3",
   "version": "3.10.16"
  }
 },
 "nbformat": 4,
 "nbformat_minor": 5
}
