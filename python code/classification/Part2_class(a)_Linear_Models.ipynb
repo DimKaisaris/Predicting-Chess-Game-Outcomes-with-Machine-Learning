{
 "cells": [
  {
   "cell_type": "markdown",
   "id": "394c09aa",
   "metadata": {},
   "source": [
    "# Linear Models: LogisticRegression, SGDClassifier, LinearSVC  "
   ]
  },
  {
   "cell_type": "code",
   "execution_count": 1,
   "id": "0c85dcff",
   "metadata": {},
   "outputs": [
    {
     "data": {
      "text/html": [
       "<style>.container { width:90% !important; }</style>"
      ],
      "text/plain": [
       "<IPython.core.display.HTML object>"
      ]
     },
     "metadata": {},
     "output_type": "display_data"
    }
   ],
   "source": [
    "# increase the width of the notebook\n",
    "from IPython.display import display, HTML, Markdown\n",
    "\n",
    "display(HTML(\"<style>.container { width:90% !important; }</style>\"))"
   ]
  },
  {
   "cell_type": "code",
   "execution_count": 2,
   "id": "5720d775",
   "metadata": {},
   "outputs": [],
   "source": [
    "import pandas as pd\n",
    "from sklearn.pipeline import Pipeline\n",
    "from sklearn.preprocessing import StandardScaler, OneHotEncoder\n",
    "from sklearn.compose import ColumnTransformer\n",
    "from sklearn.linear_model import LogisticRegression, SGDClassifier\n",
    "from sklearn.svm import LinearSVC\n",
    "from sklearn.model_selection import GridSearchCV, StratifiedKFold\n",
    "from sklearn.metrics import classification_report, accuracy_score"
   ]
  },
  {
   "cell_type": "markdown",
   "id": "3ff3992e",
   "metadata": {},
   "source": [
    "## Separate features and target"
   ]
  },
  {
   "cell_type": "code",
   "execution_count": 3,
   "id": "52ae9d8b",
   "metadata": {},
   "outputs": [],
   "source": [
    "# Load data\n",
    "train = pd.read_csv(\"train.csv\")\n",
    "test = pd.read_csv(\"test.csv\")\n",
    "\n",
    "y_train = train[\"Score\"]\n",
    "y_test = test[\"Score\"]\n",
    "\n",
    "X_train = train.drop(\"Score\", axis=1)\n",
    "X_test = test.drop(\"Score\", axis=1)"
   ]
  },
  {
   "cell_type": "markdown",
   "id": "dc80a68b",
   "metadata": {},
   "source": [
    "## Transformations"
   ]
  },
  {
   "cell_type": "code",
   "execution_count": 4,
   "id": "173a9e62",
   "metadata": {},
   "outputs": [],
   "source": [
    "#Preprocessing pipelines\n",
    "numeric_features = [\"WhiteElo\", \"EloDif\"]\n",
    "categorical_features = [\"Opening_name\", \"Time_format\", \"Increment_binary\"]\n",
    "\n",
    "numeric_transformer = Pipeline([\n",
    "    (\"scaler\", StandardScaler())\n",
    "])\n",
    "categorical_transformer = Pipeline([\n",
    "    (\"onehot\", OneHotEncoder(handle_unknown=\"ignore\"))\n",
    "])\n",
    "\n",
    "preprocessor = ColumnTransformer([\n",
    "    (\"num\", numeric_transformer, numeric_features),\n",
    "    (\"cat\", categorical_transformer, categorical_features)\n",
    "])"
   ]
  },
  {
   "cell_type": "code",
   "execution_count": 5,
   "id": "6204fe9c",
   "metadata": {},
   "outputs": [],
   "source": [
    "X_train_transformed = preprocessor.fit_transform(X_train)\n",
    "X_test_transformed  = preprocessor.transform(X_test)"
   ]
  },
  {
   "cell_type": "markdown",
   "id": "74ebe87d",
   "metadata": {},
   "source": [
    "##  Logistic Regression and GridSearch"
   ]
  },
  {
   "cell_type": "code",
   "execution_count": 6,
   "id": "9ffa3527",
   "metadata": {},
   "outputs": [],
   "source": [
    "lr = LogisticRegression ( solver=\"lbfgs\",multi_class=\"multinomial\", max_iter=1000, random_state=42)"
   ]
  },
  {
   "cell_type": "code",
   "execution_count": 7,
   "id": "fb64e610",
   "metadata": {},
   "outputs": [
    {
     "data": {
      "text/plain": [
       "GridSearchCV(cv=3,\n",
       "             estimator=LogisticRegression(max_iter=1000,\n",
       "                                          multi_class='multinomial',\n",
       "                                          random_state=42),\n",
       "             n_jobs=-1, param_grid={'C': [0.01, 0.1, 1, 10]},\n",
       "             scoring='accuracy')"
      ]
     },
     "execution_count": 7,
     "metadata": {},
     "output_type": "execute_result"
    }
   ],
   "source": [
    "param_lr = {\"C\": [0.01, 0.1, 1, 10]}\n",
    "grid_search_lr = GridSearchCV(lr, param_lr, cv=3, scoring='accuracy', n_jobs=-1)\n",
    "grid_search_lr.fit(X_train_transformed, y_train)"
   ]
  },
  {
   "cell_type": "code",
   "execution_count": 8,
   "id": "452333b7",
   "metadata": {},
   "outputs": [
    {
     "name": "stdout",
     "output_type": "stream",
     "text": [
      "Best params: {'C': 10}\n"
     ]
    }
   ],
   "source": [
    "print(\"Best params:\", grid_search_lr.best_params_)\n",
    "best_lr = grid_search_lr.best_estimator_"
   ]
  },
  {
   "cell_type": "code",
   "execution_count": 9,
   "id": "575e0fe9",
   "metadata": {},
   "outputs": [
    {
     "name": "stdout",
     "output_type": "stream",
     "text": [
      "Test accuracy: 53.77%\n",
      "              precision    recall  f1-score   support\n",
      "\n",
      "   Black Win       0.53      0.44      0.48      4524\n",
      "        Draw       0.00      0.00      0.00       566\n",
      "   White Win       0.54      0.69      0.61      4910\n",
      "\n",
      "    accuracy                           0.54     10000\n",
      "   macro avg       0.36      0.38      0.36     10000\n",
      "weighted avg       0.51      0.54      0.52     10000\n",
      "\n"
     ]
    },
    {
     "name": "stderr",
     "output_type": "stream",
     "text": [
      "C:\\Users\\dimit\\anaconda3\\lib\\site-packages\\sklearn\\metrics\\_classification.py:1248: UndefinedMetricWarning: Precision and F-score are ill-defined and being set to 0.0 in labels with no predicted samples. Use `zero_division` parameter to control this behavior.\n",
      "  _warn_prf(average, modifier, msg_start, len(result))\n",
      "C:\\Users\\dimit\\anaconda3\\lib\\site-packages\\sklearn\\metrics\\_classification.py:1248: UndefinedMetricWarning: Precision and F-score are ill-defined and being set to 0.0 in labels with no predicted samples. Use `zero_division` parameter to control this behavior.\n",
      "  _warn_prf(average, modifier, msg_start, len(result))\n",
      "C:\\Users\\dimit\\anaconda3\\lib\\site-packages\\sklearn\\metrics\\_classification.py:1248: UndefinedMetricWarning: Precision and F-score are ill-defined and being set to 0.0 in labels with no predicted samples. Use `zero_division` parameter to control this behavior.\n",
      "  _warn_prf(average, modifier, msg_start, len(result))\n"
     ]
    }
   ],
   "source": [
    "y_pred = best_lr.predict(X_test_transformed)\n",
    "print(\"Test accuracy: {:.2f}%\".format(100 * accuracy_score(y_test, y_pred)))\n",
    "print(classification_report(y_test, y_pred))"
   ]
  },
  {
   "cell_type": "markdown",
   "id": "5e3e0e29",
   "metadata": {},
   "source": [
    "### The logistic regression baseline is doing a bit better than a completely naïve guesser, but it still struggles badly with the minority “draw” class."
   ]
  },
  {
   "cell_type": "code",
   "execution_count": 10,
   "id": "80975115",
   "metadata": {},
   "outputs": [
    {
     "data": {
      "text/plain": [
       "['best_logistic_regression_model.joblib']"
      ]
     },
     "execution_count": 10,
     "metadata": {},
     "output_type": "execute_result"
    }
   ],
   "source": [
    "import joblib\n",
    "joblib.dump(best_lr, \"best_logistic_regression_model.joblib\")"
   ]
  },
  {
   "cell_type": "markdown",
   "id": "1c90cc85",
   "metadata": {},
   "source": [
    "## SGDClassifier and GridSearch"
   ]
  },
  {
   "cell_type": "code",
   "execution_count": 11,
   "id": "0cf20b15",
   "metadata": {},
   "outputs": [],
   "source": [
    "sgd = SGDClassifier(random_state=42)"
   ]
  },
  {
   "cell_type": "code",
   "execution_count": 12,
   "id": "0b79a6b9",
   "metadata": {},
   "outputs": [],
   "source": [
    "param_sgd = {\n",
    "    'alpha': [1e-4, 1e-3, 1e-2, 1e-1],              \n",
    "    'max_iter': [1000, 2000],\n",
    "}"
   ]
  },
  {
   "cell_type": "code",
   "execution_count": 13,
   "id": "4549d493",
   "metadata": {},
   "outputs": [],
   "source": [
    "grid_sgd = GridSearchCV(\n",
    "    sgd,\n",
    "    param_sgd,\n",
    "    cv=3,\n",
    "    scoring='accuracy',\n",
    "    n_jobs=-1,\n",
    ")"
   ]
  },
  {
   "cell_type": "code",
   "execution_count": 14,
   "id": "426d132e",
   "metadata": {},
   "outputs": [
    {
     "data": {
      "text/plain": [
       "GridSearchCV(cv=3, estimator=SGDClassifier(random_state=42), n_jobs=-1,\n",
       "             param_grid={'alpha': [0.0001, 0.001, 0.01, 0.1],\n",
       "                         'max_iter': [1000, 2000]},\n",
       "             scoring='accuracy')"
      ]
     },
     "execution_count": 14,
     "metadata": {},
     "output_type": "execute_result"
    }
   ],
   "source": [
    "grid_sgd.fit(X_train_transformed, y_train)"
   ]
  },
  {
   "cell_type": "code",
   "execution_count": 15,
   "id": "f5e98696",
   "metadata": {},
   "outputs": [
    {
     "name": "stdout",
     "output_type": "stream",
     "text": [
      "Best params: {'alpha': 0.1, 'max_iter': 1000}\n"
     ]
    }
   ],
   "source": [
    "print(\"Best params:\", grid_sgd.best_params_)\n",
    "best_sgd = grid_sgd.best_estimator_"
   ]
  },
  {
   "cell_type": "code",
   "execution_count": 16,
   "id": "530ea28f",
   "metadata": {},
   "outputs": [
    {
     "name": "stdout",
     "output_type": "stream",
     "text": [
      "Test accuracy: 0.54\n",
      "\n",
      "Classification Report:\n",
      "               precision    recall  f1-score   support\n",
      "\n",
      "   Black Win       0.55      0.32      0.40      4524\n",
      "        Draw       0.00      0.00      0.00       566\n",
      "   White Win       0.53      0.80      0.64      4910\n",
      "\n",
      "    accuracy                           0.54     10000\n",
      "   macro avg       0.36      0.37      0.35     10000\n",
      "weighted avg       0.51      0.54      0.50     10000\n",
      "\n"
     ]
    },
    {
     "name": "stderr",
     "output_type": "stream",
     "text": [
      "C:\\Users\\dimit\\anaconda3\\lib\\site-packages\\sklearn\\metrics\\_classification.py:1248: UndefinedMetricWarning: Precision and F-score are ill-defined and being set to 0.0 in labels with no predicted samples. Use `zero_division` parameter to control this behavior.\n",
      "  _warn_prf(average, modifier, msg_start, len(result))\n",
      "C:\\Users\\dimit\\anaconda3\\lib\\site-packages\\sklearn\\metrics\\_classification.py:1248: UndefinedMetricWarning: Precision and F-score are ill-defined and being set to 0.0 in labels with no predicted samples. Use `zero_division` parameter to control this behavior.\n",
      "  _warn_prf(average, modifier, msg_start, len(result))\n",
      "C:\\Users\\dimit\\anaconda3\\lib\\site-packages\\sklearn\\metrics\\_classification.py:1248: UndefinedMetricWarning: Precision and F-score are ill-defined and being set to 0.0 in labels with no predicted samples. Use `zero_division` parameter to control this behavior.\n",
      "  _warn_prf(average, modifier, msg_start, len(result))\n"
     ]
    }
   ],
   "source": [
    "y_pred = best_sgd.predict(X_test_transformed)\n",
    "print(f\"Test accuracy: {accuracy_score(y_test, y_pred):.2f}\")\n",
    "print(\"\\nClassification Report:\\n\", classification_report(y_test, y_pred))"
   ]
  },
  {
   "cell_type": "markdown",
   "id": "b31292fb",
   "metadata": {},
   "source": [
    "### Our SGDClassifier is doing a bit better than pure chance, but still only modestly above a trivial baseline"
   ]
  },
  {
   "cell_type": "code",
   "execution_count": 17,
   "id": "ca5000e3",
   "metadata": {},
   "outputs": [
    {
     "data": {
      "text/plain": [
       "['best_sgd.joblib']"
      ]
     },
     "execution_count": 17,
     "metadata": {},
     "output_type": "execute_result"
    }
   ],
   "source": [
    "joblib.dump(best_sgd, \"best_sgd.joblib\")"
   ]
  },
  {
   "cell_type": "markdown",
   "id": "3a4b3b11",
   "metadata": {},
   "source": [
    "## LinearSVC and GridSearch"
   ]
  },
  {
   "cell_type": "code",
   "execution_count": 18,
   "id": "9bf908cb",
   "metadata": {},
   "outputs": [],
   "source": [
    "svc = LinearSVC(random_state=42, dual=False)"
   ]
  },
  {
   "cell_type": "code",
   "execution_count": 19,
   "id": "5b895e41",
   "metadata": {},
   "outputs": [],
   "source": [
    "param_svc = {\n",
    "    'C': [0.1, 1, 10],\n",
    "    'max_iter': [1000, 2500, 5000, 10000]\n",
    "}"
   ]
  },
  {
   "cell_type": "code",
   "execution_count": 20,
   "id": "9088b0d0",
   "metadata": {},
   "outputs": [],
   "source": [
    "grid_svc = GridSearchCV(\n",
    "    svc,\n",
    "    param_svc,\n",
    "    cv=3,\n",
    "    scoring='accuracy',\n",
    "    n_jobs=-1,\n",
    ")"
   ]
  },
  {
   "cell_type": "code",
   "execution_count": 21,
   "id": "7292a4b3",
   "metadata": {},
   "outputs": [
    {
     "data": {
      "text/plain": [
       "GridSearchCV(cv=3, estimator=LinearSVC(dual=False, random_state=42), n_jobs=-1,\n",
       "             param_grid={'C': [0.1, 1, 10],\n",
       "                         'max_iter': [1000, 2500, 5000, 10000]},\n",
       "             scoring='accuracy')"
      ]
     },
     "execution_count": 21,
     "metadata": {},
     "output_type": "execute_result"
    }
   ],
   "source": [
    "grid_svc.fit(X_train_transformed, y_train)"
   ]
  },
  {
   "cell_type": "code",
   "execution_count": 22,
   "id": "7eb971d6",
   "metadata": {},
   "outputs": [
    {
     "name": "stdout",
     "output_type": "stream",
     "text": [
      "Best params: {'C': 0.1, 'max_iter': 1000}\n"
     ]
    }
   ],
   "source": [
    "print(\"Best params:\", grid_svc.best_params_)\n",
    "best_svc = grid_svc.best_estimator_"
   ]
  },
  {
   "cell_type": "code",
   "execution_count": 23,
   "id": "6f779b30",
   "metadata": {},
   "outputs": [
    {
     "name": "stdout",
     "output_type": "stream",
     "text": [
      "Test accuracy: 0.54\n",
      "\n",
      "Classification Report:\n",
      "               precision    recall  f1-score   support\n",
      "\n",
      "   Black Win       0.53      0.43      0.48      4524\n",
      "        Draw       0.00      0.00      0.00       566\n",
      "   White Win       0.54      0.70      0.61      4910\n",
      "\n",
      "    accuracy                           0.54     10000\n",
      "   macro avg       0.36      0.38      0.36     10000\n",
      "weighted avg       0.51      0.54      0.51     10000\n",
      "\n"
     ]
    },
    {
     "name": "stderr",
     "output_type": "stream",
     "text": [
      "C:\\Users\\dimit\\anaconda3\\lib\\site-packages\\sklearn\\metrics\\_classification.py:1248: UndefinedMetricWarning: Precision and F-score are ill-defined and being set to 0.0 in labels with no predicted samples. Use `zero_division` parameter to control this behavior.\n",
      "  _warn_prf(average, modifier, msg_start, len(result))\n",
      "C:\\Users\\dimit\\anaconda3\\lib\\site-packages\\sklearn\\metrics\\_classification.py:1248: UndefinedMetricWarning: Precision and F-score are ill-defined and being set to 0.0 in labels with no predicted samples. Use `zero_division` parameter to control this behavior.\n",
      "  _warn_prf(average, modifier, msg_start, len(result))\n",
      "C:\\Users\\dimit\\anaconda3\\lib\\site-packages\\sklearn\\metrics\\_classification.py:1248: UndefinedMetricWarning: Precision and F-score are ill-defined and being set to 0.0 in labels with no predicted samples. Use `zero_division` parameter to control this behavior.\n",
      "  _warn_prf(average, modifier, msg_start, len(result))\n"
     ]
    }
   ],
   "source": [
    "y_pred = best_svc.predict(X_test_transformed)\n",
    "print(f\"Test accuracy: {accuracy_score(y_test, y_pred):.2f}\")\n",
    "print(\"\\nClassification Report:\\n\", classification_report(y_test, y_pred))"
   ]
  },
  {
   "cell_type": "code",
   "execution_count": 24,
   "id": "778b26b4",
   "metadata": {},
   "outputs": [
    {
     "data": {
      "text/plain": [
       "['best_linear_svc_model.joblib']"
      ]
     },
     "execution_count": 24,
     "metadata": {},
     "output_type": "execute_result"
    }
   ],
   "source": [
    "joblib.dump(best_svc, \"best_linear_svc_model.joblib\")"
   ]
  },
  {
   "cell_type": "markdown",
   "id": "984b29d2",
   "metadata": {},
   "source": [
    "### LinearSVC has a similar poor performance as our previous models. All models score around 54%."
   ]
  }
 ],
 "metadata": {
  "kernelspec": {
   "display_name": "Python 3 (ipykernel)",
   "language": "python",
   "name": "python3"
  },
  "language_info": {
   "codemirror_mode": {
    "name": "ipython",
    "version": 3
   },
   "file_extension": ".py",
   "mimetype": "text/x-python",
   "name": "python",
   "nbconvert_exporter": "python",
   "pygments_lexer": "ipython3",
   "version": "3.9.7"
  }
 },
 "nbformat": 4,
 "nbformat_minor": 5
}
