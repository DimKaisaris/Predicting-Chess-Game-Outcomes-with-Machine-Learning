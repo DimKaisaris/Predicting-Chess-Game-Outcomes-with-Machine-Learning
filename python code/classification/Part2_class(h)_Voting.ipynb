{
 "cells": [
  {
   "cell_type": "markdown",
   "id": "1d5a6dca",
   "metadata": {},
   "source": [
    "# Voting using Various Models"
   ]
  },
  {
   "cell_type": "code",
   "execution_count": 1,
   "id": "473b65dd",
   "metadata": {},
   "outputs": [
    {
     "data": {
      "text/html": [
       "<style>.container { width:90% !important; }</style>"
      ],
      "text/plain": [
       "<IPython.core.display.HTML object>"
      ]
     },
     "metadata": {},
     "output_type": "display_data"
    }
   ],
   "source": [
    "# increase the width of the notebook\n",
    "from IPython.display import display, HTML, Markdown\n",
    "\n",
    "display(HTML(\"<style>.container { width:90% !important; }</style>\"))"
   ]
  },
  {
   "cell_type": "code",
   "execution_count": 2,
   "id": "faef83ff",
   "metadata": {},
   "outputs": [],
   "source": [
    "import pandas as pd\n",
    "from sklearn.compose import ColumnTransformer\n",
    "from sklearn.preprocessing import StandardScaler, OneHotEncoder\n",
    "from sklearn.model_selection import GridSearchCV\n",
    "from sklearn.metrics import accuracy_score, classification_report\n",
    "from sklearn.ensemble import VotingClassifier\n",
    "import numpy as np\n",
    "import joblib\n",
    "from tensorflow.keras.models import load_model as load_keras_model"
   ]
  },
  {
   "cell_type": "code",
   "execution_count": 3,
   "id": "6a73937f",
   "metadata": {},
   "outputs": [],
   "source": [
    "ada_boost = joblib.load(\"Models/best_adaboost.joblib\")\n",
    "random_forest =joblib.load(\"Models/best_random_forest.joblib\")\n",
    "desicion_tree = joblib.load(\"Models/best_decision_tree.joblib\")\n",
    "decision_tree_pca = joblib.load(\"Models/best_decision_tree_pca.joblib\")\n",
    "best_gradient_boosting = joblib.load(\"Models/best_gradient_boosting.joblib\")\n",
    "#best_mlp_dropout = load_keras_model(\"Models/best_mlp_dropout.keras\")\n",
    "best_svc_poly = joblib.load(\"Models/best_svc_poly.joblib\")\n",
    "best_svc_rbf = joblib.load(\"Models/best_svc_rbf.joblib\")\n",
    "#best_xgboost = joblib.load(\"Models/best_xgboost.joblib\")\n",
    "lr_best_model = joblib.load(\"Models/best_logistic_regression_model.joblib\")\n",
    "sgd_best_model = joblib.load(\"Models/best_sgd.joblib\")\n",
    "#simple_mlp_chess = joblib.load(\"Models/simple_mlp_chess.keras\")\n",
    "best_svc_linear = joblib.load(\"Models/best_linear_svc_model.joblib\")"
   ]
  },
  {
   "cell_type": "code",
   "execution_count": 4,
   "id": "77db185b",
   "metadata": {},
   "outputs": [],
   "source": [
    "voting_clf = VotingClassifier(\n",
    "estimators=[(\"ada\",ada_boost),\n",
    "            (\"rf\",random_forest),\n",
    "            (\"dt\",desicion_tree),\n",
    "            (\"dt_pca\",decision_tree_pca),\n",
    "            (\"gb\",best_gradient_boosting),\n",
    "            (\"svc_poly\",best_svc_poly),\n",
    "            (\"svc_rbf\",best_svc_rbf),\n",
    "            (\"lr_best\",lr_best_model),\n",
    "            (\"sgd_best\",sgd_best_model),\n",
    "            (\"svc_linear\",best_svc_linear)\n",
    "           ]\n",
    ")"
   ]
  },
  {
   "cell_type": "code",
   "execution_count": 5,
   "id": "df10fc1c",
   "metadata": {},
   "outputs": [],
   "source": [
    "# Load data\n",
    "train = pd.read_csv(\"train.csv\")\n",
    "test = pd.read_csv(\"test.csv\")\n",
    "\n",
    "y_train = train[\"Score\"]\n",
    "y_test = test[\"Score\"]\n",
    "\n",
    "X_train = train.drop(\"Score\", axis=1)\n",
    "X_test = test.drop(\"Score\", axis=1)"
   ]
  },
  {
   "cell_type": "code",
   "execution_count": 6,
   "id": "ea72620e",
   "metadata": {},
   "outputs": [],
   "source": [
    "from sklearn.pipeline import Pipeline"
   ]
  },
  {
   "cell_type": "code",
   "execution_count": 7,
   "id": "dfa7a2cf",
   "metadata": {},
   "outputs": [],
   "source": [
    "#Preprocessing pipelines\n",
    "numeric_features = [\"WhiteElo\", \"EloDif\"]\n",
    "categorical_features = [\"Opening_name\", \"Time_format\", \"Increment_binary\"]\n",
    "\n",
    "numeric_transformer = Pipeline([\n",
    "    (\"scaler\", StandardScaler())\n",
    "])\n",
    "categorical_transformer = Pipeline([\n",
    "    (\"onehot\", OneHotEncoder(handle_unknown=\"ignore\"))\n",
    "])\n",
    "\n",
    "preprocessor = ColumnTransformer([\n",
    "    (\"num\", numeric_transformer, numeric_features),\n",
    "    (\"cat\", categorical_transformer, categorical_features)\n",
    "])"
   ]
  },
  {
   "cell_type": "code",
   "execution_count": 8,
   "id": "657976d6",
   "metadata": {},
   "outputs": [],
   "source": [
    "X_train_transformed = preprocessor.fit_transform(X_train)\n",
    "X_test_transformed  = preprocessor.transform(X_test)"
   ]
  },
  {
   "cell_type": "code",
   "execution_count": 9,
   "id": "e5693f5a",
   "metadata": {},
   "outputs": [
    {
     "data": {
      "text/plain": [
       "VotingClassifier(estimators=[('ada',\n",
       "                              AdaBoostClassifier(n_estimators=250,\n",
       "                                                 random_state=42)),\n",
       "                             ('rf',\n",
       "                              RandomForestClassifier(max_depth=10,\n",
       "                                                     min_samples_leaf=2,\n",
       "                                                     n_estimators=200,\n",
       "                                                     random_state=42)),\n",
       "                             ('dt',\n",
       "                              DecisionTreeClassifier(criterion='entropy',\n",
       "                                                     max_depth=5,\n",
       "                                                     random_state=42)),\n",
       "                             ('dt_pca',\n",
       "                              DecisionTreeClassifier(criterion='entropy',\n",
       "                                                     max_depth=5,\n",
       "                                                     random_state=42)),\n",
       "                             ('...\n",
       "                             ('svc_poly',\n",
       "                              Pipeline(steps=[('svc',\n",
       "                                               SVC(C=0.1, kernel='poly',\n",
       "                                                   random_state=42))])),\n",
       "                             ('svc_rbf',\n",
       "                              Pipeline(steps=[('svc',\n",
       "                                               SVC(C=0.1, random_state=42))])),\n",
       "                             ('lr_best',\n",
       "                              LogisticRegression(C=10, max_iter=1000,\n",
       "                                                 multi_class='multinomial',\n",
       "                                                 random_state=42)),\n",
       "                             ('sgd_best',\n",
       "                              SGDClassifier(alpha=0.1, random_state=42)),\n",
       "                             ('svc_linear',\n",
       "                              LinearSVC(C=0.1, dual=False, random_state=42))])"
      ]
     },
     "execution_count": 9,
     "metadata": {},
     "output_type": "execute_result"
    }
   ],
   "source": [
    "voting_clf.fit(X_train_transformed, y_train)"
   ]
  },
  {
   "cell_type": "code",
   "execution_count": 10,
   "id": "6dae623a",
   "metadata": {},
   "outputs": [],
   "source": [
    "y_pred = voting_clf.predict(X_test_transformed)"
   ]
  },
  {
   "cell_type": "code",
   "execution_count": 11,
   "id": "44a54e8f",
   "metadata": {},
   "outputs": [
    {
     "name": "stdout",
     "output_type": "stream",
     "text": [
      "Voting Classifier Accuracy: 0.541\n"
     ]
    }
   ],
   "source": [
    "# Evaluate the performance\n",
    "accuracy = accuracy_score(y_test, y_pred)\n",
    "print(f\"Voting Classifier Accuracy: {accuracy:.3f}\")"
   ]
  },
  {
   "cell_type": "code",
   "execution_count": 12,
   "id": "06b25f02",
   "metadata": {},
   "outputs": [
    {
     "data": {
      "text/plain": [
       "['voting_clf.joblib']"
      ]
     },
     "execution_count": 12,
     "metadata": {},
     "output_type": "execute_result"
    }
   ],
   "source": [
    "import joblib\n",
    "\n",
    "joblib.dump(voting_clf, 'voting_clf.joblib')"
   ]
  },
  {
   "cell_type": "markdown",
   "id": "777cc323",
   "metadata": {},
   "source": [
    "## Soft Voting"
   ]
  },
  {
   "cell_type": "code",
   "execution_count": 13,
   "id": "53f96062",
   "metadata": {},
   "outputs": [
    {
     "data": {
      "text/plain": [
       "CalibratedClassifierCV(base_estimator=SGDClassifier(alpha=0.1, random_state=42),\n",
       "                       cv=3)"
      ]
     },
     "execution_count": 13,
     "metadata": {},
     "output_type": "execute_result"
    }
   ],
   "source": [
    "from sklearn.calibration import CalibratedClassifierCV\n",
    "\n",
    "# Wrap the already-trained, hinge‑loss SGD in a sigmoid calibrator:\n",
    "sgd_cal = CalibratedClassifierCV(sgd_best_model,\n",
    "                                 method='sigmoid',\n",
    "                                 cv=3)  \n",
    "\n",
    "# Fit it on your training data:\n",
    "sgd_cal.fit(X_train_transformed, y_train)\n"
   ]
  },
  {
   "cell_type": "code",
   "execution_count": 14,
   "id": "75b2ef9f",
   "metadata": {},
   "outputs": [
    {
     "data": {
      "text/plain": [
       "CalibratedClassifierCV(base_estimator=LinearSVC(C=0.1, dual=False,\n",
       "                                                random_state=42),\n",
       "                       cv=3)"
      ]
     },
     "execution_count": 14,
     "metadata": {},
     "output_type": "execute_result"
    }
   ],
   "source": [
    "# assume best_svc_poly, best_svc_rbf, best_svc_linear are already fitted with probability=False\n",
    "svc_poly_cal   = CalibratedClassifierCV(best_svc_poly,   method='sigmoid', cv=3)\n",
    "svc_rbf_cal    = CalibratedClassifierCV(best_svc_rbf,    method='sigmoid', cv=3)\n",
    "svc_linear_cal = CalibratedClassifierCV(best_svc_linear, method='sigmoid', cv=3)\n",
    "\n",
    "# fit the calibrators on your training data\n",
    "svc_poly_cal.fit(X_train_transformed, y_train)\n",
    "svc_rbf_cal.fit(X_train_transformed, y_train)\n",
    "svc_linear_cal.fit(X_train_transformed, y_train)"
   ]
  },
  {
   "cell_type": "code",
   "execution_count": 15,
   "id": "ac047490",
   "metadata": {},
   "outputs": [],
   "source": [
    "voting_clf_soft = VotingClassifier(\n",
    "    estimators=[\n",
    "        (\"ada\", ada_boost),\n",
    "        (\"rf\",random_forest),\n",
    "        (\"dt\", desicion_tree),\n",
    "        (\"dt_pca\", decision_tree_pca),\n",
    "        (\"gb\", best_gradient_boosting),\n",
    "        (\"svc_poly\", svc_poly_cal),\n",
    "        (\"svc_rbf\", svc_rbf_cal),\n",
    "        (\"lr_best\", lr_best_model),\n",
    "        (\"sgd_best\", sgd_cal),\n",
    "        (\"svc_linear\", svc_linear_cal)\n",
    "    ],\n",
    "    voting='soft',            # use class‐probabilities\n",
    "    weights=[2,2,1,1,1,1,1,1,1,1]  # give more weight to stronger models\n",
    ")"
   ]
  },
  {
   "cell_type": "code",
   "execution_count": 16,
   "id": "e9120f46",
   "metadata": {},
   "outputs": [
    {
     "data": {
      "text/plain": [
       "VotingClassifier(estimators=[('ada',\n",
       "                              AdaBoostClassifier(n_estimators=250,\n",
       "                                                 random_state=42)),\n",
       "                             ('rf',\n",
       "                              RandomForestClassifier(max_depth=10,\n",
       "                                                     min_samples_leaf=2,\n",
       "                                                     n_estimators=200,\n",
       "                                                     random_state=42)),\n",
       "                             ('dt',\n",
       "                              DecisionTreeClassifier(criterion='entropy',\n",
       "                                                     max_depth=5,\n",
       "                                                     random_state=42)),\n",
       "                             ('dt_pca',\n",
       "                              DecisionTreeClassifier(criterion='entropy',\n",
       "                                                     max_depth=5,\n",
       "                                                     random_state=42)),\n",
       "                             ('...\n",
       "                                                                                         random_state=42))]),\n",
       "                                                     cv=3)),\n",
       "                             ('lr_best',\n",
       "                              LogisticRegression(C=10, max_iter=1000,\n",
       "                                                 multi_class='multinomial',\n",
       "                                                 random_state=42)),\n",
       "                             ('sgd_best',\n",
       "                              CalibratedClassifierCV(base_estimator=SGDClassifier(alpha=0.1,\n",
       "                                                                                  random_state=42),\n",
       "                                                     cv=3)),\n",
       "                             ('svc_linear',\n",
       "                              CalibratedClassifierCV(base_estimator=LinearSVC(C=0.1,\n",
       "                                                                              dual=False,\n",
       "                                                                              random_state=42),\n",
       "                                                     cv=3))],\n",
       "                 voting='soft', weights=[2, 2, 1, 1, 1, 1, 1, 1, 1, 1])"
      ]
     },
     "execution_count": 16,
     "metadata": {},
     "output_type": "execute_result"
    }
   ],
   "source": [
    "voting_clf_soft.fit(X_train_transformed, y_train)"
   ]
  },
  {
   "cell_type": "code",
   "execution_count": 17,
   "id": "b3b3dcbe",
   "metadata": {},
   "outputs": [],
   "source": [
    "y_pred_soft = voting_clf_soft.predict(X_test_transformed)"
   ]
  },
  {
   "cell_type": "code",
   "execution_count": 18,
   "id": "9ec08864",
   "metadata": {},
   "outputs": [
    {
     "name": "stdout",
     "output_type": "stream",
     "text": [
      "Soft Voting Classifier Accuracy: 0.540\n"
     ]
    }
   ],
   "source": [
    "# Evaluate the performance\n",
    "accuracy = accuracy_score(y_test, y_pred_soft)\n",
    "print(f\"Soft Voting Classifier Accuracy: {accuracy:.3f}\")"
   ]
  },
  {
   "cell_type": "markdown",
   "id": "922d27c5",
   "metadata": {},
   "source": [
    "### Similar score with hard voting"
   ]
  },
  {
   "cell_type": "markdown",
   "id": "0c2a09e1",
   "metadata": {},
   "source": [
    "## The fact that the Voting Classifier cannot outperform the best individual models is a strong indication that the models in the ensemble are not sufficiently diverse and are likely making similar types of errors."
   ]
  }
 ],
 "metadata": {
  "kernelspec": {
   "display_name": "Python (DAMA)",
   "language": "python",
   "name": "dama"
  },
  "language_info": {
   "codemirror_mode": {
    "name": "ipython",
    "version": 3
   },
   "file_extension": ".py",
   "mimetype": "text/x-python",
   "name": "python",
   "nbconvert_exporter": "python",
   "pygments_lexer": "ipython3",
   "version": "3.10.16"
  }
 },
 "nbformat": 4,
 "nbformat_minor": 5
}
