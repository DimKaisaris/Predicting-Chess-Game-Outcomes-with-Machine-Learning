{
 "cells": [
  {
   "cell_type": "markdown",
   "id": "e1b156c6",
   "metadata": {},
   "source": [
    "# Exploring different feature ranges to assess their impact on our models' performance. "
   ]
  },
  {
   "cell_type": "code",
   "execution_count": 1,
   "id": "91ae5996",
   "metadata": {},
   "outputs": [
    {
     "data": {
      "text/html": [
       "<style>.container { width:90% !important; }</style>"
      ],
      "text/plain": [
       "<IPython.core.display.HTML object>"
      ]
     },
     "metadata": {},
     "output_type": "display_data"
    }
   ],
   "source": [
    "# increase the width of the notebook\n",
    "from IPython.display import display, HTML, Markdown\n",
    "\n",
    "display(HTML(\"<style>.container { width:90% !important; }</style>\"))"
   ]
  },
  {
   "cell_type": "code",
   "execution_count": 2,
   "id": "94065c82",
   "metadata": {},
   "outputs": [],
   "source": [
    "import pandas as pd\n",
    "from sklearn.pipeline import Pipeline\n",
    "from sklearn.preprocessing import StandardScaler, OneHotEncoder\n",
    "from sklearn.compose import ColumnTransformer\n",
    "from sklearn.model_selection import GridSearchCV, StratifiedKFold\n",
    "from sklearn.metrics import accuracy_score, classification_report\n",
    "import joblib"
   ]
  },
  {
   "cell_type": "code",
   "execution_count": 3,
   "id": "acc333ec",
   "metadata": {},
   "outputs": [],
   "source": [
    "# Load data\n",
    "train = pd.read_csv(\"train.csv\")\n",
    "test = pd.read_csv(\"test.csv\")\n",
    "\n",
    "y_train = train[\"Score\"]\n",
    "y_test = test[\"Score\"]\n",
    "\n",
    "X_train = train.drop(\"Score\", axis=1)\n",
    "X_test = test.drop(\"Score\", axis=1)"
   ]
  },
  {
   "cell_type": "markdown",
   "id": "bacb3e3b",
   "metadata": {},
   "source": [
    "# Elo Ranges"
   ]
  },
  {
   "cell_type": "code",
   "execution_count": 4,
   "id": "d464bac5",
   "metadata": {},
   "outputs": [],
   "source": [
    "# Define masks for the three Elo-based groups\n",
    "low_mask   =  X_test[\"WhiteElo\"]   < 1000\n",
    "mid_mask   = (X_test[\"WhiteElo\"]  >= 1000) & (X_test[\"WhiteElo\"] < 2000)\n",
    "high_mask  =  X_test[\"WhiteElo\"]   >= 2000\n",
    "\n",
    "# Slice X and y for each group\n",
    "X_test_low,   y_test_low   = X_test[low_mask],   y_test[low_mask]\n",
    "X_test_mid,   y_test_mid   = X_test[mid_mask],   y_test[mid_mask]\n",
    "X_test_high,  y_test_high  = X_test[high_mask],  y_test[high_mask]"
   ]
  },
  {
   "cell_type": "code",
   "execution_count": 5,
   "id": "750fe18e",
   "metadata": {},
   "outputs": [],
   "source": [
    "#Preprocessing pipelines\n",
    "numeric_features = [\"WhiteElo\", \"EloDif\"]\n",
    "categorical_features = [\"Opening_name\", \"Time_format\", \"Increment_binary\"]\n",
    "\n",
    "numeric_transformer = Pipeline([\n",
    "    (\"scaler\", StandardScaler())\n",
    "])\n",
    "categorical_transformer = Pipeline([\n",
    "    (\"onehot\", OneHotEncoder(handle_unknown=\"ignore\"))\n",
    "])\n",
    "\n",
    "preprocessor = ColumnTransformer([\n",
    "    (\"num\", numeric_transformer, numeric_features),\n",
    "    (\"cat\", categorical_transformer, categorical_features)\n",
    "])"
   ]
  },
  {
   "cell_type": "code",
   "execution_count": 6,
   "id": "2cf36a40",
   "metadata": {},
   "outputs": [],
   "source": [
    "preprocessor.fit(X_train)\n",
    "X_test_low = preprocessor.transform(X_test_low)\n",
    "X_test_mid = preprocessor.transform(X_test_mid)\n",
    "X_test_high = preprocessor.transform(X_test_high)"
   ]
  },
  {
   "cell_type": "code",
   "execution_count": 7,
   "id": "65360b51",
   "metadata": {},
   "outputs": [],
   "source": [
    "ada_boost = joblib.load(\"Models/best_adaboost.joblib\")\n",
    "random_forest = joblib.load(\"Models/best_random_forest.joblib\")\n",
    "decision_tree = joblib.load(\"Models/best_decision_tree.joblib\")\n",
    "#decision_tree_pca = joblib.load(\"Models/best_decision_tree_pca.joblib\")\n",
    "best_gradient_boosting = joblib.load(\"Models/best_gradient_boosting.joblib\")\n",
    "best_svc_poly = joblib.load(\"Models/best_svc_poly.joblib\")\n",
    "best_svc_rbf = joblib.load(\"Models/best_svc_rbf.joblib\")\n",
    "voting_clf = joblib.load(\"Models/voting_clf.joblib\")"
   ]
  },
  {
   "cell_type": "code",
   "execution_count": 8,
   "id": "36e5bff1",
   "metadata": {},
   "outputs": [],
   "source": [
    "models = [ada_boost, random_forest, best_gradient_boosting,decision_tree, best_svc_poly, best_svc_rbf, voting_clf]\n",
    "model_names = [\"AdaBoost\", \"Random_forest\",\"Gradient Boosting\",\"Decision Tree\", \"SVC (poly)\", \"SVC (rbf)\", \"voting_clf\"]"
   ]
  },
  {
   "cell_type": "code",
   "execution_count": 9,
   "id": "77fbb07e",
   "metadata": {},
   "outputs": [
    {
     "name": "stdout",
     "output_type": "stream",
     "text": [
      "\n",
      "=== Low (<1000) group ===\n",
      "n_samples: 167\n",
      "  AdaBoost             Accuracy: 0.581\n",
      "  Random_forest        Accuracy: 0.545\n",
      "  Gradient Boosting    Accuracy: 0.557\n",
      "  Decision Tree        Accuracy: 0.497\n",
      "  SVC (poly)           Accuracy: 0.479\n",
      "  SVC (rbf)            Accuracy: 0.551\n",
      "  voting_clf           Accuracy: 0.545\n",
      "\n",
      "=== Mid (1000–1999) group ===\n",
      "n_samples: 3583\n",
      "  AdaBoost             Accuracy: 0.530\n",
      "  Random_forest        Accuracy: 0.541\n",
      "  Gradient Boosting    Accuracy: 0.524\n",
      "  Decision Tree        Accuracy: 0.507\n",
      "  SVC (poly)           Accuracy: 0.519\n",
      "  SVC (rbf)            Accuracy: 0.529\n",
      "  voting_clf           Accuracy: 0.523\n",
      "\n",
      "=== High (>=2000) group ===\n",
      "n_samples: 6250\n",
      "  AdaBoost             Accuracy: 0.556\n",
      "  Random_forest        Accuracy: 0.552\n",
      "  Gradient Boosting    Accuracy: 0.554\n",
      "  Decision Tree        Accuracy: 0.539\n",
      "  SVC (poly)           Accuracy: 0.544\n",
      "  SVC (rbf)            Accuracy: 0.549\n",
      "  voting_clf           Accuracy: 0.552\n"
     ]
    }
   ],
   "source": [
    "for grp_name, X_sub, y_sub in [\n",
    "    (\"Low (<1000)\",    X_test_low,  y_test_low),\n",
    "    (\"Mid (1000–1999)\",X_test_mid,  y_test_mid),\n",
    "    (\"High (>=2000)\",  X_test_high, y_test_high),\n",
    "]:\n",
    "    \n",
    "    print(f\"\\n=== {grp_name} group ===\")\n",
    "    print(\"n_samples:\", len(y_sub))\n",
    "    for model, name in zip(models, model_names):\n",
    "        y_pred = model.predict(X_sub)\n",
    "        acc    = accuracy_score(y_sub, y_pred)\n",
    "        print(f\"  {name:<20} Accuracy: {acc:.3f}\")\n",
    "        # print(classification_report(y_sub, y_pred))\n",
    "        \n"
   ]
  },
  {
   "cell_type": "markdown",
   "id": "dc3233a3",
   "metadata": {},
   "source": [
    "### Our analysis of different Elo rating groups reveals the best model performance within the under 1000 Elo group. However, with a sample size of only 167, this finding might not be statistically robust. Among the other two groups (1000-1999 and >= 2000 Elo), the group with an Elo rating of 2000 or higher shows approximately 2% better prediction accuracy compared to the 1000-1999 Elo group."
   ]
  },
  {
   "cell_type": "markdown",
   "id": "31c662bc",
   "metadata": {},
   "source": [
    "## Elo difference"
   ]
  },
  {
   "cell_type": "code",
   "execution_count": 10,
   "id": "f80ce7a8",
   "metadata": {},
   "outputs": [
    {
     "name": "stdout",
     "output_type": "stream",
     "text": [
      "\n",
      "=== Elo_Diff_Low (<100) group ===\n",
      "n_samples: 7654\n",
      "  AdaBoost             Accuracy: 0.525\n",
      "  Random_forest        Accuracy: 0.526\n",
      "  Gradient Boosting    Accuracy: 0.521\n",
      "  Decision Tree        Accuracy: 0.499\n",
      "  SVC (poly)           Accuracy: 0.510\n",
      "  SVC (rbf)            Accuracy: 0.519\n",
      "  voting_clf           Accuracy: 0.518\n",
      "\n",
      "=== Elo_Diff_Mid (100–200) group ===\n",
      "n_samples: 1800\n",
      "  AdaBoost             Accuracy: 0.590\n",
      "  Random_forest        Accuracy: 0.590\n",
      "  Gradient Boosting    Accuracy: 0.590\n",
      "  Decision Tree        Accuracy: 0.588\n",
      "  SVC (poly)           Accuracy: 0.584\n",
      "  SVC (rbf)            Accuracy: 0.590\n",
      "  voting_clf           Accuracy: 0.590\n",
      "\n",
      "=== Elo_Diff_High (>=200) group ===\n",
      "n_samples: 546\n",
      "  AdaBoost             Accuracy: 0.711\n",
      "  Random_forest        Accuracy: 0.712\n",
      "  Gradient Boosting    Accuracy: 0.711\n",
      "  Decision Tree        Accuracy: 0.711\n",
      "  SVC (poly)           Accuracy: 0.705\n",
      "  SVC (rbf)            Accuracy: 0.711\n",
      "  voting_clf           Accuracy: 0.711\n"
     ]
    }
   ],
   "source": [
    "# Build masks\n",
    "mask_diff_low  = X_test[\"EloDif\"].abs() < 100\n",
    "mask_diff_mid  = (X_test[\"EloDif\"].abs() >= 100) & (X_test[\"EloDif\"].abs() < 200)\n",
    "mask_diff_high = X_test[\"EloDif\"].abs() >= 200\n",
    "\n",
    "#  Slice the raw test-set X **and** y\n",
    "X_diff_low,  y_diff_low  = X_test[mask_diff_low],  y_test[mask_diff_low]\n",
    "X_diff_mid,  y_diff_mid  = X_test[mask_diff_mid],  y_test[mask_diff_mid]\n",
    "X_diff_high, y_diff_high = X_test[mask_diff_high], y_test[mask_diff_high]\n",
    "\n",
    "# Transform each feature‑subset\n",
    "X_diff_low  = preprocessor.transform(X_diff_low)\n",
    "X_diff_mid  = preprocessor.transform(X_diff_mid)\n",
    "X_diff_high = preprocessor.transform(X_diff_high)\n",
    "\n",
    "#  Evaluate\n",
    "for grp_name, X_sub, y_sub in [\n",
    "    (\"Elo_Diff_Low (<100)\",    X_diff_low,  y_diff_low),\n",
    "    (\"Elo_Diff_Mid (100–200)\", X_diff_mid,  y_diff_mid),\n",
    "    (\"Elo_Diff_High (>=200)\",  X_diff_high, y_diff_high),\n",
    "]:\n",
    "    print(f\"\\n=== {grp_name} group ===\")\n",
    "    print(\"n_samples:\", len(y_sub))\n",
    "    for model, name in zip(models, model_names):\n",
    "        y_pred = model.predict(X_sub)\n",
    "        acc    = accuracy_score(y_sub, y_pred)\n",
    "        print(f\"  {name:<20} Accuracy: {acc:.3f}\")\n"
   ]
  },
  {
   "cell_type": "markdown",
   "id": "854d9ca0",
   "metadata": {},
   "source": [
    "### The group with an Elo difference less than the absolute value of 100 (|Elo_diff| < 100) has the lowest accuracy and the largest sample size. The Elo_Diff_Mid (100–200) group shows improved accuracy, reaching 59% with a decent number of samples (1800). The Elo_Diff_High (>=200) group achieves an impressive 71% accuracy, strongly indicating that a large difference in Elo ratings leads to highly predictable outcomes."
   ]
  },
  {
   "cell_type": "markdown",
   "id": "2c276bd6",
   "metadata": {},
   "source": [
    "# Time Formats"
   ]
  },
  {
   "cell_type": "code",
   "execution_count": 11,
   "id": "f784acbc",
   "metadata": {},
   "outputs": [],
   "source": [
    "#  Build the mask on the raw test set\n",
    "mask_bullet = X_test[\"Time_format\"].str.strip() == \"bullet\"\n",
    "mask_blitz = X_test[\"Time_format\"].str.strip() == \"blitz\"\n",
    "mask_rapid = X_test[\"Time_format\"].str.strip() == \"rapid\"\n",
    "mask_classical = X_test[\"Time_format\"].str.strip() == \"classical\"\n",
    "\n",
    "\n",
    "# Slice X and y for each group\n",
    "X_test_bullet,   y_test_bullet   = X_test[mask_bullet],   y_test[mask_bullet]\n",
    "X_test_blitz,  y_test_blitz  = X_test[mask_blitz],  y_test[mask_blitz]\n",
    "X_test_rapid,  y_test_rapid  = X_test[mask_rapid],  y_test[mask_rapid]\n",
    "X_test_classical,  y_test_classical  = X_test[mask_classical],  y_test[mask_classical]"
   ]
  },
  {
   "cell_type": "code",
   "execution_count": 12,
   "id": "311bdb6e",
   "metadata": {},
   "outputs": [],
   "source": [
    "# Transform each feature‑subset\n",
    "X_test_bullet  = preprocessor.transform(X_test_bullet)\n",
    "X_test_blitz  = preprocessor.transform(X_test_blitz)\n",
    "X_test_rapid = preprocessor.transform(X_test_rapid)\n",
    "X_test_classical = preprocessor.transform(X_test_classical)"
   ]
  },
  {
   "cell_type": "code",
   "execution_count": 13,
   "id": "f95b64bb",
   "metadata": {},
   "outputs": [
    {
     "name": "stdout",
     "output_type": "stream",
     "text": [
      "\n",
      "=== bullet group ===\n",
      "n_samples: 3972\n",
      "  AdaBoost             Accuracy: 0.538\n",
      "  Random_forest        Accuracy: 0.550\n",
      "  Gradient Boosting    Accuracy: 0.534\n",
      "  Decision Tree        Accuracy: 0.525\n",
      "  SVC (poly)           Accuracy: 0.537\n",
      "  SVC (rbf)            Accuracy: 0.544\n",
      "  voting_clf           Accuracy: 0.540\n",
      "\n",
      "=== blitz group ===\n",
      "n_samples: 3587\n",
      "  AdaBoost             Accuracy: 0.545\n",
      "  Random_forest        Accuracy: 0.539\n",
      "  Gradient Boosting    Accuracy: 0.544\n",
      "  Decision Tree        Accuracy: 0.522\n",
      "  SVC (poly)           Accuracy: 0.525\n",
      "  SVC (rbf)            Accuracy: 0.534\n",
      "  voting_clf           Accuracy: 0.536\n",
      "\n",
      "=== rapid group ===\n",
      "n_samples: 2015\n",
      "  AdaBoost             Accuracy: 0.567\n",
      "  Random_forest        Accuracy: 0.556\n",
      "  Gradient Boosting    Accuracy: 0.562\n",
      "  Decision Tree        Accuracy: 0.545\n",
      "  SVC (poly)           Accuracy: 0.549\n",
      "  SVC (rbf)            Accuracy: 0.556\n",
      "  voting_clf           Accuracy: 0.558\n",
      "\n",
      "=== classical group ===\n",
      "n_samples: 426\n",
      "  AdaBoost             Accuracy: 0.542\n",
      "  Random_forest        Accuracy: 0.561\n",
      "  Gradient Boosting    Accuracy: 0.538\n",
      "  Decision Tree        Accuracy: 0.502\n",
      "  SVC (poly)           Accuracy: 0.507\n",
      "  SVC (rbf)            Accuracy: 0.531\n",
      "  voting_clf           Accuracy: 0.521\n"
     ]
    }
   ],
   "source": [
    "#  Evaluate\n",
    "for grp_name, X_sub, y_sub in [\n",
    "    (\"bullet\",    X_test_bullet,  y_test_bullet),\n",
    "    (\"blitz\", X_test_blitz,  y_test_blitz),\n",
    "    (\"rapid\",  X_test_rapid, y_test_rapid),\n",
    "    (\"classical\",  X_test_classical, y_test_classical),\n",
    "]:\n",
    "    print(f\"\\n=== {grp_name} group ===\")\n",
    "    print(\"n_samples:\", len(y_sub))\n",
    "    for model, name in zip(models, model_names):\n",
    "        y_pred = model.predict(X_sub)\n",
    "        acc    = accuracy_score(y_sub, y_pred)\n",
    "        print(f\"  {name:<20} Accuracy: {acc:.3f}\")"
   ]
  }
 ],
 "metadata": {
  "kernelspec": {
   "display_name": "Python 3 (ipykernel)",
   "language": "python",
   "name": "python3"
  },
  "language_info": {
   "codemirror_mode": {
    "name": "ipython",
    "version": 3
   },
   "file_extension": ".py",
   "mimetype": "text/x-python",
   "name": "python",
   "nbconvert_exporter": "python",
   "pygments_lexer": "ipython3",
   "version": "3.9.7"
  }
 },
 "nbformat": 4,
 "nbformat_minor": 5
}
