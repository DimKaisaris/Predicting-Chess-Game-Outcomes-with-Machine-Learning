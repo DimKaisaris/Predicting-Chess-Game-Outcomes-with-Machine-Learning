{
 "cells": [
  {
   "cell_type": "markdown",
   "id": "cab56bfa",
   "metadata": {},
   "source": [
    "# BaggingClassifier"
   ]
  },
  {
   "cell_type": "code",
   "execution_count": 1,
   "id": "c970ac47",
   "metadata": {},
   "outputs": [
    {
     "data": {
      "text/html": [
       "<style>.container { width:90% !important; }</style>"
      ],
      "text/plain": [
       "<IPython.core.display.HTML object>"
      ]
     },
     "metadata": {},
     "output_type": "display_data"
    }
   ],
   "source": [
    "# increase the width of the notebook\n",
    "from IPython.display import display, HTML, Markdown\n",
    "\n",
    "display(HTML(\"<style>.container { width:90% !important; }</style>\"))"
   ]
  },
  {
   "cell_type": "code",
   "execution_count": 2,
   "id": "5de8885b",
   "metadata": {},
   "outputs": [],
   "source": [
    "import pandas as pd\n",
    "from sklearn.compose import ColumnTransformer\n",
    "from sklearn.preprocessing import StandardScaler, OneHotEncoder\n",
    "from sklearn.model_selection import GridSearchCV\n",
    "from sklearn.metrics import accuracy_score, classification_report\n",
    "from sklearn.ensemble import BaggingClassifier\n",
    "from sklearn.tree import DecisionTreeClassifier"
   ]
  },
  {
   "cell_type": "code",
   "execution_count": 3,
   "id": "c0720d6d",
   "metadata": {},
   "outputs": [],
   "source": [
    "# Load data\n",
    "train = pd.read_csv(\"train.csv\")\n",
    "test = pd.read_csv(\"test.csv\")\n",
    "\n",
    "y_train = train[\"Score\"]\n",
    "y_test = test[\"Score\"]\n",
    "\n",
    "X_train = train.drop(\"Score\", axis=1)\n",
    "X_test = test.drop(\"Score\", axis=1)"
   ]
  },
  {
   "cell_type": "markdown",
   "id": "b056ab04",
   "metadata": {},
   "source": [
    "## Transformations"
   ]
  },
  {
   "cell_type": "code",
   "execution_count": 4,
   "id": "5f751d65",
   "metadata": {},
   "outputs": [],
   "source": [
    "from sklearn.pipeline import Pipeline"
   ]
  },
  {
   "cell_type": "code",
   "execution_count": 5,
   "id": "7d0b7f29",
   "metadata": {},
   "outputs": [],
   "source": [
    "#Preprocessing pipelines\n",
    "numeric_features = [\"WhiteElo\", \"EloDif\"]\n",
    "categorical_features = [\"Opening_name\", \"Time_format\", \"Increment_binary\"]\n",
    "\n",
    "numeric_transformer = Pipeline([\n",
    "    (\"scaler\", StandardScaler())\n",
    "])\n",
    "categorical_transformer = Pipeline([\n",
    "    (\"onehot\", OneHotEncoder(handle_unknown=\"ignore\"))\n",
    "])\n",
    "\n",
    "preprocessor = ColumnTransformer([\n",
    "    (\"num\", numeric_transformer, numeric_features),\n",
    "    (\"cat\", categorical_transformer, categorical_features)\n",
    "])"
   ]
  },
  {
   "cell_type": "code",
   "execution_count": 6,
   "id": "b8b59832",
   "metadata": {},
   "outputs": [],
   "source": [
    "X_train_transformed = preprocessor.fit_transform(X_train)\n",
    "X_test_transformed  = preprocessor.transform(X_test)"
   ]
  },
  {
   "cell_type": "markdown",
   "id": "f16f13b5",
   "metadata": {},
   "source": [
    "## Train"
   ]
  },
  {
   "cell_type": "code",
   "execution_count": 7,
   "id": "672634b5",
   "metadata": {},
   "outputs": [],
   "source": [
    "dt = DecisionTreeClassifier(criterion='entropy', random_state=42)"
   ]
  },
  {
   "cell_type": "code",
   "execution_count": 8,
   "id": "be810af5",
   "metadata": {},
   "outputs": [],
   "source": [
    "bag_svm = BaggingClassifier(base_estimator=dt , random_state=42)"
   ]
  },
  {
   "cell_type": "code",
   "execution_count": 9,
   "id": "975304a3",
   "metadata": {},
   "outputs": [],
   "source": [
    "param_grid_bag = {\n",
    "    'n_estimators': [100, 200],\n",
    "    'max_samples':  [0.6,  1.0],       \n",
    "    'max_features': [0.6,  1.0],\n",
    "    'bootstrap':  [True, False]\n",
    "}"
   ]
  },
  {
   "cell_type": "code",
   "execution_count": 10,
   "id": "a29410ec",
   "metadata": {},
   "outputs": [],
   "source": [
    "#  Wrap in a GridSearchCV\n",
    "grid_search_bag = GridSearchCV(\n",
    "    bag_svm,\n",
    "    param_grid_bag,\n",
    "    cv=3,\n",
    "    scoring='accuracy',\n",
    "    n_jobs=-1,\n",
    ")"
   ]
  },
  {
   "cell_type": "code",
   "execution_count": 11,
   "id": "1a81878e",
   "metadata": {},
   "outputs": [
    {
     "data": {
      "text/plain": [
       "GridSearchCV(cv=3,\n",
       "             estimator=BaggingClassifier(base_estimator=DecisionTreeClassifier(criterion='entropy',\n",
       "                                                                               random_state=42),\n",
       "                                         random_state=42),\n",
       "             n_jobs=-1,\n",
       "             param_grid={'bootstrap': [True, False], 'max_features': [0.6, 1.0],\n",
       "                         'max_samples': [0.6, 1.0],\n",
       "                         'n_estimators': [100, 200]},\n",
       "             scoring='accuracy')"
      ]
     },
     "execution_count": 11,
     "metadata": {},
     "output_type": "execute_result"
    }
   ],
   "source": [
    "#  Fit on preprocessed training data\n",
    "grid_search_bag.fit(X_train_transformed, y_train)"
   ]
  },
  {
   "cell_type": "code",
   "execution_count": 12,
   "id": "10aa1ec3",
   "metadata": {},
   "outputs": [
    {
     "name": "stdout",
     "output_type": "stream",
     "text": [
      "Best Bagging: {'bootstrap': True, 'max_features': 0.6, 'max_samples': 0.6, 'n_estimators': 200}\n",
      "Best CV accuracy: 0.523\n"
     ]
    }
   ],
   "source": [
    "# Inspect the best settings\n",
    "print(\"Best Bagging:\", grid_search_bag.best_params_)\n",
    "print(\"Best CV accuracy: {:.3f}\".format(grid_search_bag.best_score_))"
   ]
  },
  {
   "cell_type": "code",
   "execution_count": 13,
   "id": "53ab8a16",
   "metadata": {},
   "outputs": [
    {
     "name": "stdout",
     "output_type": "stream",
     "text": [
      "Test accuracy (Bagging + SVM): 0.517\n",
      "\n",
      "Classification Report:\n",
      "               precision    recall  f1-score   support\n",
      "\n",
      "   Black Win       0.50      0.47      0.48      4524\n",
      "        Draw       0.00      0.00      0.00       566\n",
      "   White Win       0.53      0.62      0.57      4910\n",
      "\n",
      "    accuracy                           0.52     10000\n",
      "   macro avg       0.34      0.36      0.35     10000\n",
      "weighted avg       0.49      0.52      0.50     10000\n",
      "\n"
     ]
    },
    {
     "name": "stderr",
     "output_type": "stream",
     "text": [
      "C:\\Users\\dimit\\anaconda3\\lib\\site-packages\\sklearn\\metrics\\_classification.py:1248: UndefinedMetricWarning: Precision and F-score are ill-defined and being set to 0.0 in labels with no predicted samples. Use `zero_division` parameter to control this behavior.\n",
      "  _warn_prf(average, modifier, msg_start, len(result))\n",
      "C:\\Users\\dimit\\anaconda3\\lib\\site-packages\\sklearn\\metrics\\_classification.py:1248: UndefinedMetricWarning: Precision and F-score are ill-defined and being set to 0.0 in labels with no predicted samples. Use `zero_division` parameter to control this behavior.\n",
      "  _warn_prf(average, modifier, msg_start, len(result))\n",
      "C:\\Users\\dimit\\anaconda3\\lib\\site-packages\\sklearn\\metrics\\_classification.py:1248: UndefinedMetricWarning: Precision and F-score are ill-defined and being set to 0.0 in labels with no predicted samples. Use `zero_division` parameter to control this behavior.\n",
      "  _warn_prf(average, modifier, msg_start, len(result))\n"
     ]
    }
   ],
   "source": [
    "# Evaluate on test set\n",
    "y_pred_bag = grid_search_bag.predict(X_test_transformed)\n",
    "print(\"Test accuracy (Bagging): {:.3f}\".format(accuracy_score(y_test, y_pred_bag)))\n",
    "print(\"\\nClassification Report:\\n\", classification_report(y_test, y_pred_bag))"
   ]
  },
  {
   "cell_type": "markdown",
   "id": "d157408f",
   "metadata": {},
   "source": [
    "### The Bagging Classifier achieved an accuracy of 0.517, which is the lowest performance we have observed across all the models tested."
   ]
  }
 ],
 "metadata": {
  "kernelspec": {
   "display_name": "Python 3 (ipykernel)",
   "language": "python",
   "name": "python3"
  },
  "language_info": {
   "codemirror_mode": {
    "name": "ipython",
    "version": 3
   },
   "file_extension": ".py",
   "mimetype": "text/x-python",
   "name": "python",
   "nbconvert_exporter": "python",
   "pygments_lexer": "ipython3",
   "version": "3.9.7"
  }
 },
 "nbformat": 4,
 "nbformat_minor": 5
}
