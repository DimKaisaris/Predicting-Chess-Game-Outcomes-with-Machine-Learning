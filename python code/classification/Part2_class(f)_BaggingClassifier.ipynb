{
 "cells": [
  {
   "cell_type": "markdown",
   "id": "005081f2-7035-4e8a-a085-a458afbc1d53",
   "metadata": {},
   "source": [
    "# BaggingClassifier"
   ]
  },
  {
   "cell_type": "code",
   "execution_count": 1,
   "id": "17429fb5-e8ac-4401-8f2b-73d0697bd133",
   "metadata": {},
   "outputs": [
    {
     "data": {
      "text/html": [
       "<style>.container { width:90% !important; }</style>"
      ],
      "text/plain": [
       "<IPython.core.display.HTML object>"
      ]
     },
     "metadata": {},
     "output_type": "display_data"
    }
   ],
   "source": [
    "# increase the width of the notebook\n",
    "from IPython.display import display, HTML, Markdown\n",
    "display(HTML(\"<style>.container { width:90% !important; }</style>\"))\n",
    "\n",
    "import pandas as pd\n",
    "from sklearn.compose import ColumnTransformer\n",
    "from sklearn.preprocessing import StandardScaler, OneHotEncoder\n",
    "from sklearn.pipeline import Pipeline\n",
    "from sklearn.model_selection import GridSearchCV\n",
    "from sklearn.metrics import accuracy_score, classification_report\n",
    "from sklearn.ensemble import BaggingClassifier\n",
    "from sklearn.tree import DecisionTreeClassifier\n",
    "import joblib"
   ]
  },
  {
   "cell_type": "code",
   "execution_count": 2,
   "id": "8bb0cb86-c09d-49a9-8a1c-51ceb1b3c99a",
   "metadata": {},
   "outputs": [],
   "source": [
    "# Load data\n",
    "train = pd.read_csv(\"train.csv\")\n",
    "test = pd.read_csv(\"test.csv\")\n",
    "\n",
    "y_train = train[\"Score\"]\n",
    "y_test = test[\"Score\"]\n",
    "\n",
    "X_train = train.drop(\"Score\", axis=1)\n",
    "X_test = test.drop(\"Score\", axis=1)"
   ]
  },
  {
   "cell_type": "markdown",
   "id": "b4e158e1-8e2d-4d72-9256-d814d9cf04e6",
   "metadata": {},
   "source": [
    "## Transformations"
   ]
  },
  {
   "cell_type": "code",
   "execution_count": 3,
   "id": "2c5d663f-1e1e-4ee6-ad0c-d35b10f3f4d5",
   "metadata": {},
   "outputs": [],
   "source": [
    "# Preprocessing setup\n",
    "numeric_features = [\"WhiteElo\", \"EloDif\"]\n",
    "categorical_features = [\"Opening_name\", \"Time_format\", \"Increment_binary\"]\n",
    "\n",
    "numeric_transformer = Pipeline([\n",
    "    (\"scaler\", StandardScaler())\n",
    "])\n",
    "categorical_transformer = Pipeline([\n",
    "    (\"onehot\", OneHotEncoder(handle_unknown=\"ignore\"))\n",
    "])\n",
    "\n",
    "preprocessor = ColumnTransformer([\n",
    "    (\"num\", numeric_transformer, numeric_features),\n",
    "    (\"cat\", categorical_transformer, categorical_features)\n",
    "])"
   ]
  },
  {
   "cell_type": "markdown",
   "id": "8c802ba3-d0bb-449e-9e92-ea7ec71a5939",
   "metadata": {},
   "source": [
    "## Base estimator and bagging classifier"
   ]
  },
  {
   "cell_type": "code",
   "execution_count": 4,
   "id": "7582791c-3b07-4c93-9c04-6f885a775c57",
   "metadata": {},
   "outputs": [
    {
     "name": "stdout",
     "output_type": "stream",
     "text": [
      "Best Bagging: {'classifier__bootstrap': True, 'classifier__max_features': 0.6, 'classifier__max_samples': 0.6, 'classifier__n_estimators': 100}\n",
      "Best CV accuracy: 0.523\n"
     ]
    }
   ],
   "source": [
    "dt = DecisionTreeClassifier(criterion='entropy', random_state=42)\n",
    "bagging_model = BaggingClassifier(estimator=dt, random_state=42)\n",
    "\n",
    "# Full pipeline with preprocessing\n",
    "pipe_bag = Pipeline([\n",
    "    (\"preprocessor\", preprocessor),\n",
    "    (\"classifier\", bagging_model)\n",
    "])\n",
    "\n",
    "# Hyperparameter grid\n",
    "param_grid_bag = {\n",
    "    'classifier__n_estimators': [100, 200],\n",
    "    'classifier__max_samples':  [0.6, 1.0],\n",
    "    'classifier__max_features': [0.6, 1.0],\n",
    "    'classifier__bootstrap':    [True, False]\n",
    "}\n",
    "\n",
    "# Grid SearchCV\n",
    "grid_search_bag = GridSearchCV(\n",
    "    pipe_bag,\n",
    "    param_grid=param_grid_bag,\n",
    "    cv=3,\n",
    "    scoring='accuracy',\n",
    "    n_jobs=-1\n",
    ")\n",
    "\n",
    "grid_search_bag.fit(X_train, y_train)\n",
    "\n",
    "# Best settings\n",
    "print(\"Best Bagging:\", grid_search_bag.best_params_)\n",
    "print(\"Best CV accuracy: {:.3f}\".format(grid_search_bag.best_score_))"
   ]
  },
  {
   "cell_type": "code",
   "execution_count": 5,
   "id": "e8f1ff65-43cc-4bc9-95d4-536ea2768f03",
   "metadata": {},
   "outputs": [
    {
     "name": "stdout",
     "output_type": "stream",
     "text": [
      "Test accuracy (Bagging): 0.517\n",
      "\n",
      "Classification Report:\n",
      "               precision    recall  f1-score   support\n",
      "\n",
      "   Black Win       0.50      0.47      0.49      4524\n",
      "        Draw       0.00      0.00      0.00       566\n",
      "   White Win       0.53      0.62      0.57      4910\n",
      "\n",
      "    accuracy                           0.52     10000\n",
      "   macro avg       0.34      0.36      0.35     10000\n",
      "weighted avg       0.49      0.52      0.50     10000\n",
      "\n"
     ]
    },
    {
     "name": "stderr",
     "output_type": "stream",
     "text": [
      "E:\\Anaconda\\envs\\DAMA\\lib\\site-packages\\sklearn\\metrics\\_classification.py:1565: UndefinedMetricWarning: Precision is ill-defined and being set to 0.0 in labels with no predicted samples. Use `zero_division` parameter to control this behavior.\n",
      "  _warn_prf(average, modifier, f\"{metric.capitalize()} is\", len(result))\n",
      "E:\\Anaconda\\envs\\DAMA\\lib\\site-packages\\sklearn\\metrics\\_classification.py:1565: UndefinedMetricWarning: Precision is ill-defined and being set to 0.0 in labels with no predicted samples. Use `zero_division` parameter to control this behavior.\n",
      "  _warn_prf(average, modifier, f\"{metric.capitalize()} is\", len(result))\n",
      "E:\\Anaconda\\envs\\DAMA\\lib\\site-packages\\sklearn\\metrics\\_classification.py:1565: UndefinedMetricWarning: Precision is ill-defined and being set to 0.0 in labels with no predicted samples. Use `zero_division` parameter to control this behavior.\n",
      "  _warn_prf(average, modifier, f\"{metric.capitalize()} is\", len(result))\n"
     ]
    }
   ],
   "source": [
    "# Evaluate on test set\n",
    "y_pred_bag = grid_search_bag.predict(X_test)\n",
    "print(\"Test accuracy (Bagging): {:.3f}\".format(accuracy_score(y_test, y_pred_bag)))\n",
    "print(\"\\nClassification Report:\\n\", classification_report(y_test, y_pred_bag))"
   ]
  },
  {
   "cell_type": "code",
   "execution_count": 6,
   "id": "8cd4f1f4-e065-423b-87be-285c2fa2f6b9",
   "metadata": {},
   "outputs": [
    {
     "data": {
      "text/plain": [
       "['best_bagging_model.joblib']"
      ]
     },
     "execution_count": 6,
     "metadata": {},
     "output_type": "execute_result"
    }
   ],
   "source": [
    "# Save the model\n",
    "joblib.dump(grid_search_bag.best_estimator_, 'best_bagging_model.joblib')"
   ]
  },
  {
   "cell_type": "markdown",
   "id": "6220942b-4018-4f86-a863-5f1eb46fbba7",
   "metadata": {},
   "source": [
    "### The Bagging Classifier achieved an accuracy of 0.517, which is the lowest performance we have observed across all the models tested."
   ]
  }
 ],
 "metadata": {
  "kernelspec": {
   "display_name": "Python (DAMA)",
   "language": "python",
   "name": "dama"
  },
  "language_info": {
   "codemirror_mode": {
    "name": "ipython",
    "version": 3
   },
   "file_extension": ".py",
   "mimetype": "text/x-python",
   "name": "python",
   "nbconvert_exporter": "python",
   "pygments_lexer": "ipython3",
   "version": "3.10.16"
  }
 },
 "nbformat": 4,
 "nbformat_minor": 5
}
